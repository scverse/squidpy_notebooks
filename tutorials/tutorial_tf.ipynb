{
 "cells": [
  {
   "cell_type": "code",
   "execution_count": 39,
   "metadata": {},
   "outputs": [
    {
     "name": "stdout",
     "output_type": "stream",
     "text": [
      "scanpy==1.6.0 anndata==0.7.5 umap==0.4.6 numpy==1.18.5 scipy==1.5.4 pandas==1.1.4 scikit-learn==0.23.2 statsmodels==0.12.1 python-igraph==0.8.3 leidenalg==0.8.2\n",
      "squidpy==0.0.0\n",
      "tensorflow==2.3.0-dev20200610\n",
      "The autoreload extension is already loaded. To reload it, use:\n",
      "  %reload_ext autoreload\n",
      "The lab_black extension is already loaded. To reload it, use:\n",
      "  %reload_ext lab_black\n"
     ]
    }
   ],
   "source": [
    "import scanpy as sc\n",
    "import squidpy as sq\n",
    "import matplotlib.pyplot as plt\n",
    "import numpy as np\n",
    "\n",
    "from sklearn.model_selection import train_test_split\n",
    "from sklearn.preprocessing import LabelEncoder\n",
    "import tensorflow as tf\n",
    "from tensorflow.keras.layers.experimental import preprocessing\n",
    "\n",
    "sc.logging.print_header()\n",
    "print(f\"squidpy=={sq.__version__}\")\n",
    "print(f\"tensorflow=={tf.__version__}\")\n",
    "\n",
    "%load_ext autoreload\n",
    "%autoreload 2\n",
    "%load_ext lab_black"
   ]
  },
  {
   "cell_type": "code",
   "execution_count": 2,
   "metadata": {},
   "outputs": [],
   "source": [
    "adata = sq.datasets.visium_hne_adata()\n",
    "img = sq.datasets.visium_hne_image()"
   ]
  },
  {
   "cell_type": "code",
   "execution_count": 3,
   "metadata": {},
   "outputs": [],
   "source": [
    "# spots\n",
    "spots = img.generate_spot_crops(adata)\n",
    "spot_list = [s[0].data.to_array().values.squeeze(axis=0) for s in spots]"
   ]
  },
  {
   "cell_type": "code",
   "execution_count": 56,
   "metadata": {},
   "outputs": [],
   "source": [
    "# categories\n",
    "cluster_labels = adata.obs[\"cluster\"]\n",
    "classes = cluster_labels.unique().shape[0]\n",
    "cluster_map = {v: i for i, v in enumerate(cluster_labels.cat.categories.values)}\n",
    "labels = np.array([cluster_map[c] for c in cluster_labels], dtype=np.uint8)\n",
    "labels_ohe = tf.one_hot(labels, depth=classes, dtype=tf.float32).numpy()"
   ]
  },
  {
   "cell_type": "code",
   "execution_count": 59,
   "metadata": {},
   "outputs": [],
   "source": [
    "# split labels\n",
    "train_idx, test_idx = train_test_split(\n",
    "    np.arange(cluster_labels.shape[0]),\n",
    "    test_size=0.2,\n",
    "    stratify=cluster_labels,\n",
    "    shuffle=True,\n",
    "    random_state=42,\n",
    ")"
   ]
  },
  {
   "cell_type": "code",
   "execution_count": 60,
   "metadata": {},
   "outputs": [
    {
     "name": "stdout",
     "output_type": "stream",
     "text": [
      "Train set : \n",
      " Cortex_1                         227\n",
      "Thalamus_1                       209\n",
      "Cortex_2                         206\n",
      "Cortex_3                         195\n",
      "Fiber_tract                      181\n",
      "Hippocampus                      178\n",
      "Hypothalamus_1                   166\n",
      "Thalamus_2                       154\n",
      "Cortex_4                         131\n",
      "Striatum                         122\n",
      "Hypothalamus_2                   106\n",
      "Cortex_5                         103\n",
      "Lateral_ventricle                 84\n",
      "Pyramidal_layer_dentate_gyrus     54\n",
      "Pyramidal_layer                   34\n",
      "Name: cluster, dtype: int64 \n",
      " \n",
      " Test set: \n",
      " Cortex_1                         57\n",
      "Thalamus_1                       52\n",
      "Cortex_2                         51\n",
      "Cortex_3                         49\n",
      "Fiber_tract                      45\n",
      "Hippocampus                      44\n",
      "Hypothalamus_1                   42\n",
      "Thalamus_2                       38\n",
      "Cortex_4                         33\n",
      "Striatum                         31\n",
      "Hypothalamus_2                   27\n",
      "Cortex_5                         26\n",
      "Lateral_ventricle                21\n",
      "Pyramidal_layer_dentate_gyrus    14\n",
      "Pyramidal_layer                   8\n",
      "Name: cluster, dtype: int64\n"
     ]
    }
   ],
   "source": [
    "print(\n",
    "    f\"Train set : \\n {adata[train_idx, :].obs.cluster.value_counts()} \\n \\n Test set: \\n {adata[test_idx, :].obs.cluster.value_counts()}\"\n",
    ")"
   ]
  },
  {
   "cell_type": "code",
   "execution_count": 61,
   "metadata": {},
   "outputs": [],
   "source": [
    "def create_dataset(x: list, y: np.ndarray, idx: list):\n",
    "    ds = tf.data.Dataset.from_tensor_slices(\n",
    "        ([x[i] for i in idx], y[idx, :])\n",
    "    )  # create dataset from lists\n",
    "    ds = ds.shuffle(1000, reshuffle_each_iteration=True)  # shuffle\n",
    "    ds = ds.batch(64)  # create batches\n",
    "    # Create a data augmentation stage with horizontal flipping, rotations, zooms\n",
    "    data_processing = tf.keras.Sequential(\n",
    "        [\n",
    "            preprocessing.Resizing(32, 32),\n",
    "            preprocessing.Rescaling(1.0 / 255),\n",
    "            preprocessing.RandomFlip(),\n",
    "            preprocessing.RandomRotation(0.5),\n",
    "            preprocessing.RandomContrast(0.5),\n",
    "        ]\n",
    "    )\n",
    "    ds = ds.map(lambda x, y: (data_processing(x), y))\n",
    "\n",
    "    return ds"
   ]
  },
  {
   "cell_type": "code",
   "execution_count": 62,
   "metadata": {},
   "outputs": [],
   "source": [
    "train_ds = create_dataset(spot_list, labels_ohe, train_idx)\n",
    "test_ds = create_dataset(spot_list, labels_ohe, test_idx)"
   ]
  },
  {
   "cell_type": "code",
   "execution_count": 63,
   "metadata": {},
   "outputs": [],
   "source": [
    "# Create a model\n",
    "input_shape = (32, 32, 3)\n",
    "\n",
    "inputs = tf.keras.layers.Input(shape=input_shape)\n",
    "outputs = tf.keras.applications.ResNet50(\n",
    "    weights=None, input_shape=input_shape, classes=classes\n",
    ")(inputs)\n",
    "model = tf.keras.Model(inputs, outputs)\n",
    "model.compile(\n",
    "    optimizer=tf.keras.optimizers.Adam(learning_rate=1e-4),\n",
    "    loss=tf.keras.losses.CategoricalCrossentropy(from_logits=True),\n",
    ")"
   ]
  },
  {
   "cell_type": "code",
   "execution_count": 64,
   "metadata": {},
   "outputs": [
    {
     "name": "stdout",
     "output_type": "stream",
     "text": [
      "Epoch 1/10\n",
      "34/34 [==============================] - 55s 2s/step - loss: 2.7006 - val_loss: 2.7000\n",
      "Epoch 2/10\n",
      "34/34 [==============================] - 53s 2s/step - loss: 2.6811 - val_loss: 2.6942\n",
      "Epoch 3/10\n",
      "34/34 [==============================] - 56s 2s/step - loss: 2.6876 - val_loss: 2.6911\n",
      "Epoch 4/10\n",
      "34/34 [==============================] - 56s 2s/step - loss: 2.6798 - val_loss: 2.6892\n",
      "Epoch 5/10\n",
      "34/34 [==============================] - 55s 2s/step - loss: 2.6812 - val_loss: 2.6877\n",
      "Epoch 6/10\n",
      "34/34 [==============================] - 56s 2s/step - loss: 2.6791 - val_loss: 2.6860\n",
      "Epoch 7/10\n",
      "34/34 [==============================] - 56s 2s/step - loss: 2.6737 - val_loss: 2.6979\n",
      "Epoch 8/10\n",
      "34/34 [==============================] - 55s 2s/step - loss: 2.6635 - val_loss: 2.7084\n",
      "Epoch 9/10\n",
      "34/34 [==============================] - 57s 2s/step - loss: 2.6717 - val_loss: 2.7105\n",
      "Epoch 10/10\n",
      "34/34 [==============================] - 56s 2s/step - loss: 2.6667 - val_loss: 2.7105\n"
     ]
    },
    {
     "data": {
      "text/plain": [
       "<tensorflow.python.keras.callbacks.History at 0x7ffc2b3dff70>"
      ]
     },
     "execution_count": 64,
     "metadata": {},
     "output_type": "execute_result"
    }
   ],
   "source": [
    "model.fit(train_ds, validation_data=test_ds, epochs=10)"
   ]
  }
 ],
 "metadata": {
  "kernelspec": {
   "display_name": "Python 3",
   "language": "python",
   "name": "python3"
  },
  "language_info": {
   "codemirror_mode": {
    "name": "ipython",
    "version": 3
   },
   "file_extension": ".py",
   "mimetype": "text/x-python",
   "name": "python",
   "nbconvert_exporter": "python",
   "pygments_lexer": "ipython3",
   "version": "3.8.5"
  }
 },
 "nbformat": 4,
 "nbformat_minor": 4
}
