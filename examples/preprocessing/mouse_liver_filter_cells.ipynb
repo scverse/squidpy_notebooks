{
 "cells": [
  {
   "cell_type": "markdown",
   "id": "aa15918e",
   "metadata": {},
   "source": [
    "# Filtering Cells in a MIBI-TOF Dataset\n",
    "\n",
    "This notebook demonstrates how to apply cell filtering to a real-world dataset from Molecular Cartography (SPArrOW output). We will download the data, load it as a `SpatialData` object, and then use `squidpy.pp.filter_cells` to remove cells based on specific criteria.\n",
    "\n",
    "The primary goal is to showcase a practical application of the filtering function on a dataset with multiple fields of view (coordinate systems). We will visualize the data both before and after filtering, comparing the results for different regions of interest within the dataset to highlight the effects of the `filter_cells` operation.\n",
    "\n",
    "## Downloading the dataset\n",
    "\n",
    "```\n",
    "!wget https://s3.embl.de/spatialdata/spatialdata-sandbox/mouse_liver.zip\n",
    "!unzip mouse_liver.zip\n",
    "!mv data.zarr mouse_liver.zarr\n",
    "```\n",
    "\n",
    "## Dataset References\n",
    "\n",
    "- Pollaris, Lotte, et al. “SPArrOW: a flexible, interactive and scalable pipeline for spatial transcriptomics analysis.” bioRxiv (2024) doi:10.1101/2024.07.04.601829"
   ]
  },
  {
   "cell_type": "code",
   "execution_count": 1,
   "id": "60db05df",
   "metadata": {},
   "outputs": [
    {
     "name": "stderr",
     "output_type": "stream",
     "text": [
      "/Users/selman/miniforge3/envs/squidpy/lib/python3.11/site-packages/dask/dataframe/__init__.py:31: FutureWarning: The legacy Dask DataFrame implementation is deprecated and will be removed in a future version. Set the configuration option `dataframe.query-planning` to `True` or None to enable the new Dask Dataframe implementation and silence this warning.\n",
      "  warnings.warn(\n"
     ]
    }
   ],
   "source": [
    "import matplotlib.pyplot as plt\n",
    "import spatialdata as sd\n",
    "import spatialdata_plot as _\n",
    "\n",
    "import squidpy as sq"
   ]
  },
  {
   "cell_type": "code",
   "execution_count": 2,
   "id": "5249bde5",
   "metadata": {},
   "outputs": [
    {
     "name": "stderr",
     "output_type": "stream",
     "text": [
      "/Users/selman/miniforge3/envs/squidpy/lib/python3.11/site-packages/zarr/creation.py:610: UserWarning: ignoring keyword argument 'read_only'\n",
      "  compressor, fill_value = _kwargs_compat(compressor, fill_value, kwargs)\n"
     ]
    },
    {
     "data": {
      "text/plain": [
       "SpatialData object, with associated Zarr store: /Users/selman/projects/squidpy/docs/notebooks/examples/preprocessing/mouse_liver.zarr\n",
       "├── Images\n",
       "│     └── 'raw_image': DataTree[cyx] (1, 6432, 6432), (1, 1608, 1608)\n",
       "├── Labels\n",
       "│     └── 'segmentation_mask': DataArray[yx] (6432, 6432)\n",
       "├── Points\n",
       "│     └── 'transcripts': DataFrame with shape: (<Delayed>, 3) (2D points)\n",
       "├── Shapes\n",
       "│     └── 'nucleus_boundaries': GeoDataFrame shape: (3375, 1) (2D shapes)\n",
       "└── Tables\n",
       "      └── 'table': AnnData (3375, 99)\n",
       "with coordinate systems:\n",
       "    ▸ 'global', with elements:\n",
       "        raw_image (Images), segmentation_mask (Labels), transcripts (Points), nucleus_boundaries (Shapes)"
      ]
     },
     "execution_count": 2,
     "metadata": {},
     "output_type": "execute_result"
    }
   ],
   "source": [
    "mouse_liver_sdata = sd.read_zarr(\"mouse_liver.zarr\")\n",
    "mouse_liver_sdata"
   ]
  },
  {
   "cell_type": "code",
   "execution_count": 3,
   "id": "af18b0d3",
   "metadata": {},
   "outputs": [
    {
     "data": {
      "text/plain": [
       "matrix([[   828,    668,    531,    268,    211,   1686,    213,    279,\n",
       "            230,      5,    177,    289,    138,   1490,    408,   2154,\n",
       "            225,   1230,     25,    237,   3616,    557,     73,   2626,\n",
       "           2500,     43,    270,   1070,  69599,   4420,    240,   1863,\n",
       "            151,    197,     71,      5,   2383,  53837,     10,   2720,\n",
       "          13679,    361,   3521,   3160,     18,      9,  11342,   1223,\n",
       "           2256,    259,    321,    319,      7,    173,     70,    140,\n",
       "            366,    581,   1626,    109,    153,    181,    972,    104,\n",
       "            151,    766,     73,  10847,    313,     14, 126502,    359,\n",
       "            565,   3732,   1953,   7838,   1292,    140,  10927,    304,\n",
       "            276,   2218,   3503,   1428,    252,    392,   7172,   7241,\n",
       "             78,     94,    233,     40,      1,    511,   1138,    161,\n",
       "             52,     74,     71]], dtype=uint64)"
      ]
     },
     "execution_count": 3,
     "metadata": {},
     "output_type": "execute_result"
    }
   ],
   "source": [
    "mouse_liver_sdata['table'].X.sum(axis=0)"
   ]
  },
  {
   "cell_type": "code",
   "execution_count": 6,
   "id": "72c8435b",
   "metadata": {},
   "outputs": [
    {
     "name": "stdout",
     "output_type": "stream",
     "text": [
      "\u001b[33mWARNING \u001b[0m Creating a deepcopy of the SpatialData object, depending on the size of the object this can take a while. \n"
     ]
    },
    {
     "name": "stderr",
     "output_type": "stream",
     "text": [
      "/Users/selman/projects/spatialdata/src/spatialdata/_core/_elements.py:128: UserWarning: Key `table` already exists. Overwriting it in-memory.\n",
      "  self._check_key(key, self.keys(), self._shared_keys)\n",
      "/Users/selman/projects/spatialdata/src/spatialdata/_core/_elements.py:128: UserWarning: Key `table` already exists. Overwriting it in-memory.\n",
      "  self._check_key(key, self.keys(), self._shared_keys)\n",
      "/Users/selman/projects/spatialdata/src/spatialdata/_core/_elements.py:108: UserWarning: Key `nucleus_boundaries` already exists. Overwriting it in-memory.\n",
      "  self._check_key(key, self.keys(), self._shared_keys)\n",
      "/Users/selman/projects/spatialdata/src/spatialdata/_core/_elements.py:118: UserWarning: Key `transcripts` already exists. Overwriting it in-memory.\n",
      "  self._check_key(key, self.keys(), self._shared_keys)\n"
     ]
    },
    {
     "data": {
      "text/plain": [
       "SpatialData object\n",
       "├── Images\n",
       "│     └── 'raw_image': DataTree[cyx] (1, 6432, 6432), (1, 1608, 1608)\n",
       "├── Labels\n",
       "│     └── 'segmentation_mask': DataArray[yx] (6432, 6432)\n",
       "├── Points\n",
       "│     └── 'transcripts': DataFrame with shape: (<Delayed>, 4) (2D points)\n",
       "├── Shapes\n",
       "│     └── 'nucleus_boundaries': GeoDataFrame shape: (3268, 1) (2D shapes)\n",
       "└── Tables\n",
       "      └── 'table': AnnData (3268, 99)\n",
       "with coordinate systems:\n",
       "    ▸ 'global', with elements:\n",
       "        raw_image (Images), segmentation_mask (Labels), transcripts (Points), nucleus_boundaries (Shapes)"
      ]
     },
     "execution_count": 6,
     "metadata": {},
     "output_type": "execute_result"
    }
   ],
   "source": [
    "mouse_liver_sdata_filtered = sq.pp.filter_cells(mouse_liver_sdata, min_counts=10, inplace=False)\n",
    "mouse_liver_sdata_filtered"
   ]
  },
  {
   "cell_type": "code",
   "execution_count": 7,
   "id": "f9cd8e87",
   "metadata": {},
   "outputs": [
    {
     "name": "stderr",
     "output_type": "stream",
     "text": [
      "/Users/selman/miniforge3/envs/squidpy/lib/python3.11/site-packages/anndata/_core/anndata.py:381: FutureWarning: The dtype argument is deprecated and will be removed in late 2024.\n",
      "  warnings.warn(\n",
      "/Users/selman/miniforge3/envs/squidpy/lib/python3.11/site-packages/anndata/_core/aligned_df.py:68: ImplicitModificationWarning: Transforming to str index.\n",
      "  warnings.warn(\"Transforming to str index.\", ImplicitModificationWarning)\n"
     ]
    },
    {
     "name": "stdout",
     "output_type": "stream",
     "text": [
      "\u001b[34mINFO    \u001b[0m Using \u001b[32m'datashader'\u001b[0m backend with \u001b[32m'None'\u001b[0m as reduction method to speed up plotting. Depending on the         \n",
      "         reduction method, the value range of the plot might change. Set method to \u001b[32m'matplotlib'\u001b[0m do disable this    \n",
      "         behaviour.                                                                                                \n"
     ]
    },
    {
     "name": "stderr",
     "output_type": "stream",
     "text": [
      "/Users/selman/projects/spatialdata/src/spatialdata/_core/_elements.py:118: UserWarning: Key `transcripts` already exists. Overwriting it in-memory.\n",
      "  self._check_key(key, self.keys(), self._shared_keys)\n"
     ]
    },
    {
     "name": "stdout",
     "output_type": "stream",
     "text": [
      "\u001b[34mINFO    \u001b[0m Using \u001b[32m'datashader'\u001b[0m backend with \u001b[32m'None'\u001b[0m as reduction method to speed up plotting. Depending on the         \n",
      "         reduction method, the value range of the plot might change. Set method to \u001b[32m'matplotlib'\u001b[0m do disable this    \n",
      "         behaviour.                                                                                                \n"
     ]
    },
    {
     "name": "stderr",
     "output_type": "stream",
     "text": [
      "/Users/selman/miniforge3/envs/squidpy/lib/python3.11/site-packages/anndata/_core/anndata.py:381: FutureWarning: The dtype argument is deprecated and will be removed in late 2024.\n",
      "  warnings.warn(\n",
      "/Users/selman/miniforge3/envs/squidpy/lib/python3.11/site-packages/anndata/_core/aligned_df.py:68: ImplicitModificationWarning: Transforming to str index.\n",
      "  warnings.warn(\"Transforming to str index.\", ImplicitModificationWarning)\n",
      "/Users/selman/projects/spatialdata/src/spatialdata/_core/_elements.py:118: UserWarning: Key `transcripts` already exists. Overwriting it in-memory.\n",
      "  self._check_key(key, self.keys(), self._shared_keys)\n"
     ]
    },
    {
     "data": {
      "image/png": "[encoded data removed]",
      "text/plain": [
       "<Figure size 800x400 with 2 Axes>"
      ]
     },
     "metadata": {},
     "output_type": "display_data"
    }
   ],
   "source": [
    "fig, axs = plt.subplots(ncols=2, nrows=1, figsize=(8, 4))\n",
    "\n",
    "mouse_liver_sdata_filtered.pl.render_points().pl.show(ax=axs[0], title=\"filtered\")\n",
    "mouse_liver_sdata.pl.render_points().pl.show(ax=axs[1], title=\"unfiltered\")\n",
    "\n",
    "plt.tight_layout()\n",
    "\n"
   ]
  },
  {
   "cell_type": "code",
   "execution_count": null,
   "id": "08f892a8",
   "metadata": {},
   "outputs": [],
   "source": []
  }
 ],
 "metadata": {
  "kernelspec": {
   "display_name": "squidpy",
   "language": "python",
   "name": "python3"
  },
  "language_info": {
   "codemirror_mode": {
    "name": "ipython",
    "version": 3
   },
   "file_extension": ".py",
   "mimetype": "text/x-python",
   "name": "python",
   "nbconvert_exporter": "python",
   "pygments_lexer": "ipython3",
   "version": "3.11.11"
  }
 },
 "nbformat": 4,
 "nbformat_minor": 5
}
