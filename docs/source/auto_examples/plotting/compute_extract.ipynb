{
  "cells": [
    {
      "cell_type": "code",
      "execution_count": null,
      "metadata": {
        "collapsed": false
      },
      "outputs": [],
      "source": [
        "%matplotlib inline"
      ]
    },
    {
      "cell_type": "markdown",
      "metadata": {},
      "source": [
        "Plot features in adata.obsm\n===========================\n\nThis example shows how to use `squidpy.pl.extract` to plot features in\n`anndata.AnnData.obsm`.\n\nThis function is useful when a feature matrix is saved separately there\nand its features are therefore not accessible via standard `scanpy`\nplotting.\n\n::: {.seealso}\nSee `sphx_glr_auto_examples_image_compute_summary_features.py` for\ncomputing an example of such features.\n:::\n"
      ]
    },
    {
      "cell_type": "code",
      "execution_count": null,
      "metadata": {
        "collapsed": false
      },
      "outputs": [],
      "source": [
        "import scanpy as sc\nimport squidpy as sq\n\nadata = sq.datasets.slideseqv2()\nadata"
      ]
    },
    {
      "cell_type": "markdown",
      "metadata": {},
      "source": [
        "In this dataset, we have saved deconvolution results in\n`anndata.AnnData.obsm` and we would like to plot them with\n`scanpy.pl.spatial`.\n"
      ]
    },
    {
      "cell_type": "code",
      "execution_count": null,
      "metadata": {
        "collapsed": false
      },
      "outputs": [],
      "source": [
        "adata.obsm[\"deconvolution_results\"].head(10)"
      ]
    },
    {
      "cell_type": "markdown",
      "metadata": {},
      "source": [
        "Squidpy provides an easy wrapper that creates a temporary copy of the\nfeature matrix and pass it to `anndata.AnnData.obs` and makes it\ntherefore accessible for Scanpy plotting.\n"
      ]
    },
    {
      "cell_type": "code",
      "execution_count": null,
      "metadata": {
        "collapsed": false
      },
      "outputs": [],
      "source": [
        "sc.pl.spatial(\n    sq.pl.extract(adata, \"deconvolution_results\"),\n    color=[\"Astrocytes\", \"Mural\", \"CA1_CA2_CA3_Subiculum\"],\n    spot_size=30,\n)"
      ]
    }
  ],
  "metadata": {
    "kernelspec": {
      "display_name": "Python 3",
      "language": "python",
      "name": "python3"
    },
    "language_info": {
      "codemirror_mode": {
        "name": "ipython",
        "version": 3
      },
      "file_extension": ".py",
      "mimetype": "text/x-python",
      "name": "python",
      "nbconvert_exporter": "python",
      "pygments_lexer": "ipython3",
      "version": "3.8.10"
    }
  },
  "nbformat": 4,
  "nbformat_minor": 0
}