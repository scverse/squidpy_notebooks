{
  "cells": [
    {
      "cell_type": "code",
      "execution_count": null,
      "metadata": {
        "collapsed": false
      },
      "outputs": [],
      "source": [
        "%matplotlib inline"
      ]
    },
    {
      "cell_type": "markdown",
      "metadata": {},
      "source": [
        "# Plot segmentation masks\n\nThis example shows how to use `squidpy.pl.spatial_segment` to plot\nsegmentation masks and features in `anndata.AnnData`.\n\nThis plotting is useful when segmentation masks and underlying image are\navailable.\n\n::: seealso\nSee `sphx_glr_auto_examples_plotting_plot_scatter.py` for scatter plot.\n:::\n"
      ]
    },
    {
      "cell_type": "code",
      "execution_count": null,
      "metadata": {
        "collapsed": false
      },
      "outputs": [],
      "source": [
        "import squidpy as sq\n\nadata = sq.datasets.mibitof()\nadata.uns[\"spatial\"].keys()"
      ]
    },
    {
      "cell_type": "markdown",
      "metadata": {},
      "source": [
        "In this dataset we have 3 unique keys, which means that there are 3\nunique `` `library_id ``[. As detailed in\n:ref:\\`sphx_glr_auto_tutorials_tutorial_read_spatial.py]{.title-ref}, it\nmeans that there are 3 unique field of views (FOV) in this dataset. The\ninformation to link the library ids to the observations are stored in\n`adata.obs`.\n"
      ]
    },
    {
      "cell_type": "code",
      "execution_count": null,
      "metadata": {
        "collapsed": false
      },
      "outputs": [],
      "source": [
        "adata.obs"
      ]
    },
    {
      "cell_type": "markdown",
      "metadata": {},
      "source": [
        "Specifically, the key `` `library_id ``[ in\n:attr:\\`adata.obs]{.title-ref} contains the same unique values contained\nin `adata.uns`. We can visualize the 3 spatial dataset with\n`squidpy.pl.spatial_segment`.\n"
      ]
    },
    {
      "cell_type": "code",
      "execution_count": null,
      "metadata": {
        "collapsed": false
      },
      "outputs": [],
      "source": [
        "sq.pl.spatial_segment(adata, color=\"Cluster\", library_key=\"library_id\", seg_cell_id=\"cell_id\")"
      ]
    },
    {
      "cell_type": "markdown",
      "metadata": {},
      "source": [
        "There are several parameters that can be controlled. For instance, it is\npossible to plot segmentation masks as \\\"contours\\\", in order to\nvisualize the underlying image. Let\\'s visualize it for one specific\ncropped FOV.\n"
      ]
    },
    {
      "cell_type": "code",
      "execution_count": null,
      "metadata": {
        "collapsed": false
      },
      "outputs": [],
      "source": [
        "sq.pl.spatial_segment(\n    adata,\n    color=\"Cluster\",\n    library_key=\"library_id\",\n    library_id=\"point8\",\n    seg_cell_id=\"cell_id\",\n    seg_contourpx=10,\n    crop_coord=[(0, 0, 300, 300)],\n)"
      ]
    },
    {
      "cell_type": "markdown",
      "metadata": {},
      "source": [
        "It\\'s also possible to add an outline to better distinguish segmentation\nmasks\\' boundaries. Furthermore, the underlying image can be removed,\ngray scaled or single channels can be plotted.\n"
      ]
    },
    {
      "cell_type": "code",
      "execution_count": null,
      "metadata": {
        "collapsed": false
      },
      "outputs": [],
      "source": [
        "sq.pl.spatial_segment(\n    adata,\n    color=\"Cluster\",\n    groups=[\"Fibroblast\", \"Epithelial\"],\n    library_key=\"library_id\",\n    library_id=[\"point8\", \"point16\"],\n    seg_cell_id=\"cell_id\",\n    seg_outline=True,\n    img_channel=0,\n    img_cmap=\"magma\",\n)"
      ]
    },
    {
      "cell_type": "markdown",
      "metadata": {},
      "source": [
        "If groups of observations are plotted (as above), it\\'s possible to\nmodify whether to \\\"visualize\\\" the segmentation masks that do not\nbelong to any selected group. It is set as \\\"transparent\\\" by default\n(see above) but in cases where e.g. no image is present it can be useful\nto visualize them nonetheless\n"
      ]
    },
    {
      "cell_type": "code",
      "execution_count": null,
      "metadata": {
        "collapsed": false
      },
      "outputs": [],
      "source": [
        "sq.pl.spatial_segment(\n    adata,\n    color=\"Cluster\",\n    groups=[\"Fibroblast\", \"Epithelial\"],\n    library_key=\"library_id\",\n    seg_cell_id=\"cell_id\",\n    seg_outline=True,\n    img=False,\n    frameon=False,\n)"
      ]
    },
    {
      "cell_type": "markdown",
      "metadata": {},
      "source": [
        "Finally, a scale bar can be added, where size and pixel units must be\npassed. The size for this example are not the real values and are for\npurely visualization purposes.\n"
      ]
    },
    {
      "cell_type": "code",
      "execution_count": null,
      "metadata": {
        "collapsed": false
      },
      "outputs": [],
      "source": [
        "sq.pl.spatial_segment(\n    adata,\n    color=\"CD68\",\n    library_key=\"library_id\",\n    seg_cell_id=\"cell_id\",\n    img=False,\n    cmap=\"inferno\",\n    scalebar_dx=2.0,\n    scalebar_kwargs={\"scale_loc\": \"bottom\", \"location\": \"lower right\"},\n)"
      ]
    }
  ],
  "metadata": {
    "kernelspec": {
      "display_name": "Python 3",
      "language": "python",
      "name": "python3"
    },
    "language_info": {
      "codemirror_mode": {
        "name": "ipython",
        "version": 3
      },
      "file_extension": ".py",
      "mimetype": "text/x-python",
      "name": "python",
      "nbconvert_exporter": "python",
      "pygments_lexer": "ipython3",
      "version": "3.9.12"
    }
  },
  "nbformat": 4,
  "nbformat_minor": 0
}