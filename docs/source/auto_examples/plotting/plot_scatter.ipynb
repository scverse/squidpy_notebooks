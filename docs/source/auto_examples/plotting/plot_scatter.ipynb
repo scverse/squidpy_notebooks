{
  "cells": [
    {
      "cell_type": "code",
      "execution_count": null,
      "metadata": {
        "collapsed": false
      },
      "outputs": [],
      "source": [
        "%matplotlib inline"
      ]
    },
    {
      "cell_type": "markdown",
      "metadata": {},
      "source": [
        "# Plot scatter plot in spatial coordinates\n\nThis example shows how to use `squidpy.pl.spatial_scatter` to plot\nannotations and features stored in `anndata.AnnData`.\n\nThis plotting is useful when points and underlying image are available.\n\n::: seealso\nSee `sphx_glr_auto_examples_plotting_plot_segment.py` for segmentation\nmasks.\n:::\n"
      ]
    },
    {
      "cell_type": "code",
      "execution_count": null,
      "metadata": {
        "collapsed": false
      },
      "outputs": [],
      "source": [
        "import scanpy as sc\nimport anndata as ad\nimport squidpy as sq\n\nadata = sq.datasets.visium_hne_adata()"
      ]
    },
    {
      "cell_type": "markdown",
      "metadata": {},
      "source": [
        "We can take a quick look at the Visium dataset by plotting cluster label\nand gene expression of choice.\n"
      ]
    },
    {
      "cell_type": "code",
      "execution_count": null,
      "metadata": {
        "collapsed": false
      },
      "outputs": [],
      "source": [
        "sq.pl.spatial_scatter(adata, color=[\"Sox8\", \"cluster\"])"
      ]
    },
    {
      "cell_type": "markdown",
      "metadata": {},
      "source": [
        "`squidpy.pl.spatial_scatter` closely resembles `scanpy.pl.spatial` but\nit provides additional functionalities. For instance, with the\n`` `shape ``\\` argument it\\'s possible to plot polygons such as square\nor hexagons, a useful feature when technologies other than Visium are\nused, such as *Dbit-seq*. Furthermore, it\\'s also possible to plot a\nscale bar, where size and pixel units must be passed. The size for this\nexample are not the real values and are for purely visualization\npurposes.\n"
      ]
    },
    {
      "cell_type": "code",
      "execution_count": null,
      "metadata": {
        "collapsed": false
      },
      "outputs": [],
      "source": [
        "sq.pl.spatial_scatter(\n    adata,\n    color=[\"Sox8\", \"cluster\"],\n    crop_coord=[(1500, 1500, 3000, 3000)],\n    scalebar_dx=3.0,\n    scalebar_kwargs={\"scale_loc\": \"bottom\", \"location\": \"lower right\"},\n)"
      ]
    },
    {
      "cell_type": "markdown",
      "metadata": {},
      "source": [
        "A key feature of `squidpy.pl.spatial_scatter` is that it can handle\nmultiple slides datasets. For the purpose of showing this functionality,\nlet\\'s create a new `anndata.AnnData` with two Visium slides. We\\'ll\nalso build the spatial graph, to show the edge plotting functionality.\n"
      ]
    },
    {
      "cell_type": "code",
      "execution_count": null,
      "metadata": {
        "collapsed": false
      },
      "outputs": [],
      "source": [
        "sq.gr.spatial_neighbors(adata)\nadata2 = sc.pp.subsample(adata, fraction=0.5, copy=True)\nadata2.uns[\"spatial\"] = {}\nadata2.uns[\"spatial\"][\"V2_Adult_Mouse_Brain\"] = adata.uns[\"spatial\"][\"V1_Adult_Mouse_Brain\"]\nadata_concat = ad.concat(\n    {\"V1_Adult_Mouse_Brain\": adata, \"V2_Adult_Mouse_Brain\": adata2},\n    label=\"library_id\",\n    uns_merge=\"unique\",\n    pairwise=True,\n)\nsq.pl.spatial_scatter(\n    adata_concat,\n    color=[\"Sox8\", \"cluster\"],\n    library_key=\"library_id\",\n    connectivity_key=\"spatial_connectivities\",\n    edges_width=2,\n    crop_coord=[(1500, 1500, 3000, 3000), (1500, 1500, 3000, 3000)],\n)"
      ]
    },
    {
      "cell_type": "markdown",
      "metadata": {},
      "source": [
        "In the above plots, the two Visium datasets are cropped and plotted\nsequentially. It\\'s possible to select which plots should be plotted\nfirst with the `` `library_first ``[ argument. Furthermore, it\\'s also\npossible to selectively modify each library, for instance, changing the\nsize of the points as well as the cropping coordinates. To do so, lists\ncan be passed to those arguments, with the same number of elements as\nthe Visium slides to be plotted. This applies to all elements which\ncould be dataset specific, such as ]{.title-ref}`title`[,\n]{.title-ref}`outline_width`[, ]{.title-ref}`size`\\` etc.\n"
      ]
    },
    {
      "cell_type": "code",
      "execution_count": null,
      "metadata": {
        "collapsed": false
      },
      "outputs": [],
      "source": [
        "sq.pl.spatial_scatter(\n    adata_concat,\n    color=[\"Sox8\", \"cluster\"],\n    library_key=\"library_id\",\n    library_first=False,\n    connectivity_key=\"spatial_connectivities\",\n    edges_width=2,\n    crop_coord=[(1500, 1500, 3000, 3000), (1500, 1500, 3000, 3000)],\n    outline=True,\n    outline_width=[0.05, 0.05],\n    size=[1, 0.5],\n    title=[\n        \"sox8_first_library\",\n        \"sox8_second_library\",\n        \"cluster_first_library\",\n        \"cluster_second_library\",\n    ],\n)"
      ]
    },
    {
      "cell_type": "markdown",
      "metadata": {},
      "source": [
        "If no image is present, a simple scatter plot will be plotted, but the\nrest of the functionality remains unchanged. It\\'s important to specify\n`` `shape=None ``[ in order to default to plain scatter plot.\nFurthermore, in this setting the ]{.title-ref}`size`[ argument\nrepresents the actual size of the dot, instead of a scaling factor of\nthe diameter as in the previous plot. See\n:func:\\`squidpy.pl.spatial_scatter]{.title-ref} for documentation.\n"
      ]
    },
    {
      "cell_type": "code",
      "execution_count": null,
      "metadata": {
        "collapsed": false
      },
      "outputs": [],
      "source": [
        "sq.pl.spatial_scatter(\n    adata_concat,\n    shape=None,\n    color=[\"Sox8\", \"cluster\"],\n    library_key=\"library_id\",\n    library_first=False,\n    connectivity_key=\"spatial_connectivities\",\n    edges_width=2,\n    crop_coord=[(1500, 1500, 3000, 3000), (1500, 1500, 3000, 3000)],\n    outline=True,\n    outline_width=[0.05, 0.05],\n    size=[1, 0.5],\n    title=[\n        \"sox8_first_library\",\n        \"sox8_second_library\",\n        \"cluster_first_library\",\n        \"cluster_second_library\",\n    ],\n)"
      ]
    }
  ],
  "metadata": {
    "kernelspec": {
      "display_name": "Python 3",
      "language": "python",
      "name": "python3"
    },
    "language_info": {
      "codemirror_mode": {
        "name": "ipython",
        "version": 3
      },
      "file_extension": ".py",
      "mimetype": "text/x-python",
      "name": "python",
      "nbconvert_exporter": "python",
      "pygments_lexer": "ipython3",
      "version": "3.9.12"
    }
  },
  "nbformat": 4,
  "nbformat_minor": 0
}