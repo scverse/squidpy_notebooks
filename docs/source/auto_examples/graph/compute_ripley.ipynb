{
  "cells": [
    {
      "cell_type": "code",
      "execution_count": null,
      "metadata": {
        "collapsed": false
      },
      "outputs": [],
      "source": [
        "%matplotlib inline"
      ]
    },
    {
      "cell_type": "markdown",
      "metadata": {},
      "source": [
        "# Compute Ripley\\'s statistics\n\nThis example shows how to compute the Ripley\\'s L function.\n\nThe Ripley\\'s L function is a descriptive statistics generally used to\ndetermine whether points have a random, dispersed or clustered\ndistribution pattern at certain scale. The Ripley\\'s L is a\nvariance-normalized version of the Ripley\\'s K statistic.\n\n::: seealso\nSee `sphx_glr_auto_examples_graph_compute_co_occurrence.py` for another\nscore to describe spatial patterns with `squidpy.gr.co_occurrence`.\n:::\n"
      ]
    },
    {
      "cell_type": "code",
      "execution_count": null,
      "metadata": {
        "collapsed": false
      },
      "outputs": [],
      "source": [
        "import scanpy as sc\nimport squidpy as sq\n\nadata = sq.datasets.slideseqv2()\nadata"
      ]
    },
    {
      "cell_type": "markdown",
      "metadata": {},
      "source": [
        "We can compute the Ripley\\'s L function with `squidpy.gr.ripley`.\nResults can be visualized with `squidpy.pl.ripley`.\n"
      ]
    },
    {
      "cell_type": "code",
      "execution_count": null,
      "metadata": {
        "collapsed": false
      },
      "outputs": [],
      "source": [
        "mode = \"L\"\nsq.gr.ripley(adata, cluster_key=\"cluster\", mode=mode)\nsq.pl.ripley(adata, cluster_key=\"cluster\", mode=mode)"
      ]
    },
    {
      "cell_type": "markdown",
      "metadata": {},
      "source": [
        "We can further visualize tissue organization in spatial coordinates with\n`scanpy.pl.spatial`.\n"
      ]
    },
    {
      "cell_type": "code",
      "execution_count": null,
      "metadata": {
        "collapsed": false
      },
      "outputs": [],
      "source": [
        "sc.pl.spatial(adata, color=\"cluster\", spot_size=20)"
      ]
    },
    {
      "cell_type": "markdown",
      "metadata": {},
      "source": [
        "There are also 2 other Ripley\\'s statistics available (that are closely\nrelated): `mode = 'F'` and `mode = 'G'`.\n"
      ]
    }
  ],
  "metadata": {
    "kernelspec": {
      "display_name": "Python 3",
      "language": "python",
      "name": "python3"
    },
    "language_info": {
      "codemirror_mode": {
        "name": "ipython",
        "version": 3
      },
      "file_extension": ".py",
      "mimetype": "text/x-python",
      "name": "python",
      "nbconvert_exporter": "python",
      "pygments_lexer": "ipython3",
      "version": "3.9.10"
    }
  },
  "nbformat": 4,
  "nbformat_minor": 0
}