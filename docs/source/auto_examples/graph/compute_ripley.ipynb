{
  "cells": [
    {
      "cell_type": "code",
      "execution_count": null,
      "metadata": {
        "collapsed": false
      },
      "outputs": [],
      "source": [
        "%matplotlib inline"
      ]
    },
    {
      "cell_type": "markdown",
      "metadata": {},
      "source": [
        "\n# Compute Ripley's statistics\n\nThis example shows how to compute the Ripley's L function.\n\nThe Ripley's L function is a descriptive statistics generally used\nto determine whether points have a random, dispersed or clustered distribution\npattern at certain scale.\nThe Ripley's L is a variance-normalized version of the Ripley's K statistic.\n\n.. seealso::\n\n    See `sphx_glr_auto_examples_graph_compute_co_occurrence.py` for\n    another score to describe spatial patterns with :func:`squidpy.gr.co_occurrence`.\n"
      ]
    },
    {
      "cell_type": "code",
      "execution_count": null,
      "metadata": {
        "collapsed": false
      },
      "outputs": [],
      "source": [
        "import squidpy as sq\n\nadata = sq.datasets.slideseqv2()\nadata"
      ]
    },
    {
      "cell_type": "markdown",
      "metadata": {},
      "source": [
        "We can compute the Ripley's L function with :func:`squidpy.gr.ripley`.\nResults can be visualized with :func:`squidpy.pl.ripley`.\n\n"
      ]
    },
    {
      "cell_type": "code",
      "execution_count": null,
      "metadata": {
        "collapsed": false
      },
      "outputs": [],
      "source": [
        "mode = \"L\"\nsq.gr.ripley(adata, cluster_key=\"cluster\", mode=mode)\nsq.pl.ripley(adata, cluster_key=\"cluster\", mode=mode)"
      ]
    },
    {
      "cell_type": "markdown",
      "metadata": {},
      "source": [
        "We can further visualize tissue organization in spatial coordinates\nwith :func:`squidpy.pl.spatial_scatter`.\n\n"
      ]
    },
    {
      "cell_type": "code",
      "execution_count": null,
      "metadata": {
        "collapsed": false
      },
      "outputs": [],
      "source": [
        "sq.pl.spatial_scatter(adata, color=\"cluster\", size=20, shape=None)"
      ]
    },
    {
      "cell_type": "markdown",
      "metadata": {},
      "source": [
        "There are also 2 other Ripley's statistics available (that are closely related):\n``mode = 'F'`` and ``mode = 'G'``.\n\n"
      ]
    }
  ],
  "metadata": {
    "kernelspec": {
      "display_name": "Python 3",
      "language": "python",
      "name": "python3"
    },
    "language_info": {
      "codemirror_mode": {
        "name": "ipython",
        "version": 3
      },
      "file_extension": ".py",
      "mimetype": "text/x-python",
      "name": "python",
      "nbconvert_exporter": "python",
      "pygments_lexer": "ipython3",
      "version": "3.9.12"
    }
  },
  "nbformat": 4,
  "nbformat_minor": 0
}