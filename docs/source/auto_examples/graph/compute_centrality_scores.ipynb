{
  "cells": [
    {
      "cell_type": "code",
      "execution_count": null,
      "metadata": {
        "collapsed": false
      },
      "outputs": [],
      "source": [
        "%matplotlib inline"
      ]
    },
    {
      "cell_type": "markdown",
      "metadata": {},
      "source": [
        "\n# Compute centrality scores\n\nThis example shows how to compute centrality scores, given a spatial graph and cell type annotation.\n\nThe scores calculated are closeness centrality, degree centrality and clustering coefficient with the\nfollowing properties:\n\n    - closeness centrality - measure of how close the group is to other nodes.\n    - clustering coefficient - measure of the degree to which nodes cluster together.\n    - degree centrality - fraction of non-group members connected to group members.\n\nAll scores are descriptive statistics of the spatial graph.\n\n.. seealso::\n\n    See `sphx_glr_auto_examples_graph_compute_spatial_neighbors.py` for general usage of\n    :func:`squidpy.gr.spatial_neighbors`.\n"
      ]
    },
    {
      "cell_type": "code",
      "execution_count": null,
      "metadata": {
        "collapsed": false
      },
      "outputs": [],
      "source": [
        "import squidpy as sq\n\nadata = sq.datasets.imc()\nadata"
      ]
    },
    {
      "cell_type": "markdown",
      "metadata": {},
      "source": [
        "This dataset contains cell type annotations in :attr:`anndata.AnnData.obs`, which are used for calculation of\ncentrality scores. First, we need to compute a connectivity matrix from spatial coordinates. We can use\n:func:`squidpy.gr.spatial_neighbors` for this purpose.\n\n"
      ]
    },
    {
      "cell_type": "code",
      "execution_count": null,
      "metadata": {
        "collapsed": false
      },
      "outputs": [],
      "source": [
        "sq.gr.spatial_neighbors(adata)"
      ]
    },
    {
      "cell_type": "markdown",
      "metadata": {},
      "source": [
        "Centrality scores are calculated with :func:`squidpy.gr.centrality_scores`.\n\n"
      ]
    },
    {
      "cell_type": "code",
      "execution_count": null,
      "metadata": {
        "collapsed": false
      },
      "outputs": [],
      "source": [
        "sq.gr.centrality_scores(adata, \"cell type\")"
      ]
    },
    {
      "cell_type": "markdown",
      "metadata": {},
      "source": [
        "And visualize results with :func:`squidpy.pl.centrality_scores`.\n\n"
      ]
    },
    {
      "cell_type": "code",
      "execution_count": null,
      "metadata": {
        "collapsed": false
      },
      "outputs": [],
      "source": [
        "sq.pl.centrality_scores(adata, \"cell type\")"
      ]
    }
  ],
  "metadata": {
    "kernelspec": {
      "display_name": "Python 3",
      "language": "python",
      "name": "python3"
    },
    "language_info": {
      "codemirror_mode": {
        "name": "ipython",
        "version": 3
      },
      "file_extension": ".py",
      "mimetype": "text/x-python",
      "name": "python",
      "nbconvert_exporter": "python",
      "pygments_lexer": "ipython3",
      "version": "3.9.12"
    }
  },
  "nbformat": 4,
  "nbformat_minor": 0
}