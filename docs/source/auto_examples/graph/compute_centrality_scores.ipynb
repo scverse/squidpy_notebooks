{
  "cells": [
    {
      "cell_type": "code",
      "execution_count": null,
      "metadata": {
        "collapsed": false
      },
      "outputs": [],
      "source": [
        "%matplotlib inline"
      ]
    },
    {
      "cell_type": "markdown",
      "metadata": {},
      "source": [
        "Compute centrality scores\n=========================\n\nThis example shows how to compute centrality scores, given a spatial\ngraph and cell type annotation.\n\nThe scores calculated are closeness centrality, degree centrality and\nclustering coefficient with the following properties:\n\n> -   closeness centrality - measure of how close the group is to other\n>     nodes.\n> -   clustering coefficient - measure of the degree to which nodes\n>     cluster together.\n> -   degree centrality - fraction of non-group members connected to\n>     group members.\n\nAll scores are descriptive statistics of the spatial graph.\n"
      ]
    },
    {
      "cell_type": "code",
      "execution_count": null,
      "metadata": {
        "collapsed": false
      },
      "outputs": [],
      "source": [
        "import squidpy as sq\n\nadata = sq.datasets.imc()\nadata"
      ]
    },
    {
      "cell_type": "markdown",
      "metadata": {},
      "source": [
        "This dataset contains cell type annotations in anndata.AnnData.obs,\nwhich are used for calculation of centrality scores. First, we need to\ncompute a connectivity matrix from spatial coordinates. We can use\nsquidpy.gr.spatial\\_neighbors for this purpose.\n"
      ]
    },
    {
      "cell_type": "code",
      "execution_count": null,
      "metadata": {
        "collapsed": false
      },
      "outputs": [],
      "source": [
        "sq.gr.spatial_neighbors(adata)"
      ]
    },
    {
      "cell_type": "markdown",
      "metadata": {},
      "source": [
        "Centrality scores are calculated with squidpy.gr.centrality\\_scores.\n"
      ]
    },
    {
      "cell_type": "code",
      "execution_count": null,
      "metadata": {
        "collapsed": false
      },
      "outputs": [],
      "source": [
        "sq.gr.centrality_scores(adata, \"cell type\")"
      ]
    },
    {
      "cell_type": "markdown",
      "metadata": {},
      "source": [
        "and visualize results with squidpy.pl.centrality\\_scores.\n"
      ]
    },
    {
      "cell_type": "code",
      "execution_count": null,
      "metadata": {
        "collapsed": false
      },
      "outputs": [],
      "source": [
        "sq.pl.centrality_scores(adata, \"cell type\")"
      ]
    }
  ],
  "metadata": {
    "kernelspec": {
      "display_name": "Python 3",
      "language": "python",
      "name": "python3"
    },
    "language_info": {
      "codemirror_mode": {
        "name": "ipython",
        "version": 3
      },
      "file_extension": ".py",
      "mimetype": "text/x-python",
      "name": "python",
      "nbconvert_exporter": "python",
      "pygments_lexer": "ipython3",
      "version": "3.8.7"
    }
  },
  "nbformat": 4,
  "nbformat_minor": 0
}