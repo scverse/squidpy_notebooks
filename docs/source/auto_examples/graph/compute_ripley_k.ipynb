{
  "cells": [
    {
      "cell_type": "code",
      "execution_count": null,
      "metadata": {
        "collapsed": false
      },
      "outputs": [],
      "source": [
        "%matplotlib inline"
      ]
    },
    {
      "cell_type": "markdown",
      "metadata": {},
      "source": [
        "Compute Ripley\\'s K function\n============================\n\nThis example shows how to compute the Ripley\\'s K function.\n\nThe Ripley\\'s K function is a descriptive statistics that is generally\nused to determine whether points have a random, dispersed or clustered\ndistribution pattern at certain scale.\n\n::: {.seealso}\nSee `sphx_glr_auto_examples_graph_compute_co_occurrence.py` for another\nscore to describe spatial patterns with `squidpy.gr.co_occurrence`.\n:::\n"
      ]
    },
    {
      "cell_type": "code",
      "execution_count": null,
      "metadata": {
        "collapsed": false
      },
      "outputs": [],
      "source": [
        "import scanpy as sc\nimport squidpy as sq\n\nadata = sq.datasets.imc()\nadata"
      ]
    },
    {
      "cell_type": "markdown",
      "metadata": {},
      "source": [
        "We can compute the Ripley\\'s K function with `squidpy.gr.ripley_k`.\nResults can be visualized with `squidpy.pl.ripley_k`.\n"
      ]
    },
    {
      "cell_type": "code",
      "execution_count": null,
      "metadata": {
        "collapsed": false
      },
      "outputs": [],
      "source": [
        "sq.gr.ripley_k(adata, cluster_key=\"cell type\")\nsq.pl.ripley_k(adata, cluster_key=\"cell type\")"
      ]
    },
    {
      "cell_type": "markdown",
      "metadata": {},
      "source": [
        "We can further visualize tissue organization in spatial coordinates with\n`scanpy.pl.spatial`.\n"
      ]
    },
    {
      "cell_type": "code",
      "execution_count": null,
      "metadata": {
        "collapsed": false
      },
      "outputs": [],
      "source": [
        "sc.pl.spatial(adata, color=\"cell type\", spot_size=10)"
      ]
    }
  ],
  "metadata": {
    "kernelspec": {
      "display_name": "Python 3",
      "language": "python",
      "name": "python3"
    },
    "language_info": {
      "codemirror_mode": {
        "name": "ipython",
        "version": 3
      },
      "file_extension": ".py",
      "mimetype": "text/x-python",
      "name": "python",
      "nbconvert_exporter": "python",
      "pygments_lexer": "ipython3",
      "version": "3.8.5"
    }
  },
  "nbformat": 4,
  "nbformat_minor": 0
}