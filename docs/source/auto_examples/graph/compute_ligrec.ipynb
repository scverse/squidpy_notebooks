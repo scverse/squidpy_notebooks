{
  "cells": [
    {
      "cell_type": "code",
      "execution_count": null,
      "metadata": {
        "collapsed": false
      },
      "outputs": [],
      "source": [
        "%matplotlib inline"
      ]
    },
    {
      "cell_type": "markdown",
      "metadata": {},
      "source": [
        "# Receptor-ligand analysis\n\nThis example shows how to run the receptor-ligand analysis.\n\nIt uses an efficient re-implementation of the `cellphonedb` algorithm\nwhich can handle large number of interacting pairs (100k+) and cluster\ncombinations (100+).\n\n::: seealso\nSee `sphx_glr_auto_examples_graph_compute_nhood_enrichment.py` for\nfinding cluster neighborhood with `squidpy.gr.nhood_enrichment`.\n:::\n"
      ]
    },
    {
      "cell_type": "code",
      "execution_count": null,
      "metadata": {
        "collapsed": false
      },
      "outputs": [],
      "source": [
        "import squidpy as sq\n\nadata = sq.datasets.seqfish()\nadata"
      ]
    },
    {
      "cell_type": "markdown",
      "metadata": {},
      "source": [
        "To get started, we just need an `anndata.AnnData` object with some\nclustering information. Below are some useful parameters of\n`squidpy.gr.ligrec`:\n\n> -   `n_perms` - number of permutations for the permutation test.\n> -   `interactions` - list of interaction, by default we fetch all\n>     available interactions from `omnipath`.\n> -   `{interactions,transmitter,receiver}_params` - parameters used if\n>     downloading the `interactions`, see\n>     `omnipah.interactions.import_intercell_network` for more\n>     information.\n> -   `threshold` - percentage of cells required to be expressed in a\n>     given cluster.\n> -   `corr_method` - false discovery rate (FDR) correction method to\n>     use.\n\nSince we\\'re interested in receptors and ligands in this example, we\nspecify these categories in `receiver_params` and `transmitter_params`,\nrespectively. If desired, we can also restrict the resources to just a\nselect few. For example, in order to only use `cellphonedb`, set\n`interactions_params={'resources': 'CellPhoneDB'}`.\n"
      ]
    },
    {
      "cell_type": "code",
      "execution_count": null,
      "metadata": {
        "collapsed": false
      },
      "outputs": [],
      "source": [
        "res = sq.gr.ligrec(\n    adata,\n    n_perms=1000,\n    cluster_key=\"celltype_mapped_refined\",\n    copy=True,\n    use_raw=False,\n    transmitter_params={\"categories\": \"ligand\"},\n    receiver_params={\"categories\": \"receptor\"},\n)"
      ]
    },
    {
      "cell_type": "markdown",
      "metadata": {},
      "source": [
        "First, we inspect the calculated means. The resulting object is a\n`pandas.DataFrame`, with rows corresponding to interacting pairs and\ncolumns to cluster combinations.\n"
      ]
    },
    {
      "cell_type": "code",
      "execution_count": null,
      "metadata": {
        "collapsed": false
      },
      "outputs": [],
      "source": [
        "res[\"means\"].head()"
      ]
    },
    {
      "cell_type": "markdown",
      "metadata": {},
      "source": [
        "Next, we take a look at the p-values. If `corr_method != None`, this\nwill contained the corrected p-values. The p-values marked as\n[NaN]{.title-ref} correspond to interactions, which did not pass the\nfiltering `threshold` specified above.\n"
      ]
    },
    {
      "cell_type": "code",
      "execution_count": null,
      "metadata": {
        "collapsed": false
      },
      "outputs": [],
      "source": [
        "res[\"pvalues\"].head()"
      ]
    },
    {
      "cell_type": "markdown",
      "metadata": {},
      "source": [
        "Any interaction metadata downloaded from `omnipath`, such as the\ninteraction type, can be accessed as:\n"
      ]
    },
    {
      "cell_type": "code",
      "execution_count": null,
      "metadata": {
        "collapsed": false
      },
      "outputs": [],
      "source": [
        "res[\"metadata\"].head()"
      ]
    },
    {
      "cell_type": "markdown",
      "metadata": {},
      "source": [
        "In order to plot the results, we can run `squidpy.pl.ligrec`. Some\nuseful parameters are:\n\n> -   `{source,target}_groups` - only plot specific source/target\n>     clusters.\n> -   `dendrogram` - whether to hierarchically cluster the rows, columns\n>     or both.\n> -   `mean_range` - plot only interactions whose means are in this\n>     range.\n> -   `pval_threshold` - plot only interactions whose p-values are below\n>     this threshold.\n\nIn the plot below, to highlight significance, we\\'ve marked all p-values\n\\<= 0.005 with tori.\n"
      ]
    },
    {
      "cell_type": "code",
      "execution_count": null,
      "metadata": {
        "collapsed": false
      },
      "outputs": [],
      "source": [
        "sq.pl.ligrec(res, source_groups=\"Erythroid\", alpha=0.005)"
      ]
    }
  ],
  "metadata": {
    "kernelspec": {
      "display_name": "Python 3",
      "language": "python",
      "name": "python3"
    },
    "language_info": {
      "codemirror_mode": {
        "name": "ipython",
        "version": 3
      },
      "file_extension": ".py",
      "mimetype": "text/x-python",
      "name": "python",
      "nbconvert_exporter": "python",
      "pygments_lexer": "ipython3",
      "version": "3.9.12"
    }
  },
  "nbformat": 4,
  "nbformat_minor": 0
}