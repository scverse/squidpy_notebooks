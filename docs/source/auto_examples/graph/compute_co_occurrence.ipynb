{
  "cells": [
    {
      "cell_type": "code",
      "execution_count": null,
      "metadata": {
        "collapsed": false
      },
      "outputs": [],
      "source": [
        "%matplotlib inline"
      ]
    },
    {
      "cell_type": "markdown",
      "metadata": {},
      "source": [
        "# Compute co-occurrence probability\n\nThis example shows how to compute the co-occurrence probability.\n\nThe co-occurrence score is defined as:\n\n$$\\frac{p(exp|cond)}{p(exp)}$$\n\nwhere $p(exp|cond)$ is the conditional probability of observing a\ncluster $exp$ conditioned on the presence of a cluster $cond$, whereas\n$p(exp)$ is the probability of observing $exp$ in the radius size of\ninterest. The score is computed across increasing radii size around each\ncell in the tissue.\n\n::: seealso\nSee `sphx_glr_auto_examples_graph_compute_ripley.py` for another score\nto describe spatial patterns with `squidpy.gr.ripley`.\n:::\n"
      ]
    },
    {
      "cell_type": "code",
      "execution_count": null,
      "metadata": {
        "collapsed": false
      },
      "outputs": [],
      "source": [
        "import squidpy as sq\n\nadata = sq.datasets.imc()\nadata"
      ]
    },
    {
      "cell_type": "markdown",
      "metadata": {},
      "source": [
        "We can compute the co-occurrence score with `squidpy.gr.co_occurrence`.\nResults can be visualized with `squidpy.pl.co_occurrence`.\n"
      ]
    },
    {
      "cell_type": "code",
      "execution_count": null,
      "metadata": {
        "collapsed": false
      },
      "outputs": [],
      "source": [
        "sq.gr.co_occurrence(adata, cluster_key=\"cell type\")\nsq.pl.co_occurrence(adata, cluster_key=\"cell type\", clusters=\"basal CK tumor cell\")"
      ]
    },
    {
      "cell_type": "markdown",
      "metadata": {},
      "source": [
        "We can further visualize tissue organization in spatial coordinates with\n`squidpy.pl.spatial_scatter`.\n"
      ]
    },
    {
      "cell_type": "code",
      "execution_count": null,
      "metadata": {
        "collapsed": false
      },
      "outputs": [],
      "source": [
        "sq.pl.spatial_scatter(adata, color=\"cell type\", size=10, shape=None)"
      ]
    }
  ],
  "metadata": {
    "kernelspec": {
      "display_name": "Python 3",
      "language": "python",
      "name": "python3"
    },
    "language_info": {
      "codemirror_mode": {
        "name": "ipython",
        "version": 3
      },
      "file_extension": ".py",
      "mimetype": "text/x-python",
      "name": "python",
      "nbconvert_exporter": "python",
      "pygments_lexer": "ipython3",
      "version": "3.9.12"
    }
  },
  "nbformat": 4,
  "nbformat_minor": 0
}