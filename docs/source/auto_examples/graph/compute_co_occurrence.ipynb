{
  "cells": [
    {
      "cell_type": "code",
      "execution_count": null,
      "metadata": {
        "collapsed": false
      },
      "outputs": [],
      "source": [
        "%matplotlib inline"
      ]
    },
    {
      "attachments": {},
      "cell_type": "markdown",
      "metadata": {},
      "source": [
        "\n",
        "# Compute co-occurrence probability\n",
        "\n",
        "This example shows how to compute the co-occurrence probability.\n",
        "\n",
        "The co-occurrence score is defined as:\n",
        "\n",
        "\\begin{align}\\frac{p(exp|cond)}{p(exp)}\\end{align}\n",
        "\n",
        "where $p(exp|cond)$ is the conditional probability of observing a cluster $exp$ conditioned\n",
        "on the presence\n",
        "of a cluster $cond$, whereas $p(exp)$ is the probability of observing $exp$ in the\n",
        "radius size of interest.\n",
        "The score is computed across increasing radii size around each cell in the tissue.\n",
        "\n",
        ":::{seealso}\n",
        "\n",
        "    See `sphx_glr_auto_examples_graph_compute_ripley.py` for\n",
        "    another score to describe spatial patterns with {func}`squidpy.gr.ripley`.\n",
        "\n",
        ":::\n"
      ]
    },
    {
      "cell_type": "code",
      "execution_count": null,
      "metadata": {
        "collapsed": false
      },
      "outputs": [],
      "source": [
        "import squidpy as sq\n",
        "\n",
        "adata = sq.datasets.imc()\n",
        "adata"
      ]
    },
    {
      "attachments": {},
      "cell_type": "markdown",
      "metadata": {},
      "source": [
        "We can compute the co-occurrence score with {func}`squidpy.gr.co_occurrence`.\n",
        "Results can be visualized with {func}`squidpy.pl.co_occurrence`.\n",
        "\n"
      ]
    },
    {
      "cell_type": "code",
      "execution_count": null,
      "metadata": {
        "collapsed": false
      },
      "outputs": [],
      "source": [
        "sq.gr.co_occurrence(adata, cluster_key=\"cell type\")\n",
        "sq.pl.co_occurrence(adata, cluster_key=\"cell type\", clusters=\"basal CK tumor cell\")"
      ]
    },
    {
      "attachments": {},
      "cell_type": "markdown",
      "metadata": {},
      "source": [
        "We can further visualize tissue organization in spatial coordinates with {func}`squidpy.pl.spatial_scatter`.\n",
        "\n"
      ]
    },
    {
      "cell_type": "code",
      "execution_count": null,
      "metadata": {
        "collapsed": false
      },
      "outputs": [],
      "source": [
        "sq.pl.spatial_scatter(adata, color=\"cell type\", size=10, shape=None)"
      ]
    }
  ],
  "metadata": {
    "kernelspec": {
      "display_name": "Python 3",
      "language": "python",
      "name": "python3"
    },
    "language_info": {
      "codemirror_mode": {
        "name": "ipython",
        "version": 3
      },
      "file_extension": ".py",
      "mimetype": "text/x-python",
      "name": "python",
      "nbconvert_exporter": "python",
      "pygments_lexer": "ipython3",
      "version": "3.9.12"
    }
  },
  "nbformat": 4,
  "nbformat_minor": 0
}
