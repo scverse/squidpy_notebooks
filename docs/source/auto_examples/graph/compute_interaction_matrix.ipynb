{
  "cells": [
    {
      "cell_type": "code",
      "execution_count": null,
      "metadata": {
        "collapsed": false
      },
      "outputs": [],
      "source": [
        "%matplotlib inline"
      ]
    },
    {
      "cell_type": "markdown",
      "metadata": {},
      "source": [
        "Compute interaction matrix\n==========================\n\nThis example shows how to compute the interaction matrix.\n\nThe interaction matrix quantifies the number of edges that nodes\nbelonging to a given annotation shares with the other annotations. It\\'s\na descriptive statistics of the spatial graph.\n\n::: {.seealso}\nSee `sphx_glr_auto_examples_graph_compute_spatial_neighbors.py` for\ngeneral usage of `squidpy.gr.spatial_neighbors`.\n:::\n"
      ]
    },
    {
      "cell_type": "code",
      "execution_count": null,
      "metadata": {
        "collapsed": false
      },
      "outputs": [],
      "source": [
        "import squidpy as sq\n\nadata = sq.datasets.imc()\nadata"
      ]
    },
    {
      "cell_type": "markdown",
      "metadata": {},
      "source": [
        "First, we need to compute a connectivity matrix from spatial\ncoordinates. We can use `squidpy.gr.spatial_neighbors` for this purpose.\n"
      ]
    },
    {
      "cell_type": "code",
      "execution_count": null,
      "metadata": {
        "collapsed": false
      },
      "outputs": [],
      "source": [
        "sq.gr.spatial_neighbors(adata)"
      ]
    },
    {
      "cell_type": "markdown",
      "metadata": {},
      "source": [
        "We can compute the interaction matrix with\n`squidpy.gr.interaction_matrix`. Specify `normalized = True` if you want\na row-normalized matrix. Results can be visualized with\n`squidpy.pl.interaction_matrix`.\n"
      ]
    },
    {
      "cell_type": "code",
      "execution_count": null,
      "metadata": {
        "collapsed": false
      },
      "outputs": [],
      "source": [
        "sq.gr.interaction_matrix(adata, cluster_key=\"cell type\")\nsq.pl.interaction_matrix(adata, cluster_key=\"cell type\")"
      ]
    }
  ],
  "metadata": {
    "kernelspec": {
      "display_name": "Python 3",
      "language": "python",
      "name": "python3"
    },
    "language_info": {
      "codemirror_mode": {
        "name": "ipython",
        "version": 3
      },
      "file_extension": ".py",
      "mimetype": "text/x-python",
      "name": "python",
      "nbconvert_exporter": "python",
      "pygments_lexer": "ipython3",
      "version": "3.8.10"
    }
  },
  "nbformat": 4,
  "nbformat_minor": 0
}