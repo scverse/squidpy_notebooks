{
  "cells": [
    {
      "cell_type": "code",
      "execution_count": null,
      "metadata": {
        "collapsed": false
      },
      "outputs": [],
      "source": [
        "%matplotlib inline"
      ]
    },
    {
      "cell_type": "markdown",
      "metadata": {},
      "source": [
        "# This is a dummy example\n\nThis is how we can link an example saved under\n**\\`examples/graph/compute_non_existing.py\\`**:\n**:ref:\\`sphx_glr_auto_examples_graph_compute_non_existing.py\\`**.\n\nAll examples should be prefixed with either **compute\\_** or **plot\\_**.\n"
      ]
    },
    {
      "cell_type": "code",
      "execution_count": null,
      "metadata": {
        "collapsed": false
      },
      "outputs": [],
      "source": [
        "import scanpy as sc\n\nadata = sc.datasets.blobs()\nadata"
      ]
    },
    {
      "cell_type": "markdown",
      "metadata": {},
      "source": [
        "This is a new cell. We can reference the docs as\n`squidpy.gr.moran`{.interpreted-text role=\"func\"}. Note than any such\nreferences or code usage will be automatically linked under that\nfunction. See tutorial at\n`sphx_glr_auto_tutorials_tutorial_dummy.py`{.interpreted-text\nrole=\"ref\"}.\n"
      ]
    }
  ],
  "metadata": {
    "kernelspec": {
      "display_name": "Python 3",
      "language": "python",
      "name": "python3"
    },
    "language_info": {
      "codemirror_mode": {
        "name": "ipython",
        "version": 3
      },
      "file_extension": ".py",
      "mimetype": "text/x-python",
      "name": "python",
      "nbconvert_exporter": "python",
      "pygments_lexer": "ipython3",
      "version": "3.8.6"
    }
  },
  "nbformat": 4,
  "nbformat_minor": 0
}