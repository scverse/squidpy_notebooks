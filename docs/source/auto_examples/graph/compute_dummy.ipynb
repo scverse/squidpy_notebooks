{
  "cells": [
    {
      "cell_type": "code",
      "execution_count": null,
      "metadata": {
        "collapsed": false
      },
      "outputs": [],
      "source": [
        "%matplotlib inline"
      ]
    },
    {
      "cell_type": "markdown",
      "metadata": {},
      "source": [
        "This is a dummy example\n=======================\n\nThis is how we can link an example saved under\n**examples/graph/compute\\_non\\_existing.py**:\n**sphx\\_glr\\_auto\\_examples\\_graph\\_compute\\_non\\_existing.py**.\n\nAll examples should be prefixed with either **[compute]()** or\n**[plot]()**.\n"
      ]
    },
    {
      "cell_type": "code",
      "execution_count": null,
      "metadata": {
        "collapsed": false
      },
      "outputs": [],
      "source": [
        "import scanpy as sc\n\nadata = sc.datasets.blobs()\nadata"
      ]
    },
    {
      "cell_type": "markdown",
      "metadata": {},
      "source": [
        "This is a new cell. We can reference the docs as squidpy.gr.moran. Note\nthan any such references or code usage will be automatically linked\nunder that function. See tutorial at\nsphx\\_glr\\_auto\\_tutorials\\_tutorial\\_dummy.py.\n"
      ]
    }
  ],
  "metadata": {
    "kernelspec": {
      "display_name": "Python 3",
      "language": "python",
      "name": "python3"
    },
    "language_info": {
      "codemirror_mode": {
        "name": "ipython",
        "version": 3
      },
      "file_extension": ".py",
      "mimetype": "text/x-python",
      "name": "python",
      "nbconvert_exporter": "python",
      "pygments_lexer": "ipython3",
      "version": "3.8.6"
    }
  },
  "nbformat": 4,
  "nbformat_minor": 0
}