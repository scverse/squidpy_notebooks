{
  "cells": [
    {
      "cell_type": "code",
      "execution_count": null,
      "metadata": {
        "collapsed": false
      },
      "outputs": [],
      "source": [
        "%matplotlib inline"
      ]
    },
    {
      "cell_type": "markdown",
      "metadata": {},
      "source": [
        "# Building spatial neighbors graph\n\nThis example shows how to compute a spatial neighbors graph.\n\nSpatial graph is a graph of spatial neighbors with observations as nodes\nand neighbor-hood relations between observations as edges. We use\nspatial coordinates of spots/cells to identify neighbors among them.\nDifferent approach of defining a neighborhood relation among\nobservations are used for different types of spatial datasets.\n"
      ]
    },
    {
      "cell_type": "code",
      "execution_count": null,
      "metadata": {
        "collapsed": false
      },
      "outputs": [],
      "source": [
        "import scanpy as sc\nimport squidpy as sq\n\nimport numpy as np"
      ]
    },
    {
      "cell_type": "markdown",
      "metadata": {},
      "source": [
        "First, we show how to compute the spatial neighbors graph for a Visium\ndataset.\n"
      ]
    },
    {
      "cell_type": "code",
      "execution_count": null,
      "metadata": {
        "collapsed": false
      },
      "outputs": [],
      "source": [
        "adata = sq.datasets.visium_fluo_adata()\nadata"
      ]
    },
    {
      "cell_type": "markdown",
      "metadata": {},
      "source": [
        "We use `squidpy.gr.spatial_neighbors` for this. The function expects\n`coord_type = 'visium'` by default. We set this parameter here\nexplicitly for clarity. `n_rings` should be used only for Visium\ndatasets. It specifies for each spot how many hexagonal rings of spots\naround will be considered neighbors.\n"
      ]
    },
    {
      "cell_type": "code",
      "execution_count": null,
      "metadata": {
        "collapsed": false
      },
      "outputs": [],
      "source": [
        "sq.gr.spatial_neighbors(adata, n_rings=2, coord_type=\"grid\", n_neighs=6)"
      ]
    },
    {
      "cell_type": "markdown",
      "metadata": {},
      "source": [
        "The function builds a spatial graph and saves its adjacency matrix to\n`adata.obsp['spatial_connectivities']` and weighted adjacency matrix to\n`adata.obsp['spatial_distances']` by default. Note that it can also\nbuild a a graph from a square grid, just set `n_neighs = 4`.\n"
      ]
    },
    {
      "cell_type": "code",
      "execution_count": null,
      "metadata": {
        "collapsed": false
      },
      "outputs": [],
      "source": [
        "adata.obsp[\"spatial_connectivities\"]"
      ]
    },
    {
      "cell_type": "markdown",
      "metadata": {},
      "source": [
        "The weights of the weighted adjacency matrix are ordinal numbers of\nhexagonal rings in the case of `coord_type = 'visium'`.\n"
      ]
    },
    {
      "cell_type": "code",
      "execution_count": null,
      "metadata": {
        "collapsed": false
      },
      "outputs": [],
      "source": [
        "adata.obsp[\"spatial_distances\"]"
      ]
    },
    {
      "cell_type": "markdown",
      "metadata": {},
      "source": [
        "We can visualize the neighbors of a point to better visualize what\n[n_rings]{.title-ref} mean:\n"
      ]
    },
    {
      "cell_type": "code",
      "execution_count": null,
      "metadata": {
        "collapsed": false
      },
      "outputs": [],
      "source": [
        "_, idx = adata.obsp[\"spatial_connectivities\"][420, :].nonzero()\nidx = np.append(idx, 420)\nsc.pl.spatial(\n    adata[idx, :],\n    neighbors_key=\"spatial_neighbors\",\n    edges=True,\n    edges_width=1,\n    img_key=None,\n)"
      ]
    },
    {
      "cell_type": "markdown",
      "metadata": {},
      "source": [
        "Next, we show how to compute the spatial neighbors graph for a non-grid\ndataset.\n"
      ]
    },
    {
      "cell_type": "code",
      "execution_count": null,
      "metadata": {
        "collapsed": false
      },
      "outputs": [],
      "source": [
        "adata = sq.datasets.imc()\nadata"
      ]
    },
    {
      "cell_type": "markdown",
      "metadata": {},
      "source": [
        "We use the same function for this with `coord_type = 'generic'`.\n`n_neighs` and `radius` can be used for non-Visium datasets. `n_neighs`\nspecifies a fixed number of the closest spots for each spot as\nneighbors. Alternatively, `delaunay = True` can be used, for a Delaunay\ntriangulation graph.\n"
      ]
    },
    {
      "cell_type": "code",
      "execution_count": null,
      "metadata": {
        "collapsed": false
      },
      "outputs": [],
      "source": [
        "sq.gr.spatial_neighbors(adata, n_neighs=10, coord_type=\"generic\")\n_, idx = adata.obsp[\"spatial_connectivities\"][420, :].nonzero()\nidx = np.append(idx, 420)\nsc.pl.spatial(\n    adata[idx, :],\n    color=\"cell type\",\n    neighbors_key=\"spatial_neighbors\",\n    spot_size=1,\n    edges=True,\n    edges_width=1,\n    img_key=None,\n)"
      ]
    },
    {
      "cell_type": "markdown",
      "metadata": {},
      "source": [
        "We use the same function for this with `coord_type = 'generic'` and\n`delaunay = True`. You can appreciate that the neighbor graph is\nslightly different than before.\n"
      ]
    },
    {
      "cell_type": "code",
      "execution_count": null,
      "metadata": {
        "collapsed": false
      },
      "outputs": [],
      "source": [
        "sq.gr.spatial_neighbors(adata, delaunay=True, coord_type=\"generic\")\n_, idx = adata.obsp[\"spatial_connectivities\"][420, :].nonzero()\nidx = np.append(idx, 420)\nsc.pl.spatial(\n    adata[idx, :],\n    color=\"cell type\",\n    neighbors_key=\"spatial_neighbors\",\n    spot_size=1,\n    edges=True,\n    edges_width=1,\n    img_key=None,\n)"
      ]
    },
    {
      "cell_type": "markdown",
      "metadata": {},
      "source": [
        "In order to get all spots within a specified radius (in units of the\nspatial coordinates) from each spot as neighbors, the parameter `radius`\nshould be used.\n"
      ]
    },
    {
      "cell_type": "code",
      "execution_count": null,
      "metadata": {
        "collapsed": false
      },
      "outputs": [],
      "source": [
        "sq.gr.spatial_neighbors(adata, radius=0.3, coord_type=\"generic\")\n\nadata.obsp[\"spatial_connectivities\"]\nadata.obsp[\"spatial_distances\"]"
      ]
    }
  ],
  "metadata": {
    "kernelspec": {
      "display_name": "Python 3",
      "language": "python",
      "name": "python3"
    },
    "language_info": {
      "codemirror_mode": {
        "name": "ipython",
        "version": 3
      },
      "file_extension": ".py",
      "mimetype": "text/x-python",
      "name": "python",
      "nbconvert_exporter": "python",
      "pygments_lexer": "ipython3",
      "version": "3.9.10"
    }
  },
  "nbformat": 4,
  "nbformat_minor": 0
}