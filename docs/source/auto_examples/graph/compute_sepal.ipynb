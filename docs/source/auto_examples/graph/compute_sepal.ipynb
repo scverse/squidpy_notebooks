{
  "cells": [
    {
      "cell_type": "code",
      "execution_count": null,
      "metadata": {
        "collapsed": false
      },
      "outputs": [],
      "source": [
        "%matplotlib inline"
      ]
    },
    {
      "cell_type": "markdown",
      "metadata": {},
      "source": [
        "\n# Compute Sepal score\n\nThis example shows how to compute the Sepal score for spatially variable genes identification.\n\nThe Sepal score is a method that simulates a diffusion process to quantify spatial structure in tissue.\nSee :cite:`andersson2021` for reference.\n\n.. seealso::\n\n    - See `sphx_glr_auto_examples_graph_compute_co_occurrence.py` and\n      `sphx_glr_auto_examples_graph_compute_moran.py` for other scores to identify spatially variable genes.\n    - See `sphx_glr_auto_examples_graph_compute_spatial_neighbors.py` for general usage of\n      :func:`squidpy.gr.spatial_neighbors`.\n"
      ]
    },
    {
      "cell_type": "code",
      "execution_count": null,
      "metadata": {
        "collapsed": false
      },
      "outputs": [],
      "source": [
        "import squidpy as sq\n\nadata = sq.datasets.visium_hne_adata()\nadata"
      ]
    },
    {
      "cell_type": "markdown",
      "metadata": {},
      "source": [
        "We can compute the Sepal score with :func:`squidpy.gr.sepal`.\nthere are 2 important aspects to consider when computing sepal:\n\n- The function only accepts grid-like spatial graphs. Make sure to specify the\n  maximum number of neighbors in your data (6 for an hexagonal grid like Visium)\n  with ``max_neighs = 6``.\n- It is useful to filter out genes that are expressed in very few observations\n  and might be wrongly identified as being spatially variable. If you are performing\n  pre-processing with Scanpy, there is a convenient function that can be used BEFORE\n  normalization :func:`scanpy.pp.calculate_qc_metrics`. It computes several useful\n  summary statistics on both observation and feature axis. We will be using the\n  ``n_cells`` columns in `adata.var` to filter out genes that are expressed in\n  less than 100 observations.\n\nBefore computing the Sepal score, we first need to compute a spatial graph with :func:`squidpy.gr.spatial_neighbors`.\nWe will also subset the number of genes to evaluate for efficiency purposes.\n\n"
      ]
    },
    {
      "cell_type": "code",
      "execution_count": null,
      "metadata": {
        "collapsed": false
      },
      "outputs": [],
      "source": [
        "sq.gr.spatial_neighbors(adata)\ngenes = adata.var_names[(adata.var.n_cells > 100) & adata.var.highly_variable][0:100]\nsq.gr.sepal(adata, max_neighs=6, genes=genes, n_jobs=1)\nadata.uns[\"sepal_score\"].head(10)"
      ]
    },
    {
      "cell_type": "markdown",
      "metadata": {},
      "source": [
        "We can visualize some of those genes with :func:`squidpy.pl.spatial_scatter`.\n\n"
      ]
    },
    {
      "cell_type": "code",
      "execution_count": null,
      "metadata": {
        "collapsed": false
      },
      "outputs": [],
      "source": [
        "sq.pl.spatial_scatter(adata, color=[\"Lct\", \"Ecel1\", \"Cfap65\"])"
      ]
    }
  ],
  "metadata": {
    "kernelspec": {
      "display_name": "Python 3",
      "language": "python",
      "name": "python3"
    },
    "language_info": {
      "codemirror_mode": {
        "name": "ipython",
        "version": 3
      },
      "file_extension": ".py",
      "mimetype": "text/x-python",
      "name": "python",
      "nbconvert_exporter": "python",
      "pygments_lexer": "ipython3",
      "version": "3.9.12"
    }
  },
  "nbformat": 4,
  "nbformat_minor": 0
}