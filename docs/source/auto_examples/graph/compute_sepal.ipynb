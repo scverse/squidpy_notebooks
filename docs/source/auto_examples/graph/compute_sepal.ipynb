{
  "cells": [
    {
      "cell_type": "code",
      "execution_count": null,
      "metadata": {
        "collapsed": false
      },
      "outputs": [],
      "source": [
        "%matplotlib inline"
      ]
    },
    {
      "cell_type": "markdown",
      "metadata": {},
      "source": [
        "# Compute Sepal score\n\nThis example shows how to compute the Sepal score for spatially variable\ngenes identification.\n\nThe Sepal score is a method that simulates a diffusion process to\nquantify spatial structure in tissue. See `andersson2021` for reference.\n\n::: seealso\n-   See `sphx_glr_auto_examples_graph_compute_co_occurrence.py` and\n    `sphx_glr_auto_examples_graph_compute_moran.py` for other scores to\n    identify spatially variable genes.\n-   See `sphx_glr_auto_examples_graph_compute_spatial_neighbors.py` for\n    general usage of `squidpy.gr.spatial_neighbors`.\n:::\n"
      ]
    },
    {
      "cell_type": "code",
      "execution_count": null,
      "metadata": {
        "collapsed": false
      },
      "outputs": [],
      "source": [
        "import squidpy as sq\n\nadata = sq.datasets.visium_hne_adata()\nadata"
      ]
    },
    {
      "cell_type": "markdown",
      "metadata": {},
      "source": [
        "We can compute the Sepal score with `squidpy.gr.sepal`. there are 2\nimportant aspects to consider when computing sepal:\n\n-   The function only accepts grid-like spatial graphs. Make sure to\n    specify the maximum number of neighbors in your data (6 for an\n    hexagonal grid like Visium) with `max_neighs = 6`.\n-   It is useful to filter out genes that are expressed in very few\n    observations and might be wrongly identified as being spatially\n    variable. If you are performing pre-processing with Scanpy, there is\n    a convenient function that can be used BEFORE normalization\n    `scanpy.pp.calculate_qc_metrics`. It computes several useful summary\n    statistics on both observation and feature axis. We will be using\n    the `n_cells` columns in [adata.var]{.title-ref} to filter out genes\n    that are expressed in less than 100 observations.\n\nBefore computing the Sepal score, we first need to compute a spatial\ngraph with `squidpy.gr.spatial_neighbors`. We will also subset the\nnumber of genes to evaluate for efficiency purposes.\n"
      ]
    },
    {
      "cell_type": "code",
      "execution_count": null,
      "metadata": {
        "collapsed": false
      },
      "outputs": [],
      "source": [
        "sq.gr.spatial_neighbors(adata)\ngenes = adata.var_names[(adata.var.n_cells > 100) & adata.var.highly_variable][0:100]\nsq.gr.sepal(adata, max_neighs=6, genes=genes, n_jobs=1)\nadata.uns[\"sepal_score\"].head(10)"
      ]
    },
    {
      "cell_type": "markdown",
      "metadata": {},
      "source": [
        "We can visualize some of those genes with `squidpy.pl.spatial_scatter`.\n"
      ]
    },
    {
      "cell_type": "code",
      "execution_count": null,
      "metadata": {
        "collapsed": false
      },
      "outputs": [],
      "source": [
        "sq.pl.spatial_scatter(adata, color=[\"Lct\", \"Ecel1\", \"Cfap65\"])"
      ]
    }
  ],
  "metadata": {
    "kernelspec": {
      "display_name": "Python 3",
      "language": "python",
      "name": "python3"
    },
    "language_info": {
      "codemirror_mode": {
        "name": "ipython",
        "version": 3
      },
      "file_extension": ".py",
      "mimetype": "text/x-python",
      "name": "python",
      "nbconvert_exporter": "python",
      "pygments_lexer": "ipython3",
      "version": "3.9.12"
    }
  },
  "nbformat": 4,
  "nbformat_minor": 0
}