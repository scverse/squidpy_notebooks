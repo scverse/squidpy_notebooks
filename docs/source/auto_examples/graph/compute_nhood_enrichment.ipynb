{
  "cells": [
    {
      "cell_type": "code",
      "execution_count": null,
      "metadata": {
        "collapsed": false
      },
      "outputs": [],
      "source": [
        "%matplotlib inline"
      ]
    },
    {
      "cell_type": "markdown",
      "metadata": {},
      "source": [
        "# Neighbors enrichment analysis\n\nThis example shows how to run the neighbors enrichment analysis routine.\n\nIt calculates an enrichment score based on proximity on the connectivity\ngraph of cell clusters. The number of observed events is compared\nagainst $N$ permutations and a *z-score* is computed.\n\n::: seealso\nSee `sphx_glr_auto_examples_graph_compute_spatial_neighbors.py` for\ngeneral usage of `squidpy.gr.spatial_neighbors`.\n:::\n"
      ]
    },
    {
      "cell_type": "code",
      "execution_count": null,
      "metadata": {
        "collapsed": false
      },
      "outputs": [],
      "source": [
        "import squidpy as sq\n\nadata = sq.datasets.visium_fluo_adata()\nadata"
      ]
    },
    {
      "cell_type": "markdown",
      "metadata": {},
      "source": [
        "This dataset contains cell type annotations in `anndata.Anndata.obs`\nwhich are used for calculation of the neighborhood enrichment. First, we\nneed to compute a connectivity matrix from spatial coordinates.\n"
      ]
    },
    {
      "cell_type": "code",
      "execution_count": null,
      "metadata": {
        "collapsed": false
      },
      "outputs": [],
      "source": [
        "sq.gr.spatial_neighbors(adata)"
      ]
    },
    {
      "cell_type": "markdown",
      "metadata": {},
      "source": [
        "Then we can calculate the neighborhood enrichment score with\n`squidpy.gr.nhood_enrichment`.\n"
      ]
    },
    {
      "cell_type": "code",
      "execution_count": null,
      "metadata": {
        "collapsed": false
      },
      "outputs": [],
      "source": [
        "sq.gr.nhood_enrichment(adata, cluster_key=\"cluster\")"
      ]
    },
    {
      "cell_type": "markdown",
      "metadata": {},
      "source": [
        "And visualize the results with `squidpy.pl.nhood_enrichment`.\n"
      ]
    },
    {
      "cell_type": "code",
      "execution_count": null,
      "metadata": {
        "collapsed": false
      },
      "outputs": [],
      "source": [
        "sq.pl.nhood_enrichment(adata, cluster_key=\"cluster\")"
      ]
    }
  ],
  "metadata": {
    "kernelspec": {
      "display_name": "Python 3",
      "language": "python",
      "name": "python3"
    },
    "language_info": {
      "codemirror_mode": {
        "name": "ipython",
        "version": 3
      },
      "file_extension": ".py",
      "mimetype": "text/x-python",
      "name": "python",
      "nbconvert_exporter": "python",
      "pygments_lexer": "ipython3",
      "version": "3.9.12"
    }
  },
  "nbformat": 4,
  "nbformat_minor": 0
}