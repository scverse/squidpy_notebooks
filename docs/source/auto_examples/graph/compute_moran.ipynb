{
  "cells": [
    {
      "cell_type": "code",
      "execution_count": null,
      "metadata": {
        "collapsed": false
      },
      "outputs": [],
      "source": [
        "%matplotlib inline"
      ]
    },
    {
      "cell_type": "markdown",
      "metadata": {},
      "source": [
        "# Compute Moran\\'s I score\n\nThis example shows how to compute the Moran\\'s I global spatial\nauto-correlation statistics.\n\nThe Moran\\'s I global spatial auto-correlation statistics evaluates\nwhether features (i.e. genes) shows a pattern that is clustered,\ndispersed or random in the tissue are under consideration.\n\n::: seealso\n-   See `sphx_glr_auto_examples_graph_compute_co_occurrence.py` and\n    `sphx_glr_auto_examples_graph_compute_ripley.py` for other scores to\n    describe spatial patterns.\n-   See `sphx_glr_auto_examples_graph_compute_spatial_neighbors.py` for\n    general usage of `squidpy.gr.spatial_neighbors`.\n:::\n"
      ]
    },
    {
      "cell_type": "code",
      "execution_count": null,
      "metadata": {
        "collapsed": false
      },
      "outputs": [],
      "source": [
        "import squidpy as sq\n\nadata = sq.datasets.visium_hne_adata()\nadata"
      ]
    },
    {
      "cell_type": "markdown",
      "metadata": {},
      "source": [
        "We can compute the Moran\\'s I score with `squidpy.gr.spatial_autocorr`\nand `mode = 'moran'`. We first need to compute a spatial graph with\n`squidpy.gr.spatial_neighbors`. We will also subset the number of genes\nto evaluate.\n"
      ]
    },
    {
      "cell_type": "code",
      "execution_count": null,
      "metadata": {
        "collapsed": false
      },
      "outputs": [],
      "source": [
        "genes = adata[:, adata.var.highly_variable].var_names.values[:100]\nsq.gr.spatial_neighbors(adata)\nsq.gr.spatial_autocorr(\n    adata,\n    mode=\"moran\",\n    genes=genes,\n    n_perms=100,\n    n_jobs=1,\n)\nadata.uns[\"moranI\"].head(10)"
      ]
    },
    {
      "cell_type": "markdown",
      "metadata": {},
      "source": [
        "We can visualize some of those genes with `squidpy.pl.spatial_scatter`.\n"
      ]
    },
    {
      "cell_type": "code",
      "execution_count": null,
      "metadata": {
        "collapsed": false
      },
      "outputs": [],
      "source": [
        "sq.pl.spatial_scatter(adata, color=[\"Resp18\", \"Tuba4a\"])"
      ]
    },
    {
      "cell_type": "markdown",
      "metadata": {},
      "source": [
        "We could\\'ve also passed `mode = 'geary'` to compute a closely related\nauto-correlation statistic, [Geary\\'s\nC](https://en.wikipedia.org/wiki/Geary%27s_C). See\n`squidpy.gr.spatial_autocorr` for more information.\n"
      ]
    }
  ],
  "metadata": {
    "kernelspec": {
      "display_name": "Python 3",
      "language": "python",
      "name": "python3"
    },
    "language_info": {
      "codemirror_mode": {
        "name": "ipython",
        "version": 3
      },
      "file_extension": ".py",
      "mimetype": "text/x-python",
      "name": "python",
      "nbconvert_exporter": "python",
      "pygments_lexer": "ipython3",
      "version": "3.9.12"
    }
  },
  "nbformat": 4,
  "nbformat_minor": 0
}