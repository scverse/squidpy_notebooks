{
  "cells": [
    {
      "cell_type": "code",
      "execution_count": null,
      "metadata": {
        "collapsed": false
      },
      "outputs": [],
      "source": [
        "%matplotlib inline"
      ]
    },
    {
      "cell_type": "markdown",
      "metadata": {},
      "source": [
        "Compute Moran's I score\n=======================\n\nThis example shows how to compute the Moran's I global spatial\nautocorrelation statistics.\n\nThe Moran's I global spatial autocorrelation statistics evaluates\nwhether features (i.e. genes) shows a pattern that is clustered,\ndispersed or random in the tissue are under consideration. It wraps an\nimplementation in the PySAL spatial analysis toolbox pysal.\n"
      ]
    },
    {
      "cell_type": "code",
      "execution_count": null,
      "metadata": {
        "collapsed": false
      },
      "outputs": [],
      "source": [
        "import scanpy as sc\nimport squidpy as sq\n\nadata = sq.datasets.visium_hne_adata()\nadata"
      ]
    },
    {
      "cell_type": "markdown",
      "metadata": {},
      "source": [
        "We can compute the Moran's I score with squidpy.gr.moran. We first need\nto compute a spatial graph with squidpy.gr.spatial\\_neighbors. We will\nalso subset the number of genes to evaluate\n"
      ]
    },
    {
      "cell_type": "code",
      "execution_count": null,
      "metadata": {
        "collapsed": false
      },
      "outputs": [],
      "source": [
        "genes = adata[:, adata.var.highly_variable].var_names.values[0:100]\nsq.gr.spatial_neighbors(adata)\nsq.gr.moran(\n    adata,\n    genes=genes,\n    n_perms=100,\n    n_jobs=1,\n)\nadata.uns[\"moranI\"].head(10)"
      ]
    },
    {
      "cell_type": "markdown",
      "metadata": {},
      "source": [
        "We can visualize some of those genes with scanpy.pl.spatial.\n"
      ]
    },
    {
      "cell_type": "code",
      "execution_count": null,
      "metadata": {
        "collapsed": false
      },
      "outputs": [],
      "source": [
        "sc.pl.spatial(adata, color=[\"Resp18\", \"Tuba4a\"])"
      ]
    }
  ],
  "metadata": {
    "kernelspec": {
      "display_name": "Python 3",
      "language": "python",
      "name": "python3"
    },
    "language_info": {
      "codemirror_mode": {
        "name": "ipython",
        "version": 3
      },
      "file_extension": ".py",
      "mimetype": "text/x-python",
      "name": "python",
      "nbconvert_exporter": "python",
      "pygments_lexer": "ipython3",
      "version": "3.8.7"
    }
  },
  "nbformat": 4,
  "nbformat_minor": 0
}