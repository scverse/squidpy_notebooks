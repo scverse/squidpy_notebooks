{
  "cells": [
    {
      "cell_type": "code",
      "execution_count": null,
      "metadata": {
        "collapsed": false
      },
      "outputs": [],
      "source": [
        "%matplotlib inline"
      ]
    },
    {
      "cell_type": "markdown",
      "metadata": {},
      "source": [
        "# Extract Image Features\n\nIn addition to the spatial gene expression values, visium datasets also\ncontain high-resolution images of the tissue. In this notebook we\nextract features from this image using\n`squidpy.im.calculate_image_features`{.interpreted-text role=\"func\"} and\ncreate a `obs x features` matrix that can be analysed together with the\n`obs x genes` spatial gene expression matrix.\n\nTo compute features for each visium spot (`obs`), we extract image crops\nfrom the tissue image centered on each spot. When extracting the crops,\nwe can specify the size and scale of the crops and optionally mask a\ncircle to ensure that only tissue underneath the round visium spots is\ntaken into account to compute the features. See also\n`sphx_glr_auto_examples_image_compute_crops.py`{.interpreted-text\nrole=\"ref\"}.\n\nThe extracted crops are then used to compute features. We provide\ndifferent feature extractors that are described in more detail in the\nfollowing examples: - summary statistics of each color channel\n(`sphx_glr_auto_examples_image_compute_summary_features.py`{.interpreted-text\nrole=\"ref\"}) - texture features based on repeating patterns\n(`sphx_glr_auto_examples_image_compute_texture_features.py`{.interpreted-text\nrole=\"ref\"}) - color histogram features using counts in bins of each\nchannel\\'s histogram\n(`sphx_glr_auto_examples_image_compute_histogram_features.py`{.interpreted-text\nrole=\"ref\"}) - number and size of objects from a binary segmentation\nlayer\n(`sphx_glr_auto_examples_image_compute_segmentation_features.py`{.interpreted-text\nrole=\"ref\"})\n"
      ]
    },
    {
      "cell_type": "code",
      "execution_count": null,
      "metadata": {
        "collapsed": false
      },
      "outputs": [],
      "source": [
        "# import modules\nimport os\n\nimport squidpy as sq\n\nimport scanpy as sc\n\nimport numpy as np\n\nimport seaborn as sns\nimport matplotlib.pyplot as plt\n\n# get spatial dataset including hires tissue image\nimg = sq.im.ImageContainer(os.path.expanduser(\"~/.cache/squidpy/tutorial_data/visium_hne_crop.tiff\"))\nadata = sc.read(os.path.expanduser(\"~/.cache/squidpy/tutorial_data/visium_hne_crop.h5ad\"))"
      ]
    },
    {
      "cell_type": "markdown",
      "metadata": {},
      "source": [
        "The high resolution tissue image is contained in `img['image']`, and the\nspot locations in tissue image pixel-space are located in\n`adata.obsm['spatial']`. We can plot the spots overlayed on a\nlower-resolution version of the tissue image contained in adata.\n"
      ]
    },
    {
      "cell_type": "code",
      "execution_count": null,
      "metadata": {
        "collapsed": false
      },
      "outputs": [],
      "source": [
        "np.set_printoptions(threshold=10)\nprint(img)\nprint(adata.obsm[\"spatial\"])\n\nsc.pl.spatial(adata, add_outline=True)"
      ]
    },
    {
      "cell_type": "markdown",
      "metadata": {},
      "source": [
        "Using this information, we can now extract features from the tissue\nunderneath each spot by calling\n`squidpy.im.calculate_image_features`{.interpreted-text role=\"func\"}.\nThis function takes both [adata]{.title-ref} and [img]{.title-ref} as\ninput, and will write the resulting `obs x features` matrix to\n`adata.obsm[key]`. It contains several arguments to modify its\nbehaviour. With these arguments you can - specify the image used for\nfeature calculation using `img_id`, - specify the type of features that\nshould be calculated using `features` and `features_kwargs`, - specify\nhow the crops used for feature calculation look like using `kwargs`, -\nspecify parallelization options using `n_jobs`, `backend`,\n`show_progress_bar`, and - specify how the data that is returned using\n`key_added`, `copy`.\n\nLet us first calculate summary features and save the result in\n`adata.obsm['features']`.\n"
      ]
    },
    {
      "cell_type": "code",
      "execution_count": null,
      "metadata": {
        "collapsed": false
      },
      "outputs": [],
      "source": [
        "sq.im.calculate_image_features(adata, img, features=\"summary\", key_added=\"features\")\n\n# show the calculated features\nprint(f\"calculated features: {list(adata.obsm['features'].columns)}\")\nprint(adata.obsm[\"features\"].head())"
      ]
    },
    {
      "cell_type": "markdown",
      "metadata": {},
      "source": [
        "To visualize the features, we can use\n`squidpy.pl.extract`{.interpreted-text role=\"func\"} to plot the texture\nfeatures on the tissue image. See\n`sphx_glr_auto_examples_plotting_compute_extract.py`{.interpreted-text\nrole=\"ref\"} for more details on this function.\n\nHere, we plot the median value of channel 0\n(`summary_quantile_0.5_ch_0`).\n"
      ]
    },
    {
      "cell_type": "code",
      "execution_count": null,
      "metadata": {
        "collapsed": false
      },
      "outputs": [],
      "source": [
        "sc.set_figure_params(facecolor=\"white\", figsize=(8, 8))\nsc.pl.spatial(sq.pl.extract(adata, \"features\"), color=[None, \"summary_quantile_0.5_ch_0\"])"
      ]
    },
    {
      "cell_type": "markdown",
      "metadata": {},
      "source": [
        "\\#\\# Speed up feature extraction Speeding up the feature extraction is\neasy. Just set the `n_jobs` flag to the number of jobs that should be\nused by `squidpy.im.calculate_image_features`{.interpreted-text\nrole=\"func\"}.\n"
      ]
    },
    {
      "cell_type": "code",
      "execution_count": null,
      "metadata": {
        "collapsed": false
      },
      "outputs": [],
      "source": [
        "# extract features by using 4 jobs\nsq.im.calculate_image_features(adata, img, features=\"summary\", key_added=\"features\", n_jobs=4)"
      ]
    },
    {
      "cell_type": "markdown",
      "metadata": {},
      "source": [
        "\\#\\# Specify crop appearance Features are extracted from image crops\nthat are centered on the visium spots (see also\n`sphx_glr_auto_examples_image_compute_crops.py`{.interpreted-text\nrole=\"ref\"}). By default, the crops have the same size as the spot, are\nnot scaled and not masked. We can use the [mask_circle]{.title-ref},\n[scale]{.title-ref}, and [size]{.title-ref} arguments to change how the\ncrops are generated.\n\n-   Use [mask_circle=True, scale=1, size=1]{.title-ref}, if you would\n    like to get features that are calculated only from tissue in a\n    visium spot\n-   Use [scale=X]{.title-ref}, with [X \\< 1]{.title-ref}, if you would\n    like to downscale the crop before extracting the features\n-   Use [size=X]{.title-ref}, with [X \\> 1]{.title-ref}, if you would\n    like to extract crops that are X-times the size of the visium spot\n\nLet us extract masked and scaled features and compare them\n"
      ]
    },
    {
      "cell_type": "code",
      "execution_count": null,
      "metadata": {
        "collapsed": false
      },
      "outputs": [],
      "source": [
        "# We subset adata to the first 50 spots to make the computation of features fast.\n# Skip this step if you want to calculate features from all spots\nadata_sml = adata[0:50].copy()\n\n# calculate default features\nsq.im.calculate_image_features(adata_sml, img, features=[\"summary\", \"texture\", \"histogram\"], key_added=\"features\")\n# calculate features with masking\nsq.im.calculate_image_features(\n    adata_sml, img, features=[\"summary\", \"texture\", \"histogram\"], key_added=\"features_masked\", mask_circle=True\n)\n# calculate features with scaling and larger context\nsq.im.calculate_image_features(\n    adata_sml,\n    img,\n    features=[\"summary\", \"texture\", \"histogram\"],\n    key_added=\"features_scaled\",\n    mask_circle=True,\n    size=2,\n    scale=0.5,\n)\n\n# plot distribution of median for different cropping options\nsns.distplot(adata_sml.obsm[\"features\"][\"summary_quantile_0.5_ch_0\"], label=\"features\")\nsns.distplot(adata_sml.obsm[\"features_masked\"][\"summary_quantile_0.5_ch_0\"], label=\"features_masked\")\nsns.distplot(adata_sml.obsm[\"features_scaled\"][\"summary_quantile_0.5_ch_0\"], label=\"features_scaled\")\n_ = plt.legend()"
      ]
    },
    {
      "cell_type": "markdown",
      "metadata": {},
      "source": [
        "The masked features have lower median values, because the area outside\nthe circle is masked with zeros.\n"
      ]
    }
  ],
  "metadata": {
    "kernelspec": {
      "display_name": "Python 3",
      "language": "python",
      "name": "python3"
    },
    "language_info": {
      "codemirror_mode": {
        "name": "ipython",
        "version": 3
      },
      "file_extension": ".py",
      "mimetype": "text/x-python",
      "name": "python",
      "nbconvert_exporter": "python",
      "pygments_lexer": "ipython3",
      "version": "3.8.6"
    }
  },
  "nbformat": 4,
  "nbformat_minor": 0
}