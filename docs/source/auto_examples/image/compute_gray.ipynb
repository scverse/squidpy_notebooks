{
  "cells": [
    {
      "cell_type": "code",
      "execution_count": null,
      "metadata": {
        "collapsed": false
      },
      "outputs": [],
      "source": [
        "%matplotlib inline"
      ]
    },
    {
      "cell_type": "markdown",
      "metadata": {},
      "source": [
        "# Converting to Grayscale\n\nThis example shows how to use `squidpy.im.process_img`{.interpreted-text\nrole=\"func\"} to convert an image layer of\n`squidpy.im.ImageContainer`{.interpreted-text role=\"class\"} to\ngrayscale.\n\nWe use the argument `processing=\"gray\"` to convert the image. This calls\n`skimage.color.rgb2gray`{.interpreted-text role=\"func\"} in the\nbackground.\n\nSee also\n`sphx_glr_auto_examples_image_compute_smooth.py`{.interpreted-text\nrole=\"ref\"} and\n`sphx_glr_auto_examples_image_compute_process_hires.py`{.interpreted-text\nrole=\"ref\"}\n"
      ]
    },
    {
      "cell_type": "code",
      "execution_count": null,
      "metadata": {
        "collapsed": false
      },
      "outputs": [],
      "source": [
        "import squidpy as sq\n\nimport matplotlib.pyplot as plt"
      ]
    },
    {
      "cell_type": "markdown",
      "metadata": {},
      "source": [
        "First, we load an H&E stained tissue image. Here, we only load a cropped\ndataset to speed things up. In general,\n`squidpy.im.process_img`{.interpreted-text role=\"func\"} can also process\nvery large images (see\n`sphx_glr_auto_examples_image_compute_process_hires.py`{.interpreted-text\nrole=\"ref\"}).\n"
      ]
    },
    {
      "cell_type": "code",
      "execution_count": null,
      "metadata": {
        "collapsed": false
      },
      "outputs": [],
      "source": [
        "img = sq.datasets.visium_hne_image_crop()"
      ]
    },
    {
      "cell_type": "markdown",
      "metadata": {},
      "source": [
        "Then, we convert the image to grayscale and plot the result. With the\nargument `img_id` we can select the image layer that should be\nprocessed. When converting to grayscale, the channel dimensions change\nfrom 3 to 1. By default, the name of the resulting channel dimension\nwill be `{{original_channel_name}}_gray`. Use the argument `channel_id`\nto set a new channel name explicitely. By default, the resulting image\nis saved in the layer `image_gray`. This behaviour can be changed with\nthe arguments `copy` and `key_added`.\n"
      ]
    },
    {
      "cell_type": "code",
      "execution_count": null,
      "metadata": {
        "collapsed": false
      },
      "outputs": [],
      "source": [
        "sq.im.process_img(img, img_id=\"image\", processing=\"gray\")\n\nfig, axes = plt.subplots(1, 2)\naxes[0].imshow(img[\"image\"])\naxes[0].set_title(\"original\")\naxes[1].imshow(img[\"image_gray\"].squeeze(), cmap=\"gray\")\naxes[1].set_title(\"grayscale\")\nfor ax in axes:\n    ax.axis(\"off\")"
      ]
    }
  ],
  "metadata": {
    "kernelspec": {
      "display_name": "Python 3",
      "language": "python",
      "name": "python3"
    },
    "language_info": {
      "codemirror_mode": {
        "name": "ipython",
        "version": 3
      },
      "file_extension": ".py",
      "mimetype": "text/x-python",
      "name": "python",
      "nbconvert_exporter": "python",
      "pygments_lexer": "ipython3",
      "version": "3.8.6"
    }
  },
  "nbformat": 4,
  "nbformat_minor": 0
}