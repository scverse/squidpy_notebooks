{
  "cells": [
    {
      "cell_type": "code",
      "execution_count": null,
      "metadata": {
        "collapsed": false
      },
      "outputs": [],
      "source": [
        "%matplotlib inline"
      ]
    },
    {
      "cell_type": "markdown",
      "metadata": {},
      "source": [
        "# Convert to grayscale\n\nThis example shows how to use `squidpy.im.process` to convert an image\nlayer to grayscale.\n\nYou can convert any layer of `squidpy.im.ImageContainer` to grayscale.\nWe use the argument `method = 'gray'` to convert the image. This calls\n`skimage.color.rgb2gray` in the background.\n\n::: seealso\n-   `sphx_glr_auto_examples_image_compute_smooth.py`\n-   `sphx_glr_auto_examples_image_compute_process_hires.py`\n:::\n"
      ]
    },
    {
      "cell_type": "code",
      "execution_count": null,
      "metadata": {
        "collapsed": false
      },
      "outputs": [],
      "source": [
        "import squidpy as sq\n\nimport matplotlib.pyplot as plt"
      ]
    },
    {
      "cell_type": "markdown",
      "metadata": {},
      "source": [
        "First, we load the H&E stained tissue image. Here, we only load a\ncropped dataset to speed things up. In general, `squidpy.im.process` can\nalso process very large images (see\n`sphx_glr_auto_examples_image_compute_process_hires.py`).\n"
      ]
    },
    {
      "cell_type": "code",
      "execution_count": null,
      "metadata": {
        "collapsed": false
      },
      "outputs": [],
      "source": [
        "img = sq.datasets.visium_hne_image_crop()"
      ]
    },
    {
      "cell_type": "markdown",
      "metadata": {},
      "source": [
        "Then, we convert the image to grayscale and plot the result. With the\nargument `layer` we can select the image layer that should be processed.\nWhen converting to grayscale, the channel dimensions change from 3 to 1.\nBy default, the name of the resulting channel dimension will be\n`'{{original_channel_name}}_gray'`. Use the argument `channel_dim` to\nset a new channel name explicitly. By default, the resulting image is\nsaved in the layer `image_gray`. This behavior can be changed with the\narguments `copy` and `layer_added`.\n"
      ]
    },
    {
      "cell_type": "code",
      "execution_count": null,
      "metadata": {
        "collapsed": false
      },
      "outputs": [],
      "source": [
        "sq.im.process(img, layer=\"image\", method=\"gray\")\n\nfig, axes = plt.subplots(1, 2)\nimg.show(\"image\", ax=axes[0])\n_ = axes[0].set_title(\"original\")\nimg.show(\"image_gray\", cmap=\"gray\", ax=axes[1])\n_ = axes[1].set_title(\"grayscale\")"
      ]
    }
  ],
  "metadata": {
    "kernelspec": {
      "display_name": "Python 3",
      "language": "python",
      "name": "python3"
    },
    "language_info": {
      "codemirror_mode": {
        "name": "ipython",
        "version": 3
      },
      "file_extension": ".py",
      "mimetype": "text/x-python",
      "name": "python",
      "nbconvert_exporter": "python",
      "pygments_lexer": "ipython3",
      "version": "3.9.12"
    }
  },
  "nbformat": 4,
  "nbformat_minor": 0
}