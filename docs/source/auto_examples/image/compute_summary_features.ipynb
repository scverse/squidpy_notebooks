{
  "cells": [
    {
      "cell_type": "code",
      "execution_count": null,
      "metadata": {
        "collapsed": false
      },
      "outputs": [],
      "source": [
        "%matplotlib inline"
      ]
    },
    {
      "cell_type": "markdown",
      "metadata": {},
      "source": [
        "Summary features \\-\\-\\-\\-\\-\\-\\-\\-\\-\\-\\-\\-\\--\n\nHere, we use `squidpy.im.calculate_image_features`{.interpreted-text\nrole=\"func\"} to extract summary features from the tissue image. Please\nhave a look at\nef:[sphx_glr_auto_examples_image_compute_features.py]{.title-ref} for\nthe general usage of\n`squidpy.im.calculate_image_features`{.interpreted-text role=\"func\"}.\n\nSummary features give a good overview over the intensity of each image\nchannels at the location of the visium spots. They are calculated by\nusing `features = 'summary'`, which will internally call\n`squidpy.im.ImageContainer.get_summary_features`{.interpreted-text\nrole=\"meth\"}.\n\nIn addition to `feature_name` and `channels` we can specify the\nfollowing `features_kwargs`: - `quantiles`: Quantiles that are computed.\nBy default, the 0.9th, 0.5th, and 0.1th quantiles are calculated -\n`mean`: Compute mean. Off by default - `std`: Compute std deviation. Off\nby default.\n"
      ]
    },
    {
      "cell_type": "code",
      "execution_count": null,
      "metadata": {
        "collapsed": false
      },
      "outputs": [],
      "source": [
        "import os\n\nimport squidpy as sq\n\nimport scanpy as sc"
      ]
    },
    {
      "cell_type": "markdown",
      "metadata": {},
      "source": [
        "First, we load a fluorescence visisum dataset.\n"
      ]
    },
    {
      "cell_type": "code",
      "execution_count": null,
      "metadata": {
        "collapsed": false
      },
      "outputs": [],
      "source": [
        "# get spatial dataset including hires tissue image\nimg = sq.im.ImageContainer(os.path.expanduser(\"~/.cache/squidpy/tutorial_data/visium_fluo_crop.tiff\"))\nadata = sc.read(os.path.expanduser(\"~/.cache/squidpy/tutorial_data/visium_fluo_crop.h5ad\"))"
      ]
    },
    {
      "cell_type": "markdown",
      "metadata": {},
      "source": [
        "Then, we and calculate the 0.1th quantile and mean for the visium spots\nof the fluorescence channels 0 (DAPI) and 1 (GFAP). In order to only get\nstatistics of the tissue underneath the spots, we use the argument\n`mask_circle = True`. When not setting this, statistics are calculated\nusing a square crop centered on the spot.\n"
      ]
    },
    {
      "cell_type": "code",
      "execution_count": null,
      "metadata": {
        "collapsed": false
      },
      "outputs": [],
      "source": [
        "# calculate summary features and save in key \"summary_features\"\nsq.im.calculate_image_features(\n    adata,\n    img,\n    features=\"summary\",\n    features_kwargs={\n        \"summary\": {\n            \"mean\": True,\n            \"quantiles\": [\n                0.1,\n            ],\n            \"channels\": [0, 1],\n        }\n    },\n    key_added=\"summary_features\",\n    mask_circle=True,\n)"
      ]
    },
    {
      "cell_type": "markdown",
      "metadata": {},
      "source": [
        "The result is stored in [adata.obsm\\[\\'summary_features\\'\\]]{.title-ref}\n"
      ]
    },
    {
      "cell_type": "code",
      "execution_count": null,
      "metadata": {
        "collapsed": false
      },
      "outputs": [],
      "source": [
        "adata.obsm[\"summary_features\"].head()"
      ]
    },
    {
      "cell_type": "markdown",
      "metadata": {},
      "source": [
        "Use `squidpy.pl.extract`{.interpreted-text role=\"func\"} to plot the\nsummary features on the tissue image. Note how the spatial distribution\nof channel means is different for fluorescence channels 0 (DAPI stain)\nand 1 (GFAP stain).\n\nTODO: reference to interactive plotting\n"
      ]
    },
    {
      "cell_type": "code",
      "execution_count": null,
      "metadata": {
        "collapsed": false
      },
      "outputs": [],
      "source": [
        "sc.set_figure_params(facecolor=\"white\", figsize=(8, 8))\nsc.pl.spatial(sq.pl.extract(adata, \"summary_features\"), color=[None, \"summary_mean_ch_0\", \"summary_mean_ch_1\"], bw=True)"
      ]
    }
  ],
  "metadata": {
    "kernelspec": {
      "display_name": "Python 3",
      "language": "python",
      "name": "python3"
    },
    "language_info": {
      "codemirror_mode": {
        "name": "ipython",
        "version": 3
      },
      "file_extension": ".py",
      "mimetype": "text/x-python",
      "name": "python",
      "nbconvert_exporter": "python",
      "pygments_lexer": "ipython3",
      "version": "3.8.6"
    }
  },
  "nbformat": 4,
  "nbformat_minor": 0
}