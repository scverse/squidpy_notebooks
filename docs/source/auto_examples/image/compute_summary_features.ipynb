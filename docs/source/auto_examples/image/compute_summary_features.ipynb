{
  "cells": [
    {
      "cell_type": "code",
      "execution_count": null,
      "metadata": {
        "collapsed": false
      },
      "outputs": [],
      "source": [
        "%matplotlib inline"
      ]
    },
    {
      "cell_type": "markdown",
      "metadata": {},
      "source": [
        "# Summary features\n\nHere, we use `squidpy.im.calculate_image_features`{.interpreted-text\nrole=\"func\"} to extract summary features from the tissue image. Have a\nlook at\n`sphx_glr_auto_examples_image_compute_features.py`{.interpreted-text\nrole=\"ref\"} for the general usage of\n`squidpy.im.calculate_image_features`{.interpreted-text role=\"func\"}.\n\nSummary features give a good overview over the intensity of each image\nchannel at the location of the visium spots. They are calculated by\nusing `features='summary'`.\n\nIn addition to `feature_name` and `channels` we can specify the\nfollowing `features_kwargs`:\n\n-   `quantiles`: Quantiles that are computed. By default, the 0.9th,\n    0.5th, and 0.1th quantiles are calculated\n-   `mean`: Compute mean. Off by default\n-   `std`: Compute std deviation. Off by default.\n"
      ]
    },
    {
      "cell_type": "code",
      "execution_count": null,
      "metadata": {
        "collapsed": false
      },
      "outputs": [],
      "source": [
        "import scanpy as sc\nimport squidpy as sq"
      ]
    },
    {
      "cell_type": "markdown",
      "metadata": {},
      "source": [
        "First, we load a fluorescence visisum dataset.\n"
      ]
    },
    {
      "cell_type": "code",
      "execution_count": null,
      "metadata": {
        "collapsed": false
      },
      "outputs": [],
      "source": [
        "# get spatial dataset including high-resolution tissue image\nimg = sq.datasets.visium_fluo_image_crop()\nadata = sq.datasets.visium_fluo_adata_crop()"
      ]
    },
    {
      "cell_type": "markdown",
      "metadata": {},
      "source": [
        "Then, we calculate the 0.9th quantile and mean for the visium spots of\nthe fluorescence channels 0 (DAPI) and 1 (GFAP). In order to only get\nstatistics of the tissue underneath the spots, we use the argument\n`mask_circle=True`. When not setting this flag, statistics are\ncalculated using a square crop centered on the spot.\n"
      ]
    },
    {
      "cell_type": "code",
      "execution_count": null,
      "metadata": {
        "collapsed": false
      },
      "outputs": [],
      "source": [
        "# calculate summary features and save in key \"summary_features\"\nsq.im.calculate_image_features(\n    adata,\n    img,\n    features=\"summary\",\n    features_kwargs={\n        \"summary\": {\n            \"mean\": True,\n            \"quantiles\": [0.9],\n            \"channels\": [0, 1],\n        }\n    },\n    key_added=\"summary_features\",\n    mask_circle=True,\n)"
      ]
    },
    {
      "cell_type": "markdown",
      "metadata": {},
      "source": [
        "The result is stored in [adata.obsm\\[\\'summary_features\\'\\]]{.title-ref}\n"
      ]
    },
    {
      "cell_type": "code",
      "execution_count": null,
      "metadata": {
        "collapsed": false
      },
      "outputs": [],
      "source": [
        "adata.obsm[\"summary_features\"].head()"
      ]
    },
    {
      "cell_type": "markdown",
      "metadata": {},
      "source": [
        "Use `squidpy.pl.extract`{.interpreted-text role=\"func\"} to plot the\nsummary features on the tissue image or have a look at\n`sphx_glr_auto_tutorials_tutorial_napari.py`{.interpreted-text\nrole=\"ref\"} to learn how to use our interactive napari plugin. Note, how\nthe spatial distribution of channel means is different for fluorescence\nchannels 0 (DAPI stain) and 1 (GFAP stain).\n"
      ]
    },
    {
      "cell_type": "code",
      "execution_count": null,
      "metadata": {
        "collapsed": false
      },
      "outputs": [],
      "source": [
        "sc.pl.spatial(sq.pl.extract(adata, \"summary_features\"), color=[None, \"summary_mean_ch_0\", \"summary_mean_ch_1\"], bw=True)"
      ]
    }
  ],
  "metadata": {
    "kernelspec": {
      "display_name": "Python 3",
      "language": "python",
      "name": "python3"
    },
    "language_info": {
      "codemirror_mode": {
        "name": "ipython",
        "version": 3
      },
      "file_extension": ".py",
      "mimetype": "text/x-python",
      "name": "python",
      "nbconvert_exporter": "python",
      "pygments_lexer": "ipython3",
      "version": "3.8.6"
    }
  },
  "nbformat": 4,
  "nbformat_minor": 0
}