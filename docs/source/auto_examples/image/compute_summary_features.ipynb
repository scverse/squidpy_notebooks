{
  "cells": [
    {
      "cell_type": "code",
      "execution_count": null,
      "metadata": {
        "collapsed": false
      },
      "outputs": [],
      "source": [
        "%matplotlib inline"
      ]
    },
    {
      "cell_type": "markdown",
      "metadata": {},
      "source": [
        "Extract summary features\n========================\n\nThis example shows how to extract summary features from the tissue\nimage.\n\nSummary features give a good overview over the intensity of each image\nchannels at the location of the Visium spots. They are calculated by\nusing `features = 'summary'`.\n\nIn addition to `feature_name` and `channels` we can specify the\nfollowing `features_kwargs`:\n\n-   `quantiles` - quantiles that are computed. By default, the 0.9th,\n    0.5th, and 0.1th quantiles are calculated.\n\n::: {.seealso}\nSee `sphx_glr_auto_examples_image_compute_features.py` for general usage\nof `squidpy.im.calculate_image_features`.\n:::\n"
      ]
    },
    {
      "cell_type": "code",
      "execution_count": null,
      "metadata": {
        "collapsed": false
      },
      "outputs": [],
      "source": [
        "import scanpy as sc\nimport squidpy as sq"
      ]
    },
    {
      "cell_type": "markdown",
      "metadata": {},
      "source": [
        "First, we load a fluorescence Visium dataset.\n"
      ]
    },
    {
      "cell_type": "code",
      "execution_count": null,
      "metadata": {
        "collapsed": false
      },
      "outputs": [],
      "source": [
        "# get spatial dataset including hires tissue image\nimg = sq.datasets.visium_fluo_image_crop()\nadata = sq.datasets.visium_fluo_adata_crop()"
      ]
    },
    {
      "cell_type": "markdown",
      "metadata": {},
      "source": [
        "Then, we calculate the 0.1th quantile, mean and standard deviation for\nthe Visium spots of the fluorescence channels 0 (DAPI) and 1 (GFAP). In\norder to get statistics of only the tissue underneath the spots, we use\nthe argument `mask_circle = True`. When not setting this flag,\nstatistics are calculated using a square crop centered on the spot.\n"
      ]
    },
    {
      "cell_type": "code",
      "execution_count": null,
      "metadata": {
        "collapsed": false
      },
      "outputs": [],
      "source": [
        "# calculate summary features and save in key \"summary_features\"\nsq.im.calculate_image_features(\n    adata,\n    img,\n    features=\"summary\",\n    features_kwargs={\n        \"summary\": {\n            \"quantiles\": [\n                0.1,\n            ],\n            \"channels\": [0, 1],\n        }\n    },\n    key_added=\"summary_features\",\n    mask_circle=True,\n    show_progress_bar=False,\n)"
      ]
    },
    {
      "cell_type": "markdown",
      "metadata": {},
      "source": [
        "The result is stored in `adata.obsm['summary_features']`\n"
      ]
    },
    {
      "cell_type": "code",
      "execution_count": null,
      "metadata": {
        "collapsed": false
      },
      "outputs": [],
      "source": [
        "adata.obsm[\"summary_features\"].head()"
      ]
    },
    {
      "cell_type": "markdown",
      "metadata": {},
      "source": [
        "Use `squidpy.pl.extract` to plot the summary features on the tissue\nimage or have a look at [our interactive visualisation\ntutorial](../../external_tutorials/tutorial_napari.ipynb) to learn how\nto use our interactive `napari` plugin. Note how the spatial\ndistribution of channel means is different for fluorescence channels 0\n(DAPI stain) and 1 (GFAP stain).\n"
      ]
    },
    {
      "cell_type": "code",
      "execution_count": null,
      "metadata": {
        "collapsed": false
      },
      "outputs": [],
      "source": [
        "sc.pl.spatial(sq.pl.extract(adata, \"summary_features\"), color=[None, \"summary_ch-0_mean\", \"summary_ch-1_mean\"], bw=True)"
      ]
    }
  ],
  "metadata": {
    "kernelspec": {
      "display_name": "Python 3",
      "language": "python",
      "name": "python3"
    },
    "language_info": {
      "codemirror_mode": {
        "name": "ipython",
        "version": 3
      },
      "file_extension": ".py",
      "mimetype": "text/x-python",
      "name": "python",
      "nbconvert_exporter": "python",
      "pygments_lexer": "ipython3",
      "version": "3.8.10"
    }
  },
  "nbformat": 4,
  "nbformat_minor": 0
}