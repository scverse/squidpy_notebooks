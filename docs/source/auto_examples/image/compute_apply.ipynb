{
  "cells": [
    {
      "cell_type": "code",
      "execution_count": null,
      "metadata": {
        "collapsed": false
      },
      "outputs": [],
      "source": [
        "%matplotlib inline"
      ]
    },
    {
      "cell_type": "markdown",
      "metadata": {},
      "source": [
        "# Convert to grayscale using the apply method\n\nThis example shows how to use `squidpy.ImageContainer.apply` to convert\nan image layer to grayscale. This calls `squidpy.im.process` in the\nbackground.\n\nWe take the mean of the three channels(RGB) using the user-defined\nfunction `` `rgb2gray ``[ to convert the image to grayscale. The\nfunction ]{.title-ref}`rgb2gray`[ computes the mean of the three\nchannels (RGB) across axis 3. The purpose of this example is to show how\nthe ]{.title-ref}`apply`[ method\n:meth:\\`squidpy.ImageContainer.apply]{.title-ref} can be used.\n\n::: seealso\n\\- `sphx_glr_auto_examples_image_compute_smooth.py` -\n`sphx_glr_auto_examples_image_compute_process_hires.py` -\n`sphx_glr_auto_examples_image_compute_gray.py`\n:::\n"
      ]
    },
    {
      "cell_type": "code",
      "execution_count": null,
      "metadata": {
        "collapsed": false
      },
      "outputs": [],
      "source": [
        "import squidpy as sq\n\nimport numpy as np\n\nimport matplotlib.pyplot as plt"
      ]
    },
    {
      "cell_type": "markdown",
      "metadata": {},
      "source": [
        "First, we load the H&E stained tissue image. Here, we only load a\ncropped dataset to speed things up. In general,\n`squidpy.im.ImageContainer.apply` can also process very large images.\n(see `sphx_glr_auto_examples_image_compute_process_hires.py`).\n"
      ]
    },
    {
      "cell_type": "code",
      "execution_count": null,
      "metadata": {
        "collapsed": false
      },
      "outputs": [],
      "source": [
        "img = sq.datasets.visium_hne_image_crop()"
      ]
    },
    {
      "cell_type": "markdown",
      "metadata": {},
      "source": [
        "The method `squidpy.im.ImageContainer.apply` takes a function as an\ninput. Such function, or a mapping of `` `{'{library_id}': function} ``[\ntakes a :class:\\`numpy.ndarray]{.title-ref} as input and returns an\nimage-like output. Here, the function takes `` `x ``\\`\\`, which is a\nnumpy array as an input and returns the mean of three channels across\naxis 3 and produces image-like output.\n"
      ]
    },
    {
      "cell_type": "code",
      "execution_count": null,
      "metadata": {
        "collapsed": false
      },
      "outputs": [],
      "source": [
        "def rgb2gray(x):\n    \"\"\"Return the mean of numpy array along axis 3\"\"\"\n    return np.mean(x, axis=3)"
      ]
    },
    {
      "cell_type": "markdown",
      "metadata": {},
      "source": [
        "The H&E stained tissue image is an image layer of\n`squidpy.im.ImageContainer`. So, we add .apply and pass the previously\ndefined function as an input.\n"
      ]
    },
    {
      "cell_type": "code",
      "execution_count": null,
      "metadata": {
        "collapsed": false
      },
      "outputs": [],
      "source": [
        "gray = img.apply(rgb2gray)"
      ]
    },
    {
      "cell_type": "markdown",
      "metadata": {},
      "source": [
        "Then, we convert the image to grayscale and plot the result, using\nmatplotlib.\n"
      ]
    },
    {
      "cell_type": "code",
      "execution_count": null,
      "metadata": {
        "collapsed": false
      },
      "outputs": [],
      "source": [
        "fig, axes = plt.subplots(1, 2)\nimg.show(ax=axes[0])\n_ = axes[0].set_title(\"Original\")\ngray.show(cmap=\"gray\", ax=axes[1])\n_ = axes[1].set_title(\"Grayscale\")\nplt.show()"
      ]
    }
  ],
  "metadata": {
    "kernelspec": {
      "display_name": "Python 3",
      "language": "python",
      "name": "python3"
    },
    "language_info": {
      "codemirror_mode": {
        "name": "ipython",
        "version": 3
      },
      "file_extension": ".py",
      "mimetype": "text/x-python",
      "name": "python",
      "nbconvert_exporter": "python",
      "pygments_lexer": "ipython3",
      "version": "3.9.12"
    }
  },
  "nbformat": 4,
  "nbformat_minor": 0
}