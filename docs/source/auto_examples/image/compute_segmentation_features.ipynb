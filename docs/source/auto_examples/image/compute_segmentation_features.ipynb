{
  "cells": [
    {
      "cell_type": "code",
      "execution_count": null,
      "metadata": {
        "collapsed": false
      },
      "outputs": [],
      "source": [
        "%matplotlib inline"
      ]
    },
    {
      "cell_type": "markdown",
      "metadata": {},
      "source": [
        "Extract segmentation features\n=============================\n\nThis example shows how to extract segmentation features from the tissue\nimage.\n\nFeatures extracted from a nucleus segmentation range from the number of\nnuclei per image, over nuclei shapes and sizes, to the intensity of the\ninput channels within the segmented objects. They are very interpretable\nfeatures and provide valuable additional information. Use\n`features='segmentation'` to calculate the features.\n\nIn addition to `feature_name` and `channels` we can specify the\nfollowing `features_kwargs`:\n\n-   `label_layer` - name of label image layer in `img`.\n-   `props` - segmentation features that are calculated. See\n    [properties]{.title-ref} in `skimage.measure.regionprops_table`.\n\n::: {.seealso}\n-   `sphx_glr_auto_examples_image_compute_segment_fluo.py` for more\n    details on calculating a cell-segmentation.\n-   `sphx_glr_auto_examples_image_compute_features.py` for the general\n    usage of `squidpy.im.calculate_image_features`.\n:::\n"
      ]
    },
    {
      "cell_type": "code",
      "execution_count": null,
      "metadata": {
        "collapsed": false
      },
      "outputs": [],
      "source": [
        "import scanpy as sc\nimport squidpy as sq\n\nimport matplotlib.pyplot as plt"
      ]
    },
    {
      "cell_type": "markdown",
      "metadata": {},
      "source": [
        "Lets load a fluorescence Visium dataset.\n"
      ]
    },
    {
      "cell_type": "code",
      "execution_count": null,
      "metadata": {
        "collapsed": false
      },
      "outputs": [],
      "source": [
        "img = sq.datasets.visium_fluo_image_crop()\nadata = sq.datasets.visium_fluo_adata_crop()"
      ]
    },
    {
      "cell_type": "markdown",
      "metadata": {},
      "source": [
        "Before calculating segmentation features, we need to first calculate a\nsegmentation using `squidpy.im.segment`.\n"
      ]
    },
    {
      "cell_type": "code",
      "execution_count": null,
      "metadata": {
        "collapsed": false
      },
      "outputs": [],
      "source": [
        "sq.im.segment(img=img, layer=\"image\", layer_added=\"segmented_watershed\", method=\"watershed\", channel=0)"
      ]
    },
    {
      "cell_type": "markdown",
      "metadata": {},
      "source": [
        "Now we can calculate segmentation features. Here, we will calculate the\nfollowing features:\n\n-   number of nuclei (`label`).\n-   mean area of nuclei (`area`).\n-   mean intensity of channels 1 (anti-NEUN) and 2 (anti-GFAP) within\n    nuclei (`mean_intensity`).\n\nWe use `mask_cicle = True` to ensure that we are only extracting\nfeatures from the tissue underneath each Visium spot. For more details\non the image cropping, see\n`sphx_glr_auto_examples_image_compute_crops.py`.\n"
      ]
    },
    {
      "cell_type": "code",
      "execution_count": null,
      "metadata": {
        "collapsed": false
      },
      "outputs": [],
      "source": [
        "sq.im.calculate_image_features(\n    adata,\n    img,\n    layer=\"image\",\n    features=\"segmentation\",\n    key_added=\"segmentation_features\",\n    features_kwargs={\n        \"segmentation\": {\n            \"label_layer\": \"segmented_watershed\",\n            \"props\": [\"label\", \"area\", \"mean_intensity\"],\n            \"channels\": [1, 2],\n        }\n    },\n    mask_circle=True,\n)"
      ]
    },
    {
      "cell_type": "markdown",
      "metadata": {},
      "source": [
        "The result is stored in `adata.obsm['segmentation_features']`.\n"
      ]
    },
    {
      "cell_type": "code",
      "execution_count": null,
      "metadata": {
        "collapsed": false
      },
      "outputs": [],
      "source": [
        "adata.obsm[\"segmentation_features\"].head()"
      ]
    },
    {
      "cell_type": "markdown",
      "metadata": {},
      "source": [
        "Use `squidpy.pl.extract` to plot the texture features on the tissue\nimage or have a look at [our interactive visualisation\ntutorial](../../external_tutorials/tutorial_napari.ipynb) to learn how\nto use our interactive `napari` plugin. Here, we show all calculated\nsegmentation features.\n"
      ]
    },
    {
      "cell_type": "code",
      "execution_count": null,
      "metadata": {
        "collapsed": false
      },
      "outputs": [],
      "source": [
        "# show all channels (using low-res image contained in adata to save memory)\nfig, axes = plt.subplots(1, 3, figsize=(8, 4))\nfor i, ax in enumerate(axes):\n    ax.imshow(adata.uns[\"spatial\"][\"V1_Adult_Mouse_Brain_Coronal_Section_2\"][\"images\"][\"hires\"][:, :, i])\n    ax.set_title(f\"ch{i}\")\n\n# plot segmentation features\nsc.pl.spatial(\n    sq.pl.extract(adata, \"segmentation_features\"),\n    color=[\n        \"segmentation_label\",\n        \"segmentation_area_mean\",\n        \"segmentation_ch-1_mean_intensity_mean\",\n        \"segmentation_ch-2_mean_intensity_mean\",\n    ],\n    bw=True,\n    ncols=2,\n    vmin=\"p1\",\n    vmax=\"p99\",\n)"
      ]
    },
    {
      "cell_type": "markdown",
      "metadata": {},
      "source": [
        "[segmentation\\_label]{.title-ref} shows the number of nuclei per spot\nand [segmentation\\_area\\_mean]{.title-ref} the mean are of nuclei per\nspot. The remaining two plots show the mean intensity of channels 1 and\n2 per spot. As the stains for channels 1 and 2 are specific to Neurons\nand Glial cells, respectively, these features show us Neuron and Glial\ncell dense areas.\n"
      ]
    }
  ],
  "metadata": {
    "kernelspec": {
      "display_name": "Python 3",
      "language": "python",
      "name": "python3"
    },
    "language_info": {
      "codemirror_mode": {
        "name": "ipython",
        "version": 3
      },
      "file_extension": ".py",
      "mimetype": "text/x-python",
      "name": "python",
      "nbconvert_exporter": "python",
      "pygments_lexer": "ipython3",
      "version": "3.8.10"
    }
  },
  "nbformat": 4,
  "nbformat_minor": 0
}