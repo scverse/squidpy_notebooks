{
  "cells": [
    {
      "cell_type": "code",
      "execution_count": null,
      "metadata": {
        "collapsed": false
      },
      "outputs": [],
      "source": [
        "%matplotlib inline"
      ]
    },
    {
      "cell_type": "markdown",
      "metadata": {},
      "source": [
        "# Processing a high-resolution Image\n\nThis example shows how to use `squidpy.im.process_img`{.interpreted-text\nrole=\"func\"} to apply any processing function (smoothing, conversion to\ngrayscale) to a high-resolution image layer of\n`squidpy.im.ImageContainer`{.interpreted-text role=\"class\"}.\n\nBy default, `squidpy.im.process_img`{.interpreted-text role=\"func\"}\nprocesses the entire input image at once. In the case of high-resolution\ntissue slides however, the images might be too big to fit in memory and\ncannot be processed at once. In that case you can use the arguments `xs`\nand `ys` that will tile the image in crops of size `(ys, xs)`, process\neach crop, and re-assemble the resulting image. Note that you can also\nuse `squidpy.im.segment_img`{.interpreted-text role=\"func\"} in this\nmanner.\n\nNote that depending on the processing function used, there might be\nborder effects occurring at the edges of the crops. In a future version,\nwe will support the extraction of overlapping crops, which can mitigate\nthese effects.\n\nFor more usage examples see also\n`sphx_glr_auto_examples_image_compute_smooth.py`{.interpreted-text\nrole=\"ref\"},\n`sphx_glr_auto_examples_image_compute_gray.py`{.interpreted-text\nrole=\"ref\"}, and\n`sphx_glr_auto_examples_image_compute_segment_fluo.py`{.interpreted-text\nrole=\"ref\"}.\n"
      ]
    },
    {
      "cell_type": "code",
      "execution_count": null,
      "metadata": {
        "collapsed": false
      },
      "outputs": [],
      "source": [
        "import squidpy as sq\n\nimport matplotlib.pyplot as plt\n\n# load H&E stained tissue image\nimg = sq.datasets.visium_hne_image()"
      ]
    },
    {
      "cell_type": "markdown",
      "metadata": {},
      "source": [
        "We will process the image by tiling it in crops of shape\n`(ys, xs) = (1000, 1000)`.\n"
      ]
    },
    {
      "cell_type": "code",
      "execution_count": null,
      "metadata": {
        "collapsed": false
      },
      "outputs": [],
      "source": [
        "sq.im.process_img(img, img_id=\"image\", processing=\"gray\", xs=1000, ys=1000)"
      ]
    },
    {
      "cell_type": "markdown",
      "metadata": {},
      "source": [
        "Now we can look at the result on a cropped part of the image.\n"
      ]
    },
    {
      "cell_type": "code",
      "execution_count": null,
      "metadata": {
        "collapsed": false
      },
      "outputs": [],
      "source": [
        "crop = img.crop_corner(4000, 4000, 2000, 2000)\n\nfig, axes = plt.subplots(1, 2)\naxes[0].imshow(crop[\"image\"])\naxes[0].set_title(\"original\")\naxes[1].imshow(crop[\"image_gray\"].squeeze(), cmap=\"gray\")\naxes[1].set_title(\"converted to grayscale\")\nfor ax in axes:\n    ax.axis(\"off\")"
      ]
    }
  ],
  "metadata": {
    "kernelspec": {
      "display_name": "Python 3",
      "language": "python",
      "name": "python3"
    },
    "language_info": {
      "codemirror_mode": {
        "name": "ipython",
        "version": 3
      },
      "file_extension": ".py",
      "mimetype": "text/x-python",
      "name": "python",
      "nbconvert_exporter": "python",
      "pygments_lexer": "ipython3",
      "version": "3.8.6"
    }
  },
  "nbformat": 4,
  "nbformat_minor": 0
}