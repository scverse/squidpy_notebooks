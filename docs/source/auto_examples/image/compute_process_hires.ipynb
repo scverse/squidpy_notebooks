{
  "cells": [
    {
      "cell_type": "code",
      "execution_count": null,
      "metadata": {
        "collapsed": false
      },
      "outputs": [],
      "source": [
        "%matplotlib inline"
      ]
    },
    {
      "cell_type": "markdown",
      "metadata": {},
      "source": [
        "# Processing a high-resolution Image\n\nThis example shows how to use `squidpy.im.process_img`{.interpreted-text\nrole=\"func\"} to apply any processing function (smoothing, conversion to\ngrayscale) to a high-resolution image layer of\n`squidpy.im.ImageContainer`{.interpreted-text role=\"class\"}.\n\nBy default, `squidpy.im.process_img`{.interpreted-text role=\"func\"}[\nprocesses the entire input image at once. In the case of high-resolution\ntissue slides however, the images might bo too big to fit in memory and\ncannot be processed at once. In that case you can use the arguments\n]{.title-ref}[xs]{.title-ref}[ and ]{.title-ref}[ys]{.title-ref}[ that\nwill tile the image in crops of size ]{.title-ref}[(ys,\nxs)]{.title-ref}[, process each crop, and re-assemble the resulting\nimage. Note that you can also use\n:func:\\`squidpy.im.segment_img]{.title-ref} in this manner.\n\nNote that depending on the processing function used, there might be\nborder effects occurring at the edges of the crops. In a future version,\nwe will support the extraction of overlapping crops, which can mitigate\nthese effects.\n\nFor more usage examples see also\n`sphx_glr_auto_examples_image_compute_smooth.py`{.interpreted-text\nrole=\"ref\"},\n`sphx_glr_auto_examples_image_compute_gray.py`{.interpreted-text\nrole=\"ref\"}, and\n`sphx_glr_auto_examples_image_compute_segment_fluo.py`{.interpreted-text\nrole=\"ref\"}.\n"
      ]
    },
    {
      "cell_type": "code",
      "execution_count": null,
      "metadata": {
        "collapsed": false
      },
      "outputs": [],
      "source": [
        "import os\n\nimport squidpy as sq\n\nimport matplotlib.pyplot as plt\n\n# get H&E stained tissue image.\nimg = sq.im.ImageContainer(os.path.expanduser(\"~/.cache/squidpy/tutorial_data/visium_hne.tiff\"))"
      ]
    },
    {
      "cell_type": "markdown",
      "metadata": {},
      "source": [
        "First, we crop a smaller image to process\n"
      ]
    },
    {
      "cell_type": "code",
      "execution_count": null,
      "metadata": {
        "collapsed": false
      },
      "outputs": [],
      "source": [
        "crop = img.crop_corner(4000, 4000, 2000, 2000)"
      ]
    },
    {
      "cell_type": "markdown",
      "metadata": {},
      "source": [
        "We will process the image by tiling it in crops of shape\n`(ys, xs) = (1000,1000)`.\n"
      ]
    },
    {
      "cell_type": "code",
      "execution_count": null,
      "metadata": {
        "collapsed": false
      },
      "outputs": [],
      "source": [
        "sq.im.process_img(crop, img_id=\"image\", processing=\"gray\", xs=1000, ys=1000)"
      ]
    },
    {
      "cell_type": "markdown",
      "metadata": {},
      "source": [
        "Now we can plot the result\n"
      ]
    },
    {
      "cell_type": "code",
      "execution_count": null,
      "metadata": {
        "collapsed": false
      },
      "outputs": [],
      "source": [
        "fig, axes = plt.subplots(1, 2)\naxes[0].imshow(crop[\"image\"])\naxes[1].imshow(crop[\"image_gray\"], cmap=\"gray\")\nfor ax in axes:\n    ax.axis(\"off\")"
      ]
    }
  ],
  "metadata": {
    "kernelspec": {
      "display_name": "Python 3",
      "language": "python",
      "name": "python3"
    },
    "language_info": {
      "codemirror_mode": {
        "name": "ipython",
        "version": 3
      },
      "file_extension": ".py",
      "mimetype": "text/x-python",
      "name": "python",
      "nbconvert_exporter": "python",
      "pygments_lexer": "ipython3",
      "version": "3.8.6"
    }
  },
  "nbformat": 4,
  "nbformat_minor": 0
}