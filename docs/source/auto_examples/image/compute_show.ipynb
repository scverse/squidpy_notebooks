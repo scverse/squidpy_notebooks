{
  "cells": [
    {
      "cell_type": "code",
      "execution_count": null,
      "metadata": {
        "collapsed": false
      },
      "outputs": [],
      "source": [
        "%matplotlib inline"
      ]
    },
    {
      "cell_type": "markdown",
      "metadata": {},
      "source": [
        "# Show layers of the ImageContainer\n\nThis example shows how to use `squidpy.im.ImageContainer.show`.\n\nThis function is useful to visualize statically different layers of the\n`squidpy.im.ImageContainer` class.\n\n::: seealso\n-   See `sphx_glr_auto_examples_image_compute_crops.py` and\n    `sphx_glr_auto_examples_image_compute_smooth.py` for additional\n    examples on methods of the `squidpy.im.ImageContainer`.\n:::\n"
      ]
    },
    {
      "cell_type": "code",
      "execution_count": null,
      "metadata": {
        "collapsed": false
      },
      "outputs": [],
      "source": [
        "import squidpy as sq"
      ]
    },
    {
      "cell_type": "markdown",
      "metadata": {},
      "source": [
        "Load the Mibitof dataset.\n"
      ]
    },
    {
      "cell_type": "code",
      "execution_count": null,
      "metadata": {
        "collapsed": false
      },
      "outputs": [],
      "source": [
        "adata = sq.datasets.mibitof()"
      ]
    },
    {
      "cell_type": "markdown",
      "metadata": {},
      "source": [
        "We can briefly visualize the data to understand the type of images we\nhave.\n"
      ]
    },
    {
      "cell_type": "code",
      "execution_count": null,
      "metadata": {
        "collapsed": false
      },
      "outputs": [],
      "source": [
        "for library_id in adata.uns[\"spatial\"].keys():\n    sq.pl.spatial_scatter(\n        adata[adata.obs[\"library_id\"] == library_id], color=\"Cluster\", library_id=library_id, title=library_id\n    )"
      ]
    },
    {
      "cell_type": "markdown",
      "metadata": {},
      "source": [
        "We have three different tissue samples. We also have segmentation masks\nfor each tissue sample. Let\\'s extract the image from the\n`anndata.AnnData` object and create a `squidpy.im.ImageContainer`\nobject.\n"
      ]
    },
    {
      "cell_type": "code",
      "execution_count": null,
      "metadata": {
        "collapsed": false
      },
      "outputs": [],
      "source": [
        "imgs = []\nfor library_id in adata.uns[\"spatial\"].keys():\n    img = sq.im.ImageContainer(adata.uns[\"spatial\"][library_id][\"images\"][\"hires\"], library_id=library_id)\n    img.add_img(adata.uns[\"spatial\"][library_id][\"images\"][\"segmentation\"], library_id=library_id, layer=\"segmentation\")\n    img[\"segmentation\"].attrs[\"segmentation\"] = True\n    imgs.append(img)\nimg = sq.im.ImageContainer.concat(imgs)"
      ]
    },
    {
      "cell_type": "markdown",
      "metadata": {},
      "source": [
        "We can visualize each image of the object with\n`squidpy.im.ImageContainer.show`.\n"
      ]
    },
    {
      "cell_type": "code",
      "execution_count": null,
      "metadata": {
        "collapsed": false
      },
      "outputs": [],
      "source": [
        "img.show(\"image\")"
      ]
    },
    {
      "cell_type": "markdown",
      "metadata": {},
      "source": [
        "`squidpy.im.ImageContainer.show` also allows to overlay the results of\nsegmentation.\n"
      ]
    },
    {
      "cell_type": "code",
      "execution_count": null,
      "metadata": {
        "collapsed": false
      },
      "outputs": [],
      "source": [
        "img.show(\"image\", segmentation_layer=\"segmentation\", segmentation_alpha=0.5)"
      ]
    }
  ],
  "metadata": {
    "kernelspec": {
      "display_name": "Python 3",
      "language": "python",
      "name": "python3"
    },
    "language_info": {
      "codemirror_mode": {
        "name": "ipython",
        "version": 3
      },
      "file_extension": ".py",
      "mimetype": "text/x-python",
      "name": "python",
      "nbconvert_exporter": "python",
      "pygments_lexer": "ipython3",
      "version": "3.9.12"
    }
  },
  "nbformat": 4,
  "nbformat_minor": 0
}