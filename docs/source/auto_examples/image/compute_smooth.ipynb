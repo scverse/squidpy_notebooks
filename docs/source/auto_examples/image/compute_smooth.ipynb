{
  "cells": [
    {
      "cell_type": "code",
      "execution_count": null,
      "metadata": {
        "collapsed": false
      },
      "outputs": [],
      "source": [
        "%matplotlib inline"
      ]
    },
    {
      "cell_type": "markdown",
      "metadata": {},
      "source": [
        "# Smoothing an Image\n\nThis example shows how to use `squidpy.im.process_img`{.interpreted-text\nrole=\"func\"} to smooth an image layer of\n`squidpy.im.ImageContainer`{.interpreted-text role=\"class\"}.\n\nWe use the argument `processing=\"smooth\"` to smooth the image. This\ncalls `skimage.filters.gaussian`{.interpreted-text role=\"func\"} in the\nbackground. Keyword arguments `kwargs` are passed to the wrapped\nfunction. This allows us to set the width of the gaussian kernel,\n`sigma`, used for smoothing.\n\nSee also\n`sphx_glr_auto_examples_image_compute_gray.py`{.interpreted-text\nrole=\"ref\"} and\n`sphx_glr_auto_examples_image_compute_process_hires.py`{.interpreted-text\nrole=\"ref\"}\n"
      ]
    },
    {
      "cell_type": "code",
      "execution_count": null,
      "metadata": {
        "collapsed": false
      },
      "outputs": [],
      "source": [
        "import squidpy as sq\n\nimport matplotlib.pyplot as plt\n\n# load H&E stained tissue image\nimg = sq.datasets.visium_hne_image_crop()"
      ]
    },
    {
      "cell_type": "markdown",
      "metadata": {},
      "source": [
        "Smooth the image with `sigma = 2`. With the argument `img_id` we can\nselect the image layer that should be processed. By default, the\nresulting image is saved in the layer `image_smooth`. This behaviour can\nbe changed with the arguments `copy` and `key_added`.\n"
      ]
    },
    {
      "cell_type": "code",
      "execution_count": null,
      "metadata": {
        "collapsed": false
      },
      "outputs": [],
      "source": [
        "sq.im.process_img(img, img_id=\"image\", processing=\"smooth\", sigma=2)"
      ]
    },
    {
      "cell_type": "markdown",
      "metadata": {},
      "source": [
        "Now we can look at the result on a cropped part of the image.\n"
      ]
    },
    {
      "cell_type": "code",
      "execution_count": null,
      "metadata": {
        "collapsed": false
      },
      "outputs": [],
      "source": [
        "crop = img.crop_corner(0, 0, 200, 200)\n\nfig, axes = plt.subplots(1, 2)\naxes[0].imshow(crop[\"image\"])\naxes[0].set_title(\"original\")\naxes[1].imshow(crop[\"image_smooth\"])\naxes[1].set_title(\"smoothed\")\nfor ax in axes:\n    ax.axis(\"off\")"
      ]
    }
  ],
  "metadata": {
    "kernelspec": {
      "display_name": "Python 3",
      "language": "python",
      "name": "python3"
    },
    "language_info": {
      "codemirror_mode": {
        "name": "ipython",
        "version": 3
      },
      "file_extension": ".py",
      "mimetype": "text/x-python",
      "name": "python",
      "nbconvert_exporter": "python",
      "pygments_lexer": "ipython3",
      "version": "3.8.6"
    }
  },
  "nbformat": 4,
  "nbformat_minor": 0
}