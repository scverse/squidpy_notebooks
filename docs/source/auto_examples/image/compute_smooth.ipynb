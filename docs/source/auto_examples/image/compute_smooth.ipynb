{
  "cells": [
    {
      "cell_type": "code",
      "execution_count": null,
      "metadata": {
        "collapsed": false
      },
      "outputs": [],
      "source": [
        "%matplotlib inline"
      ]
    },
    {
      "cell_type": "markdown",
      "metadata": {},
      "source": [
        "# Smooth an image\n\nThis example shows how to use `squidpy.im.process` to smooth an image\nlayer of `squidpy.im.ImageContainer`.\n\nWe use the argument `method=\"smooth\"` to smooth the image. This calls\n`skimage.filters.gaussian` in the background. Keyword arguments `kwargs`\nare passed to the wrapped function. This allows us to set the width of\nthe Gaussian kernel, $\\\\sigma$, used for smoothing.\n\n::: seealso\n-   `sphx_glr_auto_examples_image_compute_gray.py`.\n-   `sphx_glr_auto_examples_image_compute_process_hires.py`.\n:::\n"
      ]
    },
    {
      "cell_type": "code",
      "execution_count": null,
      "metadata": {
        "collapsed": false
      },
      "outputs": [],
      "source": [
        "import squidpy as sq\n\nimport matplotlib.pyplot as plt\n\n# load the H&E stained tissue image\nimg = sq.datasets.visium_hne_image_crop()"
      ]
    },
    {
      "cell_type": "markdown",
      "metadata": {},
      "source": [
        "Smooth the image with `sigma = 2`. With the argument `layer` we can\nselect the image layer that should be processed. By default, the\nresulting image is saved in the layer `image_smooth`. This behavior can\nbe changed with the arguments `copy` and `layer_added`.\n"
      ]
    },
    {
      "cell_type": "code",
      "execution_count": null,
      "metadata": {
        "collapsed": false
      },
      "outputs": [],
      "source": [
        "sq.im.process(img, layer=\"image\", method=\"smooth\", sigma=2)"
      ]
    },
    {
      "cell_type": "markdown",
      "metadata": {},
      "source": [
        "Now we can look at the result on a cropped part of the image.\n"
      ]
    },
    {
      "cell_type": "code",
      "execution_count": null,
      "metadata": {
        "collapsed": false
      },
      "outputs": [],
      "source": [
        "crop = img.crop_corner(0, 0, size=200)\n\nfig, axes = plt.subplots(1, 2)\nfor i, layer in enumerate([\"image\", \"image_smooth\"]):\n    crop.show(layer, ax=axes[i])\n    axes[i].set_title(layer)"
      ]
    }
  ],
  "metadata": {
    "kernelspec": {
      "display_name": "Python 3",
      "language": "python",
      "name": "python3"
    },
    "language_info": {
      "codemirror_mode": {
        "name": "ipython",
        "version": 3
      },
      "file_extension": ".py",
      "mimetype": "text/x-python",
      "name": "python",
      "nbconvert_exporter": "python",
      "pygments_lexer": "ipython3",
      "version": "3.9.12"
    }
  },
  "nbformat": 4,
  "nbformat_minor": 0
}