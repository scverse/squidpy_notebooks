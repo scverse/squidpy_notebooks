{
  "cells": [
    {
      "cell_type": "code",
      "execution_count": null,
      "metadata": {
        "collapsed": false
      },
      "outputs": [],
      "source": [
        "%matplotlib inline"
      ]
    },
    {
      "cell_type": "markdown",
      "metadata": {},
      "source": [
        "# Texture features\n\nHere, we use `squidpy.im.calculate_image_features`{.interpreted-text\nrole=\"func\"} to extract texture features from the tissue image. Please\nhave a look at\n`sphx_glr_auto_examples_image_compute_features.py`{.interpreted-text\nrole=\"ref\"} for the general usage of\n`squidpy.im.calculate_image_features`{.interpreted-text role=\"func\"}.\n\nTextures features give give a measure of how the image intensity at\ndifferent distances and angles varies by calculating a grey-level\nco-occurence matrix (GLCM). The GLCM includes the number of times that\ngrey-level j occurs at a distance d and at an angle theta from\ngrey-level i. From this data, different features (`props`) are\ncalculated. See also `skimage.feature.greycomatrix`{.interpreted-text\nrole=\"func\"}. Use `features = 'texture'` to calculate the features. This\nwill internally call\n`squidpy.im.ImageContainer.get_texture_features`{.interpreted-text\nrole=\"meth\"}.\n\nIn addition to `feature_name` and `channels` we can specify the\nfollowing `features_kwargs`: - `distances`: Distances that are taken\ninto account for finding repeating patterns - `angles`: Range on which\nvalues are binned. Default is the whole image range - `props`: Texture\nfeatures that are extracted from the GLCM\n"
      ]
    },
    {
      "cell_type": "code",
      "execution_count": null,
      "metadata": {
        "collapsed": false
      },
      "outputs": [],
      "source": [
        "import os\n\nimport squidpy as sq\n\nimport scanpy as sc"
      ]
    },
    {
      "cell_type": "markdown",
      "metadata": {},
      "source": [
        "Lets load a fluorescence visisum dataset and calculate texture features\nwith default `features_kwargs`. Here, we need to cast the image crops\nfrom uint16 to uint8 (by using `dtype=\"uint8\"`) before calculating the\ntexture features, because [skimage.feature.greycomatrix]{.title-ref}\ndoes not support values above 255. Note that for texture features it may\nmake sense to compute them over a larger crop size to include more\ncontext, e.g., `size=2` or `size=4` which will extract crops with double\nor four times the radius than the original visium spot size.\n"
      ]
    },
    {
      "cell_type": "code",
      "execution_count": null,
      "metadata": {
        "collapsed": false
      },
      "outputs": [],
      "source": [
        "# get spatial dataset including hires tissue image\nimg = sq.im.ImageContainer(os.path.expanduser(\"~/.cache/squidpy/tutorial_data/visium_fluo_crop.tiff\"))\nadata = sc.read(os.path.expanduser(\"~/.cache/squidpy/tutorial_data/visium_fluo_crop.h5ad\"))\n\n# calculate texture features and save in key \"texture_features\"\nsq.im.calculate_image_features(\n    adata, img, features=\"texture\", key_added=\"texture_features_2\", dtype=\"uint8\", show_progress_bar=False, size=2\n)"
      ]
    },
    {
      "cell_type": "markdown",
      "metadata": {},
      "source": [
        "The result is stored in [adata.obsm\\[\\'texture_features\\'\\]]{.title-ref}\n"
      ]
    },
    {
      "cell_type": "code",
      "execution_count": null,
      "metadata": {
        "collapsed": false
      },
      "outputs": [],
      "source": [
        "adata.obsm[\"texture_features_2\"].head()"
      ]
    },
    {
      "cell_type": "markdown",
      "metadata": {},
      "source": [
        "Use `squidpy.pl.extract`{.interpreted-text role=\"func\"} to plot the\ntexture features on the tissue image. Here, we show the contrast feature\nfor channels 0 and 1. The two stains, DAPI in channel 0, and GFAP in\nchannel 1 show different regions of high contrast.\n\nTODO: reference to interactive plotting\n"
      ]
    },
    {
      "cell_type": "code",
      "execution_count": null,
      "metadata": {
        "collapsed": false
      },
      "outputs": [],
      "source": [
        "sc.set_figure_params(facecolor=\"white\", figsize=(8, 8))\nsc.pl.spatial(\n    sq.pl.extract(adata, \"texture_features_2\"),\n    color=[None, \"texture_contrast_ch_0_dist_1_angle_0.00\", \"texture_contrast_ch_1_dist_1_angle_0.00\"],\n    bw=True,\n)"
      ]
    }
  ],
  "metadata": {
    "kernelspec": {
      "display_name": "Python 3",
      "language": "python",
      "name": "python3"
    },
    "language_info": {
      "codemirror_mode": {
        "name": "ipython",
        "version": 3
      },
      "file_extension": ".py",
      "mimetype": "text/x-python",
      "name": "python",
      "nbconvert_exporter": "python",
      "pygments_lexer": "ipython3",
      "version": "3.8.6"
    }
  },
  "nbformat": 4,
  "nbformat_minor": 0
}