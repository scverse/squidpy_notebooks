{
  "cells": [
    {
      "cell_type": "code",
      "execution_count": null,
      "metadata": {
        "collapsed": false
      },
      "outputs": [],
      "source": [
        "%matplotlib inline"
      ]
    },
    {
      "cell_type": "markdown",
      "metadata": {},
      "source": [
        "Extract texture features\n========================\n\nThis example shows how to extract texture features from the tissue\nimage.\n\nTextures features give give a measure of how the image intensity at\ndifferent distances and angles varies by calculating a grey-level\nco-occurrence matrix\n([GLCM](https://en.wikipedia.org/wiki/Co-occurrence_matrix)). The GLCM\nincludes the number of times that grey-level $j$ occurs at a distance\n$d$ and at an angle $\\\\theta$ from grey-level $i$. From this data,\ndifferent features (`props`) are calculated. See also\n`skimage.feature.greycomatrix`.\n\nTexture features are calculated by using `features = 'texture'`, which\ncalls `squidpy.im.ImageContainer.features_texture`. In addition to\n`feature_name` and `channels`, we can also specify the following\n`features_kwargs`:\n\n> -   `distances` - distances that are taken into account for finding\n>     repeating patterns.\n> -   `angles` - range on which values are binned. Default is the whole\n>     image range.\n> -   `props` - texture features that are extracted from the GLCM.\n\n::: {.seealso}\nSee `sphx_glr_auto_examples_image_compute_features.py` for general usage\nof `squidpy.im.calculate_image_features`.\n:::\n"
      ]
    },
    {
      "cell_type": "code",
      "execution_count": null,
      "metadata": {
        "collapsed": false
      },
      "outputs": [],
      "source": [
        "import scanpy as sc\nimport squidpy as sq"
      ]
    },
    {
      "cell_type": "markdown",
      "metadata": {},
      "source": [
        "Let\\'s load the fluorescence Visium dataset and calculate texture\nfeatures with default `features_kwargs`.\n\nNote that for texture features it may make sense to compute them over a\nlarger crop size to include more context, e.g., `spot_scale = 2` or\n`spit_scale = 4` which will extract crops with double or four times the\nradius than the original Visium spot size. For more details on the image\ncropping, see `sphx_glr_auto_examples_image_compute_crops.py`.\n"
      ]
    },
    {
      "cell_type": "code",
      "execution_count": null,
      "metadata": {
        "collapsed": false
      },
      "outputs": [],
      "source": [
        "# get spatial dataset including high-resolution tissue image\nimg = sq.datasets.visium_fluo_image_crop()\nadata = sq.datasets.visium_fluo_adata_crop()\n\n# calculate texture features and save in key \"texture_features\"\nsq.im.calculate_image_features(\n    adata,\n    img,\n    features=\"texture\",\n    key_added=\"texture_features\",\n    spot_scale=2,\n    show_progress_bar=False,\n)"
      ]
    },
    {
      "cell_type": "markdown",
      "metadata": {},
      "source": [
        "The result is stored in `adata.obsm['texture_features']`.\n"
      ]
    },
    {
      "cell_type": "code",
      "execution_count": null,
      "metadata": {
        "collapsed": false
      },
      "outputs": [],
      "source": [
        "adata.obsm[\"texture_features\"].head()"
      ]
    },
    {
      "cell_type": "markdown",
      "metadata": {},
      "source": [
        "Use `squidpy.pl.extract` to plot the texture features on the tissue\nimage or have a look at [our interactive visualization\ntutorial](../../external_tutorials/tutorial_napari.ipynb) to learn how\nto use our interactive `napari` plugin. Here, we show the contrast\nfeature for channels 0 and 1. The two stains, DAPI in channel 0, and\nGFAP in channel 1 show different regions of high contrast.\n"
      ]
    },
    {
      "cell_type": "code",
      "execution_count": null,
      "metadata": {
        "collapsed": false
      },
      "outputs": [],
      "source": [
        "sc.pl.spatial(\n    sq.pl.extract(adata, \"texture_features\"),\n    color=[None, \"texture_ch-0_contrast_dist-1_angle-0.00\", \"texture_ch-1_contrast_dist-1_angle-0.00\"],\n    bw=True,\n)"
      ]
    }
  ],
  "metadata": {
    "kernelspec": {
      "display_name": "Python 3",
      "language": "python",
      "name": "python3"
    },
    "language_info": {
      "codemirror_mode": {
        "name": "ipython",
        "version": 3
      },
      "file_extension": ".py",
      "mimetype": "text/x-python",
      "name": "python",
      "nbconvert_exporter": "python",
      "pygments_lexer": "ipython3",
      "version": "3.8.10"
    }
  },
  "nbformat": 4,
  "nbformat_minor": 0
}