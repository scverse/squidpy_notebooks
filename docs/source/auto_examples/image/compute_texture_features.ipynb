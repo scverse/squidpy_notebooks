{
  "cells": [
    {
      "cell_type": "code",
      "execution_count": null,
      "metadata": {
        "collapsed": false
      },
      "outputs": [],
      "source": [
        "%matplotlib inline"
      ]
    },
    {
      "cell_type": "markdown",
      "metadata": {},
      "source": [
        "# Texture features\n\nHere, we use `squidpy.im.calculate_image_features`{.interpreted-text\nrole=\"func\"} to extract texture features from the tissue image. Please\nhave a look at\n`sphx_glr_auto_examples_image_compute_features.py`{.interpreted-text\nrole=\"ref\"} for the general usage of\n`squidpy.im.calculate_image_features`{.interpreted-text role=\"func\"}.\n\nTextures features give give a measure of how the image intensity at\ndifferent distances and angles varies by calculating a grey-level\nco-occurence matrix (GLCM). The GLCM includes the number of times that\ngrey-level j occurs at a distance d and at an angle theta from\ngrey-level i. From this data, different features (`props`) are\ncalculated. See also `skimage.feature.greycomatrix`{.interpreted-text\nrole=\"func\"}. Use `features='texture'` to calculate the features.\n\nIn addition to `feature_name` and `channels` we can specify the\nfollowing `features_kwargs`:\n\n-   `distances`: Distances that are taken into account for finding\n    repeating patterns\n-   `angles`: Range on which values are binned. Default is the whole\n    image range\n-   `props`: Texture features that are extracted from the GLCM\n"
      ]
    },
    {
      "cell_type": "code",
      "execution_count": null,
      "metadata": {
        "collapsed": false
      },
      "outputs": [],
      "source": [
        "import scanpy as sc\nimport squidpy as sq"
      ]
    },
    {
      "cell_type": "markdown",
      "metadata": {},
      "source": [
        "Lets load a fluorescence visisum dataset and calculate texture features\nwith default `features_kwargs`. Here, we need to cast the image crops\nfrom [uint16]{.title-ref} to [uint8]{.title-ref} (by using\n`dtype=\"uint8\"`) before calculating the texture features, because\n`skimage.feature.greycomatrix`{.interpreted-text role=\"func\"} does not\nsupport values above 255. Note that for texture features it may make\nsense to compute them over a larger crop size to include more context,\ne.g., `size=2` or `size=4` which will extract crops with double or four\ntimes the radius than the original visium spot size. For more details on\nthe image cropping, see\n`sphx_glr_auto_examples_image_compute_crops.py`{.interpreted-text\nrole=\"ref\"}.\n"
      ]
    },
    {
      "cell_type": "code",
      "execution_count": null,
      "metadata": {
        "collapsed": false
      },
      "outputs": [],
      "source": [
        "# get spatial dataset including high-resolution tissue image\nimg = sq.datasets.visium_fluo_image_crop()\nadata = sq.datasets.visium_fluo_adata_crop()\n\n# calculate texture features and save in key \"texture_features\"\nsq.im.calculate_image_features(\n    adata, img, features=\"texture\", key_added=\"texture_features_2\", dtype=\"uint8\", show_progress_bar=False, size=2\n)"
      ]
    },
    {
      "cell_type": "markdown",
      "metadata": {},
      "source": [
        "The result is stored in `adata.obsm['texture_features']`\n"
      ]
    },
    {
      "cell_type": "code",
      "execution_count": null,
      "metadata": {
        "collapsed": false
      },
      "outputs": [],
      "source": [
        "adata.obsm[\"texture_features_2\"].head()"
      ]
    },
    {
      "cell_type": "markdown",
      "metadata": {},
      "source": [
        "Use `squidpy.pl.extract`{.interpreted-text role=\"func\"} to plot the\ntexture features on the tissue image or have a look at\n`sphx_glr_auto_tutorials_tutorial_napari.py`{.interpreted-text\nrole=\"ref\"} to learn how to use our interactive napari plugin. Here, we\nshow the contrast feature for channels 0 and 1. The two stains, DAPI in\nchannel 0, and GFAP in channel 1 show different regions of high\ncontrast.\n"
      ]
    },
    {
      "cell_type": "code",
      "execution_count": null,
      "metadata": {
        "collapsed": false
      },
      "outputs": [],
      "source": [
        "sc.pl.spatial(\n    sq.pl.extract(adata, \"texture_features_2\"),\n    color=[None, \"texture_contrast_ch_0_dist_1_angle_0.00\", \"texture_contrast_ch_1_dist_1_angle_0.00\"],\n    bw=True,\n)"
      ]
    }
  ],
  "metadata": {
    "kernelspec": {
      "display_name": "Python 3",
      "language": "python",
      "name": "python3"
    },
    "language_info": {
      "codemirror_mode": {
        "name": "ipython",
        "version": 3
      },
      "file_extension": ".py",
      "mimetype": "text/x-python",
      "name": "python",
      "nbconvert_exporter": "python",
      "pygments_lexer": "ipython3",
      "version": "3.8.6"
    }
  },
  "nbformat": 4,
  "nbformat_minor": 0
}