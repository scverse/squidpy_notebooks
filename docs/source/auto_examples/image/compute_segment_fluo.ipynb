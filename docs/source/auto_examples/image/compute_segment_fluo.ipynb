{
  "cells": [
    {
      "cell_type": "code",
      "execution_count": null,
      "metadata": {
        "collapsed": false
      },
      "outputs": [],
      "source": [
        "%matplotlib inline"
      ]
    },
    {
      "cell_type": "markdown",
      "metadata": {},
      "source": [
        "# Cell-segmentation\n\nWe can use the high resolution tissue images to segment nuclei. This\ninformation can be used to compute additional image features like cell\ncount and cell size per spot (see\n`sphx_glr_auto_examples_image_compute_segmentation_features.py`). This\nexample shows how to use `squidpy.im.segment_img` and explains the\nparameters you can use.\n\nWe provide two segmentation models `squidpy.im.SegmentationModelBlob`\nand `squidpy.im.SegmentationModelWatershed`. In addition, you can use\nyour own pre-trained `tensorflow.keras` model to perform the\nsegmentation utilising `squidpy.im.SegmentationModelTensorflow`.\n\nNote that when using the provided segmentation models `\"blob\"` and\n`\"watershed\"`, the quality of the cell-segmentation depends on the\nquality of your tissue images. In this example we use the DAPI stain of\na fluorescence dataset that clearly shows the nuclei to do the\nsegmentation. For harder cases, you may want to provide your own\npre-trained segmentation model.\n\nSee `sphx_glr_auto_examples_image_compute_segment_hne.py` for an example\nof how to calculate a cell-segmentation of an H&E stain.\n"
      ]
    },
    {
      "cell_type": "code",
      "execution_count": null,
      "metadata": {
        "collapsed": false
      },
      "outputs": [],
      "source": [
        "import squidpy as sq\n\nimport numpy as np\n\nimport seaborn as sns\nimport matplotlib.pyplot as plt\n\n# load fluorescence tissue image\nimg = sq.datasets.visium_fluo_image_crop()"
      ]
    },
    {
      "cell_type": "markdown",
      "metadata": {},
      "source": [
        "We crop the image to a smaller segment. This is only to speed things up,\n`squidpy.im.segment_img` can also process very large images (see\n`sphx_glr_auto_examples_image_compute_process_hires.py`.)\n"
      ]
    },
    {
      "cell_type": "code",
      "execution_count": null,
      "metadata": {
        "collapsed": false
      },
      "outputs": [],
      "source": [
        "crop = img.crop_corner(1000, 1000, 1000, 1000)"
      ]
    },
    {
      "cell_type": "markdown",
      "metadata": {},
      "source": [
        "The tissue image in this dataset contains four fluorescence stains. The\nfirst one is DAPI, which we will use for the nuclei-segmentation.\n"
      ]
    },
    {
      "cell_type": "code",
      "execution_count": null,
      "metadata": {
        "collapsed": false
      },
      "outputs": [],
      "source": [
        "fig, axes = plt.subplots(1, 3, figsize=(10, 20))\nfor i, ax in enumerate(axes):\n    ax.imshow(crop[\"image\"][:, :, i])\n    ax.axis(\"off\")"
      ]
    },
    {
      "cell_type": "markdown",
      "metadata": {},
      "source": [
        "For watershed segmentation, we need to set a threshold to create the\nmask image. The threshold should be chosen in such a way, that all\nnuclei are contained in the mask image.\n"
      ]
    },
    {
      "cell_type": "code",
      "execution_count": null,
      "metadata": {
        "collapsed": false
      },
      "outputs": [],
      "source": [
        "fig, ax = plt.subplots(1, 1, figsize=(5, 3))\n_ = sns.histplot(np.asarray(crop[\"image\"][:, :, 0]).flatten(), bins=50, ax=ax)"
      ]
    },
    {
      "cell_type": "markdown",
      "metadata": {},
      "source": [
        "The histogram of DAPI values shows a small peak at 60000 containing the\nnuclei. So, let us choose 50000 as a threshold for the segmentation\nmethod.\n\nWe segment the image using the chosen threshold with\n`squidpy.im.segment_img`. The argument `image_id` sets the image layer\nof img that should be segmented. Since we are segmenting the first\nchannel, we will set `channel_idx=0`. With the argument `model_group` we\nspecify the model that we\\'d like to use for the segmentation. In our\ncase this is `\"watershed\"`. With `kwargs` we can provide keyword\narguments to the segmentation model. For watershed, we need to set the\nthreshold, `thresh=50000`, as determined above. In addition, we can\nspecify if the values greater or equal than the threshold should be in\nthe mask (default) or if the values smaller to the threshold should be\nin the mask (`geq=False`).\n"
      ]
    },
    {
      "cell_type": "code",
      "execution_count": null,
      "metadata": {
        "collapsed": false
      },
      "outputs": [],
      "source": [
        "sq.im.segment_img(img=crop, img_id=\"image\", model_group=\"watershed\", channel_idx=0, thresh=50000)"
      ]
    },
    {
      "cell_type": "markdown",
      "metadata": {},
      "source": [
        "The segmented crop is saved in the layer `segmented_watershed`. This\nbehaviour can be changed with the arguments `copy` and `key_added`. The\nresult of the segmentation is a label image that can be used to extract\nfeatures like the number of cells from the image.\n"
      ]
    },
    {
      "cell_type": "code",
      "execution_count": null,
      "metadata": {
        "collapsed": false
      },
      "outputs": [],
      "source": [
        "print(crop)\nprint(f\"number of segments in crop: {len(np.unique(crop['segmented_watershed']))}\")\n\nfig, axes = plt.subplots(1, 2)\naxes[0].imshow(crop[\"image\"][:, :, 0])\naxes[0].set_title(\"DAPI\")\naxes[1].imshow(crop[\"segmented_watershed\"].squeeze(), cmap=\"jet\", interpolation=\"none\")\naxes[1].set_title(\"segmentation\")\nfor ax in axes:\n    ax.axis(\"off\")"
      ]
    }
  ],
  "metadata": {
    "kernelspec": {
      "display_name": "Python 3",
      "language": "python",
      "name": "python3"
    },
    "language_info": {
      "codemirror_mode": {
        "name": "ipython",
        "version": 3
      },
      "file_extension": ".py",
      "mimetype": "text/x-python",
      "name": "python",
      "nbconvert_exporter": "python",
      "pygments_lexer": "ipython3",
      "version": "3.8.6"
    }
  },
  "nbformat": 4,
  "nbformat_minor": 0
}