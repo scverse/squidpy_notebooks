{
  "cells": [
    {
      "cell_type": "code",
      "execution_count": null,
      "metadata": {
        "collapsed": false
      },
      "outputs": [],
      "source": [
        "%matplotlib inline"
      ]
    },
    {
      "cell_type": "markdown",
      "metadata": {},
      "source": [
        "# Histogram features\n\nHere, we use `squidpy.im.calculate_image_features`{.interpreted-text\nrole=\"func\"} to extract histogram features from the tissue image. Have a\nlook at\n`sphx_glr_auto_examples_image_compute_features.py`{.interpreted-text\nrole=\"ref\"} for the general usage of\n`squidpy.im.calculate_image_features`{.interpreted-text role=\"func\"}.\n\nHistogram features give a more detailed view than summary features\n(`sphx_glr_auto_examples_image_compute_summary_features.py`{.interpreted-text\nrole=\"ref\"}) by computing a histogram of each image channel and\nreturning bin-counts for each visium spot. Use `features='histogram'` to\ncalculate the features.\n\nIn addition to `feature_name` and `channels` we can specify the\nfollowing `features_kwargs`:\n\n-   `bins`: Number of bins of the histogram. Default is 10\n-   `v_range`: Range on which values are binned. Default is the whole\n    image range\n"
      ]
    },
    {
      "cell_type": "code",
      "execution_count": null,
      "metadata": {
        "collapsed": false
      },
      "outputs": [],
      "source": [
        "import scanpy as sc\nimport squidpy as sq"
      ]
    },
    {
      "cell_type": "markdown",
      "metadata": {},
      "source": [
        "Lets load a fluorescence visisum dataset and calculate bin-counts (3\nbins) of channels 0 and 1.\n"
      ]
    },
    {
      "cell_type": "code",
      "execution_count": null,
      "metadata": {
        "collapsed": false
      },
      "outputs": [],
      "source": [
        "# get spatial dataset including high-resolution tissue image\nimg = sq.datasets.visium_fluo_image_crop()\nadata = sq.datasets.visium_fluo_adata_crop()\n\n# calculate histogram features and save in key \"histogram_features\"\nsq.im.calculate_image_features(\n    adata,\n    img,\n    features=\"histogram\",\n    features_kwargs={\"histogram\": {\"bins\": 3, \"channels\": [0, 1]}},\n    key_added=\"histogram_features\",\n)"
      ]
    },
    {
      "cell_type": "markdown",
      "metadata": {},
      "source": [
        "The result is stored in `adata.obsm['histogram_features']`.\n"
      ]
    },
    {
      "cell_type": "code",
      "execution_count": null,
      "metadata": {
        "collapsed": false
      },
      "outputs": [],
      "source": [
        "adata.obsm[\"histogram_features\"].head()"
      ]
    },
    {
      "cell_type": "markdown",
      "metadata": {},
      "source": [
        "Use `squidpy.pl.extract`{.interpreted-text role=\"func\"} to plot the\nhistogram features on the tissue image or have a look at\n`sphx_glr_auto_tutorials_tutorial_napari.py`{.interpreted-text\nrole=\"ref\"} to learn how to use our interactive napari plugin. With\nthese features we can e.g. appreciate the detailed distribution of\nintensity values of channel 0 (DAPI stain) on the different bins.\n"
      ]
    },
    {
      "cell_type": "code",
      "execution_count": null,
      "metadata": {
        "collapsed": false
      },
      "outputs": [],
      "source": [
        "sc.pl.spatial(\n    sq.pl.extract(adata, \"histogram_features\"),\n    color=[None, \"histogram_ch_0_bin_0\", \"histogram_ch_0_bin_1\", \"histogram_ch_0_bin_2\"],\n    bw=True,\n)"
      ]
    }
  ],
  "metadata": {
    "kernelspec": {
      "display_name": "Python 3",
      "language": "python",
      "name": "python3"
    },
    "language_info": {
      "codemirror_mode": {
        "name": "ipython",
        "version": 3
      },
      "file_extension": ".py",
      "mimetype": "text/x-python",
      "name": "python",
      "nbconvert_exporter": "python",
      "pygments_lexer": "ipython3",
      "version": "3.8.6"
    }
  },
  "nbformat": 4,
  "nbformat_minor": 0
}