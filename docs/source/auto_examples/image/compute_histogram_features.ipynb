{
  "cells": [
    {
      "cell_type": "code",
      "execution_count": null,
      "metadata": {
        "collapsed": false
      },
      "outputs": [],
      "source": [
        "%matplotlib inline"
      ]
    },
    {
      "cell_type": "markdown",
      "metadata": {},
      "source": [
        "Extract histogram features\n==========================\n\nThis example shows how to extract histogram features from tissue image.\n\nHistogram features give a more detailed view than summary features\n(`sphx_glr_auto_examples_image_compute_summary_features.py`) by\ncomputing a histogram of each image channel and returning bin-counts for\neach Visium spot.\n\nIn addition to `feature_name` and `channels` we can specify the\nfollowing `features_kwargs`:\n\n-   `bins` - number of bins of the histogram, default is 10.\n-   `v_range` - range on which values are binned, default is the whole\n    image range.\n\n::: {.seealso}\nSee `sphx_glr_auto_examples_image_compute_features.py` for general usage\nof `squidpy.im.calculate_image_features`.\n:::\n"
      ]
    },
    {
      "cell_type": "code",
      "execution_count": null,
      "metadata": {
        "collapsed": false
      },
      "outputs": [],
      "source": [
        "import scanpy as sc\nimport squidpy as sq"
      ]
    },
    {
      "cell_type": "markdown",
      "metadata": {},
      "source": [
        "Lets load a fluorescence Visium dataset and calculate bin-counts (3\nbins) of channels 0 and 1.\n"
      ]
    },
    {
      "cell_type": "code",
      "execution_count": null,
      "metadata": {
        "collapsed": false
      },
      "outputs": [],
      "source": [
        "# get spatial dataset including high-resolution tissue image\nimg = sq.datasets.visium_fluo_image_crop()\nadata = sq.datasets.visium_fluo_adata_crop()\n\n# calculate histogram features and save in key \"histogram_features\"\nsq.im.calculate_image_features(\n    adata,\n    img,\n    features=\"histogram\",\n    features_kwargs={\"histogram\": {\"bins\": 3, \"channels\": [0, 1]}},\n    key_added=\"histogram_features\",\n)"
      ]
    },
    {
      "cell_type": "markdown",
      "metadata": {},
      "source": [
        "The result is stored in `adata.obsm['histogram_features']`.\n"
      ]
    },
    {
      "cell_type": "code",
      "execution_count": null,
      "metadata": {
        "collapsed": false
      },
      "outputs": [],
      "source": [
        "adata.obsm[\"histogram_features\"].head()"
      ]
    },
    {
      "cell_type": "markdown",
      "metadata": {},
      "source": [
        "Use `squidpy.pl.extract` to plot the histogram features on the tissue\nimage or have a look at [our interactive visualisation\ntutorial](../../external_tutorials/tutorial_napari.html) to learn how to\nuse our interactive `napari` plugin. With these features we can e.g.\nappreciate the detailed distribution of intensity values of channel 0\n(DAPI stain) on the different bins.\n"
      ]
    },
    {
      "cell_type": "code",
      "execution_count": null,
      "metadata": {
        "collapsed": false
      },
      "outputs": [],
      "source": [
        "sc.pl.spatial(\n    sq.pl.extract(adata, \"histogram_features\"),\n    color=[None, \"histogram_ch-0_bin-0\", \"histogram_ch-0_bin-1\", \"histogram_ch-0_bin-2\"],\n    bw=True,\n)"
      ]
    }
  ],
  "metadata": {
    "kernelspec": {
      "display_name": "Python 3",
      "language": "python",
      "name": "python3"
    },
    "language_info": {
      "codemirror_mode": {
        "name": "ipython",
        "version": 3
      },
      "file_extension": ".py",
      "mimetype": "text/x-python",
      "name": "python",
      "nbconvert_exporter": "python",
      "pygments_lexer": "ipython3",
      "version": "3.8.5"
    }
  },
  "nbformat": 4,
  "nbformat_minor": 0
}