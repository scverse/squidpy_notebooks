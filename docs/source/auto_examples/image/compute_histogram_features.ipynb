{
  "cells": [
    {
      "cell_type": "code",
      "execution_count": null,
      "metadata": {
        "collapsed": false
      },
      "outputs": [],
      "source": [
        "%matplotlib inline"
      ]
    },
    {
      "cell_type": "markdown",
      "metadata": {},
      "source": [
        "# Histogram features\n\nHere, we use `squidpy.im.calculate_image_features`{.interpreted-text\nrole=\"func\"} to extract histogram features from the tissue image. Please\nhave a look at\n`sphx_glr_auto_examples_image_compute_features.py`{.interpreted-text\nrole=\"ref\"} for the general usage of\n`squidpy.im.calculate_image_features`{.interpreted-text role=\"func\"}.\n\nHistogram features give a more detailled view than summary features\n(`sphx_glr_auto_examples_image_compute_summary_features.py`{.interpreted-text\nrole=\"ref\"}) by computing a histogram of each image channel and\nreturning bin-counts for each visium spot. Use `features = 'histogram'`\nto calculate the features. This will internally call\n`squidpy.im.ImageContainer.get_histogram_features`{.interpreted-text\nrole=\"meth\"}.\n\nIn addition to `feature_name` and `channels` we can specify the\nfollowing `features_kwargs`: - `bins`: Number of bins of the histogram.\nDefault is 10 - `v_range`: Range on which values are binned. Default is\nthe whole image range\n"
      ]
    },
    {
      "cell_type": "code",
      "execution_count": null,
      "metadata": {
        "collapsed": false
      },
      "outputs": [],
      "source": [
        "import os\n\nimport squidpy as sq\n\nimport scanpy as sc"
      ]
    },
    {
      "cell_type": "markdown",
      "metadata": {},
      "source": [
        "Lets load a fluorescence visisum dataset and calculate bin-counts (3\nbins) of channels 0 and 1.\n"
      ]
    },
    {
      "cell_type": "code",
      "execution_count": null,
      "metadata": {
        "collapsed": false
      },
      "outputs": [],
      "source": [
        "# get spatial dataset including hires tissue image\nimg = sq.im.ImageContainer(os.path.expanduser(\"~/.cache/squidpy/tutorial_data/visium_fluo_crop.tiff\"))\nadata = sc.read(os.path.expanduser(\"~/.cache/squidpy/tutorial_data/visium_fluo_crop.h5ad\"))\n\n# calculate histogram features and save in key \"histogram_features\"\nsq.im.calculate_image_features(\n    adata, img, features=\"histogram\", features_kwargs={\"histogram\": {\"bins\": 3}}, key_added=\"histogram_features\"\n)"
      ]
    },
    {
      "cell_type": "markdown",
      "metadata": {},
      "source": [
        "The result is stored in\n[adata.obsm\\[\\'histogram_features\\'\\]]{.title-ref}\n"
      ]
    },
    {
      "cell_type": "code",
      "execution_count": null,
      "metadata": {
        "collapsed": false
      },
      "outputs": [],
      "source": [
        "adata.obsm[\"histogram_features\"].head()"
      ]
    },
    {
      "cell_type": "markdown",
      "metadata": {},
      "source": [
        "Use `squidpy.pl.extract`{.interpreted-text role=\"func\"} to plot the\nhistogram features on the tissue image. With these features we can e.g.\napreciate the detailled distribution of intensity values of channel 0\n(DAPI stain) on the different bins.\n\nTODO: reference to interactive plotting\n"
      ]
    },
    {
      "cell_type": "code",
      "execution_count": null,
      "metadata": {
        "collapsed": false
      },
      "outputs": [],
      "source": [
        "sc.set_figure_params(facecolor=\"white\", figsize=(8, 8))\nsc.pl.spatial(\n    sq.pl.extract(adata, \"histogram_features\"),\n    color=[None, \"histogram_ch_0_bin_0\", \"histogram_ch_0_bin_1\", \"histogram_ch_0_bin_2\"],\n    bw=True,\n)"
      ]
    }
  ],
  "metadata": {
    "kernelspec": {
      "display_name": "Python 3",
      "language": "python",
      "name": "python3"
    },
    "language_info": {
      "codemirror_mode": {
        "name": "ipython",
        "version": 3
      },
      "file_extension": ".py",
      "mimetype": "text/x-python",
      "name": "python",
      "nbconvert_exporter": "python",
      "pygments_lexer": "ipython3",
      "version": "3.8.6"
    }
  },
  "nbformat": 4,
  "nbformat_minor": 0
}