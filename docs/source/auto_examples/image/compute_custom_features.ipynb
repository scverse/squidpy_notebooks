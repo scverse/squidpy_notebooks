{
  "cells": [
    {
      "cell_type": "code",
      "execution_count": null,
      "metadata": {
        "collapsed": false
      },
      "outputs": [],
      "source": [
        "%matplotlib inline"
      ]
    },
    {
      "cell_type": "markdown",
      "metadata": {},
      "source": [
        "# Extract custom features\n\nThis example shows how to extract features from the tissue image using a\ncustom function.\n\nThe custom feature calculation function can be any python function that\ntakes an image as input, and returns a list of features. Here, we show a\nsimple example by defining a function to calculate the mean of the\nimages.\n\nCustom features are calculated by using `features = 'custom'`, which\ncalls `squidpy.im.ImageContainer.features_custom`. In addition to\n`feature_name` and `channels` we can specify the following\n`features_kwargs`:\n\n> -   `func` - custom feature extraction function.\n> -   `additional_layers` - names of image layers that should be passed\n>     to `func` together with `layer`.\n> -   additional keyword arguments for `func`.\n\n::: seealso\nSee `sphx_glr_auto_examples_image_compute_features.py` for general usage\nof `squidpy.im.calculate_image_features`.\n:::\n"
      ]
    },
    {
      "cell_type": "code",
      "execution_count": null,
      "metadata": {
        "collapsed": false
      },
      "outputs": [],
      "source": [
        "import scanpy as sc\nimport squidpy as sq"
      ]
    },
    {
      "cell_type": "markdown",
      "metadata": {},
      "source": [
        "Let\\'s load the H&E Visium dataset.\n"
      ]
    },
    {
      "cell_type": "code",
      "execution_count": null,
      "metadata": {
        "collapsed": false
      },
      "outputs": [],
      "source": [
        "# get spatial dataset including high-resolution tissue image\nimg = sq.datasets.visium_hne_image_crop()\nadata = sq.datasets.visium_hne_adata_crop()"
      ]
    },
    {
      "cell_type": "markdown",
      "metadata": {},
      "source": [
        "Define a custom feature extraction function.\n"
      ]
    },
    {
      "cell_type": "code",
      "execution_count": null,
      "metadata": {
        "collapsed": false
      },
      "outputs": [],
      "source": [
        "def mean_fn(arr):\n    \"\"\"Compute mean of arr.\"\"\"\n    import numpy as np\n\n    return np.mean(arr)"
      ]
    },
    {
      "cell_type": "markdown",
      "metadata": {},
      "source": [
        "Now we can extract features using [mean_fn]{.title-ref} by providing it\nwithin `features_kwargs`.\n"
      ]
    },
    {
      "cell_type": "code",
      "execution_count": null,
      "metadata": {
        "collapsed": false
      },
      "outputs": [],
      "source": [
        "sq.im.calculate_image_features(\n    adata,\n    img,\n    features=\"custom\",\n    features_kwargs={\"custom\": {\"func\": mean_fn}},\n    key_added=\"custom_features\",\n    show_progress_bar=False,\n)"
      ]
    },
    {
      "cell_type": "markdown",
      "metadata": {},
      "source": [
        "The result is stored in `adata.obsm['custom_features']`.\n"
      ]
    },
    {
      "cell_type": "code",
      "execution_count": null,
      "metadata": {
        "collapsed": false
      },
      "outputs": [],
      "source": [
        "adata.obsm[\"custom_features\"].head()"
      ]
    },
    {
      "cell_type": "markdown",
      "metadata": {},
      "source": [
        "Use `squidpy.pl.extract` to plot the histogram features on the tissue\nimage or have a look at [our interactive visualization\ntutorial](../../external_tutorials/tutorial_napari.ipynb) to learn how\nto use our interactive `napari` plugin.\n"
      ]
    },
    {
      "cell_type": "code",
      "execution_count": null,
      "metadata": {
        "collapsed": false
      },
      "outputs": [],
      "source": [
        "sc.pl.spatial(\n    sq.pl.extract(adata, \"custom_features\"),\n    color=[None, \"mean_fn_0\"],\n    bw=True,\n)"
      ]
    },
    {
      "cell_type": "markdown",
      "metadata": {},
      "source": [
        "You can also pass more than one image layer to the custom feature\nextraction function. For this, specify the necessary additional layer\nnames using `additional_layers` in `features_kwargs`. The specified\nimage layers will be passed to the custom feature extraction function.\n\nHere, we show this behavior by defining a feature extraction function\nthat sums two image layers:\n"
      ]
    },
    {
      "cell_type": "code",
      "execution_count": null,
      "metadata": {
        "collapsed": false
      },
      "outputs": [],
      "source": [
        "def sum_fn(arr, extra_layer):\n    \"\"\"Compute sum of two image layers.\"\"\"\n    import numpy as np\n\n    return np.sum(arr + extra_layer)\n\n\nimg.add_img(img[\"image\"].values, layer=\"extra_layer\")\n\nsq.im.calculate_image_features(\n    adata,\n    img,\n    layer=\"image\",\n    features=\"custom\",\n    features_kwargs={\"custom\": {\"func\": sum_fn, \"additional_layers\": [\"extra_layer\"]}},\n    key_added=\"custom_features\",\n    show_progress_bar=False,\n)"
      ]
    }
  ],
  "metadata": {
    "kernelspec": {
      "display_name": "Python 3",
      "language": "python",
      "name": "python3"
    },
    "language_info": {
      "codemirror_mode": {
        "name": "ipython",
        "version": 3
      },
      "file_extension": ".py",
      "mimetype": "text/x-python",
      "name": "python",
      "nbconvert_exporter": "python",
      "pygments_lexer": "ipython3",
      "version": "3.9.10"
    }
  },
  "nbformat": 4,
  "nbformat_minor": 0
}