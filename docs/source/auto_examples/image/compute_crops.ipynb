{
  "cells": [
    {
      "cell_type": "code",
      "execution_count": null,
      "metadata": {
        "collapsed": false
      },
      "outputs": [],
      "source": [
        "%matplotlib inline"
      ]
    },
    {
      "cell_type": "markdown",
      "metadata": {},
      "source": [
        "# Crop images with ImageContainer\n\nThis example shows how crop images from `squidpy.im.ImageContainer`.\n\nSpecifically, it shows how to use:\n\n> -   `squidpy.im.ImageContainer.crop_corner()`\n> -   `squidpy.im.ImageContainer.crop_center()`\n\n::: seealso\nSee `sphx_glr_auto_tutorials_tutorial_image_container.py` for general\nusage of `squidpy.im.ImageContainer`.\n:::\n"
      ]
    },
    {
      "cell_type": "code",
      "execution_count": null,
      "metadata": {
        "collapsed": false
      },
      "outputs": [],
      "source": [
        "import squidpy as sq\n\nimport matplotlib.pyplot as plt"
      ]
    },
    {
      "cell_type": "markdown",
      "metadata": {},
      "source": [
        "Let\\'s load the fluorescence Visium image.\n"
      ]
    },
    {
      "cell_type": "code",
      "execution_count": null,
      "metadata": {
        "collapsed": false
      },
      "outputs": [],
      "source": [
        "img = sq.datasets.visium_fluo_image_crop()"
      ]
    },
    {
      "cell_type": "markdown",
      "metadata": {},
      "source": [
        "Extracting single crops: Crops need to be sized and located. We\ndistinguish crops located based on a corner coordinate of the crop and\ncrops located based on the center coordinate of the crop. You can\nspecify the crop coordinates in pixels (as `int`) or in percentage of\ntotal image size (as `float`). In addition, you can specify a scaling\nfactor for the crop.\n"
      ]
    },
    {
      "cell_type": "code",
      "execution_count": null,
      "metadata": {
        "collapsed": false
      },
      "outputs": [],
      "source": [
        "crop_corner = img.crop_corner(1000, 1000, size=800)\n\ncrop_center = img.crop_center(1400, 1400, radius=400)\n\nfig, axes = plt.subplots(1, 2)\ncrop_corner.show(ax=axes[0])\ncrop_center.show(ax=axes[1])"
      ]
    },
    {
      "cell_type": "markdown",
      "metadata": {},
      "source": [
        "The result of the cropping functions is another ImageContainer.\n"
      ]
    },
    {
      "cell_type": "code",
      "execution_count": null,
      "metadata": {
        "collapsed": false
      },
      "outputs": [],
      "source": [
        "crop_corner"
      ]
    },
    {
      "cell_type": "markdown",
      "metadata": {},
      "source": [
        "You can subset the associated `adata` to the cropped image using\n`squidpy.im.ImageContainer.subset`:\n"
      ]
    },
    {
      "cell_type": "code",
      "execution_count": null,
      "metadata": {
        "collapsed": false
      },
      "outputs": [],
      "source": [
        "adata = sq.datasets.visium_fluo_adata_crop()\nadata"
      ]
    },
    {
      "cell_type": "markdown",
      "metadata": {},
      "source": [
        "Note the number of observations in `adata` before and after subsetting.\n"
      ]
    },
    {
      "cell_type": "code",
      "execution_count": null,
      "metadata": {
        "collapsed": false
      },
      "outputs": [],
      "source": [
        "adata_crop = crop_corner.subset(adata)\nadata_crop"
      ]
    },
    {
      "cell_type": "markdown",
      "metadata": {},
      "source": [
        "Visualize the result in Napari:\n\n``` python\ncrop_corner.interactive(adata_crop)\n```\n"
      ]
    }
  ],
  "metadata": {
    "kernelspec": {
      "display_name": "Python 3",
      "language": "python",
      "name": "python3"
    },
    "language_info": {
      "codemirror_mode": {
        "name": "ipython",
        "version": 3
      },
      "file_extension": ".py",
      "mimetype": "text/x-python",
      "name": "python",
      "nbconvert_exporter": "python",
      "pygments_lexer": "ipython3",
      "version": "3.9.10"
    }
  },
  "nbformat": 4,
  "nbformat_minor": 0
}