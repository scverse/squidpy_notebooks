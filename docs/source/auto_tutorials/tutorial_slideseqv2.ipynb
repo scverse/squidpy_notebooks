{
  "cells": [
    {
      "cell_type": "code",
      "execution_count": null,
      "metadata": {
        "collapsed": false
      },
      "outputs": [],
      "source": [
        "%matplotlib inline"
      ]
    },
    {
      "cell_type": "markdown",
      "metadata": {},
      "source": [
        "# Analyze Slide-seqV2 data\n\nThis tutorial shows how to apply Squidpy for the analysis of Slide-seqV2\ndata.\n\nThe data used here was obtained from `Stickels2020-rf`. We provide a\npre-processed subset of the data, in `anndata.AnnData` format. We would\nlike to thank \\@tudaga for providing cell-type level annotation. For\ndetails on how it was pre-processed, please refer to the original paper.\n\n::: seealso\nSee `sphx_glr_auto_tutorials_tutorial_visium_hne.py` and\n`sphx_glr_auto_tutorials_tutorial_seqfish.py` for additional analysis\nexamples.\n:::\n\n## Import packages & data\n\nTo run the notebook locally, create a conda environment as *conda env\ncreate -f environment.yml* using this\n[environment.yml](https://github.com/scverse/squidpy_notebooks/blob/main/environment.yml).\n"
      ]
    },
    {
      "cell_type": "code",
      "execution_count": null,
      "metadata": {
        "collapsed": false
      },
      "outputs": [],
      "source": [
        "import squidpy as sq\n\nprint(f\"squidpy=={sq.__version__}\")\n\n# load the pre-processed dataset\nadata = sq.datasets.slideseqv2()\nadata"
      ]
    },
    {
      "cell_type": "markdown",
      "metadata": {},
      "source": [
        "First, let\\'s visualize cluster annotation in spatial context with\n`squidpy.pl.spatial_scatter`.\n"
      ]
    },
    {
      "cell_type": "code",
      "execution_count": null,
      "metadata": {
        "collapsed": false
      },
      "outputs": [],
      "source": [
        "sq.pl.spatial_scatter(adata, color=\"cluster\", size=1, shape=None)"
      ]
    },
    {
      "cell_type": "markdown",
      "metadata": {},
      "source": [
        "# Neighborhood enrichment analysis\n\nSimilar to other spatial data, we can investigate spatial organization\nof clusters in a quantitative way, by computing a neighborhood\nenrichment score. You can compute such score with the following\nfunction: `squidpy.gr.nhood_enrichment`. In short, it\\'s an enrichment\nscore on spatial proximity of clusters: if spots belonging to two\ndifferent clusters are often close to each other, then they will have a\nhigh score and can be defined as being *enriched*. On the other hand, if\nthey are far apart, the score will be low and they can be defined as\n*depleted*. This score is based on a permutation-based test, and you can\nset the number of permutations with the [n_perms]{.title-ref} argument\n(default is 1000).\n\nSince the function works on a connectivity matrix, we need to compute\nthat as well. This can be done with `squidpy.gr.spatial_neighbors`.\nPlease see `sphx_glr_auto_examples_graph_compute_spatial_neighbors.py`\nand `sphx_glr_auto_examples_graph_compute_nhood_enrichment.py` for more\ndetails of how these functions works.\n\nFinally, we\\'ll directly visualize the results with\n`squidpy.pl.nhood_enrichment`. We\\'ll add a dendrogram to the heatmap\ncomputed with linkage method *ward*.\n"
      ]
    },
    {
      "cell_type": "code",
      "execution_count": null,
      "metadata": {
        "collapsed": false
      },
      "outputs": [],
      "source": [
        "sq.gr.spatial_neighbors(adata, coord_type=\"generic\")\nsq.gr.nhood_enrichment(adata, cluster_key=\"cluster\")\nsq.pl.nhood_enrichment(adata, cluster_key=\"cluster\", method=\"single\", cmap=\"inferno\", vmin=-50, vmax=100)"
      ]
    },
    {
      "cell_type": "markdown",
      "metadata": {},
      "source": [
        "Interestingly, there seems to be an enrichment between the\n*Endothelial_Tip*, the *Ependymal* cells. Another putative enrichment is\nbetween the *Oligodendrocytes* and *Polydendrocytes* cells. We can\nvisualize the spatial organization of such clusters. For this, we\\'ll\nuse `squidpy.pl.spatial_scatter` again.\n"
      ]
    },
    {
      "cell_type": "code",
      "execution_count": null,
      "metadata": {
        "collapsed": false
      },
      "outputs": [],
      "source": [
        "sq.pl.spatial_scatter(\n    adata,\n    shape=None,\n    color=\"cluster\",\n    groups=[\"Endothelial_Tip\", \"Ependymal\", \"Oligodendrocytes\", \"Polydendrocytes\"],\n    size=3,\n)"
      ]
    },
    {
      "cell_type": "markdown",
      "metadata": {},
      "source": [
        "# Ripley\\'s statistics\n\nIn addition to the neighbor enrichment score, we can further investigate\nspatial organization of cell types in tissue by means of the Ripley\\'s\nstatistics. Ripley\\'s statistics allow analyst to evaluate whether a\ndiscrete annotation (e.g. cell-type) appears to be clustered, dispersed\nor randomly distributed on the area of interest. In Squidpy, we\nimplement three closely related Ripley\\'s statistics, that can be easily\ncomputed with `squidpy.gr.ripley`. Here, we\\'ll showcase the Ripley\\'s L\nstatistic, which is a variance-stabilized version of the Ripley\\'s K\nstatistics. We\\'ll visualize the results with `squidpy.pl.ripley`. Check\n`sphx_glr_auto_examples_graph_compute_ripley.py` for more details.\n"
      ]
    },
    {
      "cell_type": "code",
      "execution_count": null,
      "metadata": {
        "collapsed": false
      },
      "outputs": [],
      "source": [
        "mode = \"L\"\nsq.gr.ripley(adata, cluster_key=\"cluster\", mode=mode, max_dist=500)\nsq.pl.ripley(adata, cluster_key=\"cluster\", mode=mode)"
      ]
    },
    {
      "cell_type": "markdown",
      "metadata": {},
      "source": [
        "The plot highlight how some cell-types have a more clustered pattern,\nlike *Astrocytes* and *CA11_CA2_CA3_Subiculum* cells, whereas other have\na more dispersed pattern, like *Mural* cells. To confirm such\ninterpretation, we can selectively visualize again their spatial\norganization.\n"
      ]
    },
    {
      "cell_type": "code",
      "execution_count": null,
      "metadata": {
        "collapsed": false
      },
      "outputs": [],
      "source": [
        "sq.pl.spatial_scatter(adata, color=\"cluster\", groups=[\"Mural\", \"CA1_CA2_CA3_Subiculum\"], size=3, shape=None)"
      ]
    },
    {
      "cell_type": "markdown",
      "metadata": {},
      "source": [
        "# Ligand-receptor interaction analysis\n\nThe analysis showed above has provided us with quantitative information\non cellular organization and communication at the tissue level. We might\nbe interested in getting a list of potential candidates that might be\ndriving such cellular communication. This naturally translates in doing\na ligand-receptor interaction analysis. In Squidpy, we provide a fast\nre-implementation the popular method CellPhoneDB `cellphonedb`\n([code](https://github.com/Teichlab/cellphonedb) ) and extended its\ndatabase of annotated ligand-receptor interaction pairs with the popular\ndatabase *Omnipath* `omnipath`. You can run the analysis for all\nclusters pairs, and all genes (in seconds, without leaving this\nnotebook), with `squidpy.gr.ligrec`.\n\nLet\\'s perform the analysis and visualize the result for three clusters\nof interest: *Polydendrocytes* and *Oligodendrocytes*. For the\nvisualization, we will filter out annotations with low-expressed genes\n(with the `means_range` argument) and decreasing the threshold for the\nadjusted p-value (with the `alpha` argument) Check\n`sphx_glr_auto_examples_graph_compute_ligrec.py` for more details.\n"
      ]
    },
    {
      "cell_type": "code",
      "execution_count": null,
      "metadata": {
        "collapsed": false
      },
      "outputs": [],
      "source": [
        "sq.gr.ligrec(\n    adata,\n    n_perms=100,\n    cluster_key=\"cluster\",\n    clusters=[\"Polydendrocytes\", \"Oligodendrocytes\"],\n)\nsq.pl.ligrec(\n    adata,\n    cluster_key=\"cluster\",\n    source_groups=\"Oligodendrocytes\",\n    target_groups=[\"Polydendrocytes\"],\n    pvalue_threshold=0.05,\n    swap_axes=True,\n)"
      ]
    },
    {
      "cell_type": "markdown",
      "metadata": {},
      "source": [
        "The dotplot visualization provides an interesting set of candidate\ninteractions that could be involved in the tissue organization of the\ncell types of interest. It should be noted that this method is a pure\nre-implementation of the original permutation-based test, and therefore\nretains all its caveats and should be interpreted accordingly.\n"
      ]
    },
    {
      "cell_type": "markdown",
      "metadata": {},
      "source": [
        "# Spatially variable genes with spatial autocorrelation statistics\n\nLastly, with Squidpy we can investigate spatial variability of gene\nexpression. `squidpy.gr.spatial_autocorr` conveniently wraps two spatial\nautocorrelation statistics: *Moran\\'s I* and *Geary\\'s C. They provide a\nscore on the degree of spatial variability of gene expression. The\nstatistic as well as the p-value are computed for each gene, and FDR\ncorrection is performed. For the purpose of this tutorial, let\\'s\ncompute the*Moran\\'s I\\* score. See\n`sphx_glr_auto_examples_graph_compute_moran.py` for more details.\n"
      ]
    },
    {
      "cell_type": "code",
      "execution_count": null,
      "metadata": {
        "collapsed": false
      },
      "outputs": [],
      "source": [
        "sq.gr.spatial_autocorr(adata, mode=\"moran\")\nadata.uns[\"moranI\"].head(10)"
      ]
    },
    {
      "cell_type": "markdown",
      "metadata": {},
      "source": [
        "The results are stored in [adata.uns\\[\\\"moranI\\\"\\]]{.title-ref} and we\ncan visualize selected genes with `squidpy.pl.spatial_scatter`.\n"
      ]
    },
    {
      "cell_type": "code",
      "execution_count": null,
      "metadata": {
        "collapsed": false
      },
      "outputs": [],
      "source": [
        "sq.pl.spatial_scatter(\n    adata,\n    shape=None,\n    color=[\"Ttr\", \"Plp1\", \"Mbp\", \"Hpca\", \"Enpp2\"],\n    size=0.1,\n)"
      ]
    }
  ],
  "metadata": {
    "kernelspec": {
      "display_name": "Python 3",
      "language": "python",
      "name": "python3"
    },
    "language_info": {
      "codemirror_mode": {
        "name": "ipython",
        "version": 3
      },
      "file_extension": ".py",
      "mimetype": "text/x-python",
      "name": "python",
      "nbconvert_exporter": "python",
      "pygments_lexer": "ipython3",
      "version": "3.9.12"
    }
  },
  "nbformat": 4,
  "nbformat_minor": 0
}