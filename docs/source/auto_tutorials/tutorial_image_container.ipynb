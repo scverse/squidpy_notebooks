{
  "cells": [
    {
      "cell_type": "code",
      "execution_count": null,
      "metadata": {
        "collapsed": false
      },
      "outputs": [],
      "source": [
        "%matplotlib inline"
      ]
    },
    {
      "cell_type": "markdown",
      "metadata": {},
      "source": [
        "# ImageContainer object\n\nThis tutorial shows how to use `squidpy.im.ImageContainer` to interact\nwith image structured data.\n\nThe ImageContainer is the central object in Squidpy containing the high\nresolution images. It wraps `xarray.Dataset` and provides different\ncropping, processing, and feature extraction functions.\n\n::: seealso\nFor more details on specific `squidpy.im.ImageContainer` functions, have\na look at the following examples:\n\n> -   [Interactive visualization with\n>     Napari](../external_tutorials/tutorial_napari.ipynb).\n> -   `sphx_glr_auto_tutorials_tutorial_image_container_zstacks.py`.\n> -   `sphx_glr_auto_examples_image_compute_crops.py`.\n> -   `sphx_glr_auto_examples_image_compute_show.py`.\n:::\n"
      ]
    },
    {
      "cell_type": "code",
      "execution_count": null,
      "metadata": {
        "collapsed": false
      },
      "outputs": [],
      "source": [
        "import squidpy as sq\n\nimport numpy as np"
      ]
    },
    {
      "cell_type": "markdown",
      "metadata": {},
      "source": [
        "# Initialize ImageContainer\n\nThe `squidpy.im.ImageContainer` constructor can read in memory\n`numpy.ndarray`/`xarray.DataArray` or on-disk image files. The\n[ImageContainer]{.title-ref} can store multiple image layers (for\nexample an image and a matching segmentation mask).\n\nImages are expected to have at least a [x]{.title-ref} and\n[y]{.title-ref} dimension, with optional [channel]{.title-ref} and\n[z]{.title-ref} dimensions. Here, we will focus on 2D images without at\n[z]{.title-ref} dimension, see\n`sphx_glr_auto_tutorials_tutorial_image_container_zstacks.py` for a\ntutorial on how to use z-stacks with [ImageContainer]{.title-ref}.\n\nMost important arguments upon initialization are:\n\n> -   [img]{.title-ref} - the image.\n> -   [layer]{.title-ref} - the name of the image layer.\n> -   [dims]{.title-ref} - to specify the dimensions names of\n>     [img]{.title-ref}.\n> -   [lazy]{.title-ref} - set to True to allow lazy computations.\n> -   [scale]{.title-ref} - set this to the scaling factor between the\n>     image and the coordinates saved.\n\nLet us see these arguments in action with a toy example.\n"
      ]
    },
    {
      "cell_type": "code",
      "execution_count": null,
      "metadata": {
        "collapsed": false
      },
      "outputs": [],
      "source": [
        "arr = np.ones((100, 100, 3))\narr[40:60, 40:60] = [0, 0.7, 1]\n\nprint(arr.shape)\nimg = sq.im.ImageContainer(arr, layer=\"img1\")\nimg"
      ]
    },
    {
      "cell_type": "markdown",
      "metadata": {},
      "source": [
        "[img]{.title-ref} now contains one layer, [img1]{.title-ref}. The\ndefault value of [dims]{.title-ref} expects the image to have dimensions\n`y, x, channels` or `y, x, z, channels`. If the image has different\ndimensions, you can specify another strategy or a tuple of dimension\nnames:\n"
      ]
    },
    {
      "cell_type": "code",
      "execution_count": null,
      "metadata": {
        "collapsed": false
      },
      "outputs": [],
      "source": [
        "arr1 = arr.transpose(2, 0, 1)\nprint(arr1.shape)\nimg = sq.im.ImageContainer(arr1, dims=(\"channels\", \"y\", \"x\"), layer=\"img1\")\nimg"
      ]
    },
    {
      "cell_type": "markdown",
      "metadata": {},
      "source": [
        "# Add layers to ImageContainer\n\nYou can add image layers into the ImageContainer using\n`squidpy.im.ImageContainer.add_img`.\n\nThe new layer has to share [x]{.title-ref}, [y]{.title-ref} (and\n[z]{.title-ref}) dimensions with the already existing image. It can have\ndifferent channel dimensions. This is useful for add e.g., segmentation\nmasks.\n\nBy default, unique layer and channel dimension names are chosen, you can\nspecify them using the [layer]{.title-ref} and [dims]{.title-ref}\narguments.\n"
      ]
    },
    {
      "cell_type": "code",
      "execution_count": null,
      "metadata": {
        "collapsed": false
      },
      "outputs": [],
      "source": [
        "arr_seg = np.zeros((100, 100))\narr_seg[40:60, 40:60] = 1\n\nimg.add_img(arr_seg, layer=\"seg1\")\nimg"
      ]
    },
    {
      "cell_type": "markdown",
      "metadata": {},
      "source": [
        "For convenience, you can also assign image layers directly using the new\nlayer name:\n"
      ]
    },
    {
      "cell_type": "code",
      "execution_count": null,
      "metadata": {
        "collapsed": false
      },
      "outputs": [],
      "source": [
        "img[\"seg2\"] = arr_seg\nimg"
      ]
    },
    {
      "cell_type": "markdown",
      "metadata": {},
      "source": [
        "You can get a list of layers contained in an ImageContainer, and access\nspecific image-structured arrays using their names:\n"
      ]
    },
    {
      "cell_type": "code",
      "execution_count": null,
      "metadata": {
        "collapsed": false
      },
      "outputs": [],
      "source": [
        "print(list(img))\nimg[\"img1\"]"
      ]
    },
    {
      "cell_type": "markdown",
      "metadata": {},
      "source": [
        "Renaming of image layers is also possible using\n`squidpy.im.ImageContainer.rename`:\n"
      ]
    },
    {
      "cell_type": "code",
      "execution_count": null,
      "metadata": {
        "collapsed": false
      },
      "outputs": [],
      "source": [
        "img.rename(\"seg2\", \"new-name\")"
      ]
    },
    {
      "cell_type": "markdown",
      "metadata": {},
      "source": [
        "# Visualization\n\nUse `squidpy.im.ImageContainer.show` to visualize (small) images\nstatically. See `sphx_glr_auto_examples_image_compute_show.py` for more\ndetails.\n\nFor large images and for interactive visualization of\n`squidpy.im.ImageContainer` together with spatial \\'omics data, we\nrecommend using `squidpy.im.ImageContainer.interactive`, which uses\nNapari. See [Interactive visualization with\nNapari](../external_tutorials/tutorial_napari.ipynb) for more details.\n"
      ]
    },
    {
      "cell_type": "code",
      "execution_count": null,
      "metadata": {
        "collapsed": false
      },
      "outputs": [],
      "source": [
        "img.show(layer=\"img1\")"
      ]
    },
    {
      "cell_type": "markdown",
      "metadata": {},
      "source": [
        "# Crop and scale images\n\nImages can be cropped and scaled using\n`squidpy.im.ImageContainer.crop_corner` and\n`squidpy.im.ImageContainer.crop_center`. See\n`sphx_glr_auto_examples_image_compute_crops.py` for more details.\n"
      ]
    },
    {
      "cell_type": "code",
      "execution_count": null,
      "metadata": {
        "collapsed": false
      },
      "outputs": [],
      "source": [
        "crop1 = img.crop_corner(30, 40, size=(30, 30), scale=1)\ncrop1.show(layer=\"img1\")\n\ncrop2 = crop1.crop_corner(0, 0, size=(40, 40), scale=0.5)\ncrop2.show(layer=\"img1\")"
      ]
    },
    {
      "cell_type": "markdown",
      "metadata": {},
      "source": [
        "Internally, the [ImageContainer]{.title-ref} keeps track of the crop\ncoordinates in the dataset attributes. This enables mapping from cropped\n[ImageContainers]{.title-ref} to observations in [adata]{.title-ref} for\ninteractive visualization and feature extraction.\n\nUsing `squidpy.im.ImageContainer.uncrop`, we can reconstruct the\noriginal image. Even when chaining multiple calls to `crop`, `uncrop`\ncorrectly places the crop in the image. Note that `uncrop` only undoes\nthe cropping, not the scaling.\n"
      ]
    },
    {
      "cell_type": "code",
      "execution_count": null,
      "metadata": {
        "collapsed": false
      },
      "outputs": [],
      "source": [
        "print(crop1.data.attrs)\nprint(crop2.data.attrs)\n\nsq.im.ImageContainer.uncrop([crop1], shape=img.shape).show(layer=\"img1\")\nsq.im.ImageContainer.uncrop([crop2], shape=(50, 50)).show(layer=\"img1\")"
      ]
    },
    {
      "cell_type": "markdown",
      "metadata": {},
      "source": [
        "After cropping the ImageContainer, you can subset the associated\n[adata]{.title-ref} to the cropped image using\n`squidpy.im.ImageContainer.subset`. See\n`sphx_glr_auto_examples_image_compute_crops.py` for an example.\n"
      ]
    },
    {
      "cell_type": "markdown",
      "metadata": {},
      "source": [
        "# Processing images and extracting features\n\nThe main purpose of ImageContainer is to allow efficient image\nprocessing, segmentation and features extraction.\n\nFor details on each of these steps, have a look a the following examples\nusing the high-level API:\n\n> -   `sphx_glr_auto_examples_image_compute_process_hires.py` for\n>     `sq.im.process`.\n> -   `sphx_glr_auto_examples_image_compute_segment_fluo.py` for\n>     `sq.im.segment`.\n> -   `sphx_glr_auto_examples_image_compute_features.py` for\n>     `sq.im.extract_features`.\n\nThese functions are build to be general and flexible. All of them allow\nyou to pass custom processing and feature extraction functions for easy\nuse of external packages with Squidpy.\n\nFor even more control, you can also use low-level functions provided by\n\\`ImageContainer\\`:\n\n> -   `sq.im.ImageContainer.apply` for custom processing functions that\n>     should be applied to a specific image layer.\n> -   `sq.im.ImageContainner.feature_custom` for extracting features.\n\nThere are two generators, that allow you to iterate over a sequence of\nimage crops and apply processing functions to smaller crops (e.g. to\nallow parallelization or processing images that won\\'t fit in memory:\n\n> -   `sq.im.ImageContainer.generate_equal_crops`, for evenly\n>     decomposing the image into equally sized crops.\n> -   `sq.im.ImageContainer.generate_spot_crops`, for extracting image\n>     crops for each observation in the associated [adata]{.title-ref}.\n"
      ]
    },
    {
      "cell_type": "markdown",
      "metadata": {},
      "source": [
        "# Internal representation of images\n\nInternally, the images are represented in a `xarray.Dataset`. You can\naccess this dataset using `img.data`.\n"
      ]
    },
    {
      "cell_type": "code",
      "execution_count": null,
      "metadata": {
        "collapsed": false
      },
      "outputs": [],
      "source": [
        "img.data"
      ]
    },
    {
      "cell_type": "markdown",
      "metadata": {},
      "source": [
        "Whenever possible, images are represented as lazy `dask` arrays. This\nallows lazy computations, which only load and compute the data when it\nis required.\n\nLet us load an on-disk image that is provided by the `squidpy.datasets`\nmodule: By default, the [lazy]{.title-ref} argument is\n[True]{.title-ref}, therefore resulting in a `dask.array.Array`.\n"
      ]
    },
    {
      "cell_type": "code",
      "execution_count": null,
      "metadata": {
        "collapsed": false
      },
      "outputs": [],
      "source": [
        "img_on_disk = sq.datasets.visium_hne_image()\nprint(type(img_on_disk[\"image\"].data))"
      ]
    },
    {
      "cell_type": "markdown",
      "metadata": {},
      "source": [
        "We can use `squidpy.im.ImageContainer.compute` to force loading of the\ndata:\n"
      ]
    },
    {
      "cell_type": "code",
      "execution_count": null,
      "metadata": {
        "collapsed": false
      },
      "outputs": [],
      "source": [
        "img_on_disk.compute()\nprint(type(img_on_disk[\"image\"].data))"
      ]
    },
    {
      "cell_type": "markdown",
      "metadata": {},
      "source": [
        "ImageContainers can be saved and loaded from a *Zarr* store, using\n`squidpy.im.ImageContainer.save` and `squidpy.im.ImageContainer.load`.\n"
      ]
    }
  ],
  "metadata": {
    "kernelspec": {
      "display_name": "Python 3",
      "language": "python",
      "name": "python3"
    },
    "language_info": {
      "codemirror_mode": {
        "name": "ipython",
        "version": 3
      },
      "file_extension": ".py",
      "mimetype": "text/x-python",
      "name": "python",
      "nbconvert_exporter": "python",
      "pygments_lexer": "ipython3",
      "version": "3.9.10"
    }
  },
  "nbformat": 4,
  "nbformat_minor": 0
}