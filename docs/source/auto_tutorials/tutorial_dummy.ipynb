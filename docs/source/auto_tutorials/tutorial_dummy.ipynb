{
  "cells": [
    {
      "cell_type": "code",
      "execution_count": null,
      "metadata": {
        "collapsed": false
      },
      "outputs": [],
      "source": [
        "%matplotlib inline"
      ]
    },
    {
      "cell_type": "markdown",
      "metadata": {},
      "source": [
        "This is a dummy tutorial\n========================\n"
      ]
    },
    {
      "cell_type": "code",
      "execution_count": null,
      "metadata": {
        "collapsed": false
      },
      "outputs": [],
      "source": [
        "from anndata import AnnData\n\nimport numpy as np\n\n# import squidpy as sp  # TODO: import me once it's public"
      ]
    },
    {
      "cell_type": "markdown",
      "metadata": {},
      "source": [
        "Initialize the `anndata`{.interpreted-text role=\"mod\"} object.\n"
      ]
    },
    {
      "cell_type": "code",
      "execution_count": null,
      "metadata": {
        "collapsed": false
      },
      "outputs": [],
      "source": [
        "r = np.random.RandomState(100)\nadata = AnnData(r.rand(200, 100), obs={\"cluster\": r.randint(0, 3, 200)})  # this is a regular comment\nadata"
      ]
    },
    {
      "cell_type": "markdown",
      "metadata": {},
      "source": [
        "This is a new cell. We can reference the docs as\n`squidpy.gr.moran`{.interpreted-text role=\"func\"}. Note than any such\nreferences or code usage will be automatically linked under that\nfunction. See example at\n`sphx_glr_auto_examples_graph_compute_dummy.py`{.interpreted-text\nrole=\"ref\"}.\n"
      ]
    },
    {
      "cell_type": "code",
      "execution_count": null,
      "metadata": {
        "collapsed": false
      },
      "outputs": [],
      "source": [
        "adata.obsm[\"spatial\"] = np.stack([r.randint(0, 500, 200), r.randint(0, 500, 200)], axis=1)\n# sp.gr.spatial_connectivity(adata, obsm=\"spatial\", n_rings=2)  # TODO\nadata"
      ]
    }
  ],
  "metadata": {
    "kernelspec": {
      "display_name": "Python 3",
      "language": "python",
      "name": "python3"
    },
    "language_info": {
      "codemirror_mode": {
        "name": "ipython",
        "version": 3
      },
      "file_extension": ".py",
      "mimetype": "text/x-python",
      "name": "python",
      "nbconvert_exporter": "python",
      "pygments_lexer": "ipython3",
      "version": "3.8.5"
    }
  },
  "nbformat": 4,
  "nbformat_minor": 0
}