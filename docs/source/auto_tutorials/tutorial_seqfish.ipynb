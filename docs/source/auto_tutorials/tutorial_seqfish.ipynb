{
  "cells": [
    {
      "cell_type": "code",
      "execution_count": null,
      "metadata": {
        "collapsed": false
      },
      "outputs": [],
      "source": [
        "%matplotlib inline"
      ]
    },
    {
      "cell_type": "markdown",
      "metadata": {},
      "source": [
        "Analyze seqFISH data\n====================\n\nThis tutorial shows how to apply Squidpy for the analysis of seqFISH\ndata.\n\nThe data used here was obtained from `lohoff2020highly`. We provide a\npre-processed subset of the data, in `anndata.AnnData` format. For\ndetails on how it was pre-processed, please refer to the original paper.\n\n::: {.seealso}\nSee `sphx_glr_auto_tutorials_tutorial_imc.py` for additional analysis\nexamples.\n:::\n\nImport packages & data\n----------------------\n\nTo run the notebook locally, create a conda environment as *conda create\n-f environment.yml* using this\n[environment.yml](https://github.com/theislab/squidpy_notebooks/blob/master/environment.yml)\n"
      ]
    },
    {
      "cell_type": "code",
      "execution_count": null,
      "metadata": {
        "collapsed": false
      },
      "outputs": [],
      "source": [
        "import scanpy as sc\nimport squidpy as sq\n\nimport numpy as np\n\nsc.logging.print_header()\nprint(f\"squidpy=={sq.__version__}\")\n\n# load the pre-processed dataset\nadata = sq.datasets.seqfish()"
      ]
    },
    {
      "cell_type": "markdown",
      "metadata": {},
      "source": [
        "First, let\\'s visualize cluster annotation in spatial context with\n`scanpy.pl.spatial`.\n"
      ]
    },
    {
      "cell_type": "code",
      "execution_count": null,
      "metadata": {
        "collapsed": false
      },
      "outputs": [],
      "source": [
        "sc.pl.spatial(adata, color=\"celltype_mapped_refined\", spot_size=0.03)"
      ]
    },
    {
      "cell_type": "markdown",
      "metadata": {},
      "source": [
        "Neighborhood enrichment analysis\n================================\n\nSimilar to other spatial data, we can investigate spatial organization\nof clusters in a quantitative way, by computing a neighborhood\nenrichment score. You can compute such score with the following\nfunction: `squidpy.gr.nhood_enrichment`. In short, it\\'s an enrichment\nscore on spatial proximity of clusters: if spots belonging to two\ndifferent clusters are often close to each other, then they will have a\nhigh score and can be defined as being *enriched*. On the other hand, if\nthey are far apart, the score will be low and they can be defined as\n*depleted*. This score is based on a permutation-based test, and you can\nset the number of permutations with the [n\\_perms]{.title-ref} argument\n(default is 1000).\n\nSince the function works on a connectivity matrix, we need to compute\nthat as well. This can be done with `squidpy.gr.spatial_neighbors`.\nPlease see `sphx_glr_auto_examples_graph_compute_spatial_neighbors.py`\nfor more details of how this function works.\n\nFinally, we\\'ll directly visualize the results with\n`squidpy.pl.nhood_enrichment`. We\\'ll add a dendrogram to the heatmap\ncomputed with linkage method *ward*.\n"
      ]
    },
    {
      "cell_type": "code",
      "execution_count": null,
      "metadata": {
        "collapsed": false
      },
      "outputs": [],
      "source": [
        "sq.gr.spatial_neighbors(adata)\nsq.gr.nhood_enrichment(adata, cluster_key=\"celltype_mapped_refined\")\nsq.pl.nhood_enrichment(adata, cluster_key=\"celltype_mapped_refined\", method=\"ward\")"
      ]
    },
    {
      "cell_type": "markdown",
      "metadata": {},
      "source": [
        "A similar analysis was performed in the original publication\n`lohoff2020highly`, and we can appreciate to what extent results\noverlap. For instance, there seems to be an enrichment between the\n*Lateral plate mesoderm*, the *Intermediate mesoderm* and a milder\nenrichment for *Allantois* cells. As in the original publication, there\nalso seems to be an association between the *Endothelium* and the\n*Haematoendothelial progenitors*. Of course, results do not perfectly\noverlap, and this could be due to several factors:\n\n-   the construction of the neighbors graph (which in our case is not\n    informed by the radius, as we did not have access to this\n    information) and by\n-   the number of permutation of the neighborhood enrichment (500 in the\n    original publication against the default 1000 in our\n    implementation).\n\nWe can also visualize the spatial organization of cells again, and\nappreciate the proximity of specific cell clusters. For this, we\\'ll use\n`scanpy.pl.spatial` again.\n"
      ]
    },
    {
      "cell_type": "code",
      "execution_count": null,
      "metadata": {
        "collapsed": false
      },
      "outputs": [],
      "source": [
        "sc.pl.spatial(\n    adata,\n    color=\"celltype_mapped_refined\",\n    groups=[\n        \"Endothelium\",\n        \"Haematoendothelial progenitors\",\n        \"Allantois\",\n        \"Lateral plate mesoderm\",\n        \"Intermediate mesoderm\",\n        \"Presomitic mesoderm\",\n    ],\n    spot_size=0.03,\n)"
      ]
    },
    {
      "cell_type": "markdown",
      "metadata": {},
      "source": [
        "Co-occurrence across spatial dimensions\n=======================================\n\nIn addition to the neighbor enrichment score, we can visualize cluster\nco-occurrence in spatial dimensions. This is a similar analysis of the\none presented above, yet it does not operate on the connectivity matrix,\nbut on the original spatial coordinates. The co-occurrence score is\ndefined as:\n\n$$\\frac{p(exp|cond)}{p(exp)}$$\n\nwhere $p(exp|cond)$ is the conditional probability of observing a\ncluster $exp$ conditioned on the presence of a cluster $cond$, whereas\n$p(exp)$ is the probability of observing $exp$ in the radius size of\ninterest. The score is computed across increasing radii size around each\ncell in the tissue.\n\nWe can compute this score with `squidpy.gr.co_occurrence` and set the\ncluster annotation for the conditional probability with the argument\n`clusters`. Then, we visualize the results with\n`squidpy.pl.co_occurrence`.\n"
      ]
    },
    {
      "cell_type": "code",
      "execution_count": null,
      "metadata": {
        "collapsed": false
      },
      "outputs": [],
      "source": [
        "sq.gr.co_occurrence(adata, cluster_key=\"celltype_mapped_refined\")\nsq.pl.co_occurrence(\n    adata,\n    cluster_key=\"celltype_mapped_refined\",\n    clusters=\"Lateral plate mesoderm\",\n    figsize=(10, 5),\n)"
      ]
    },
    {
      "cell_type": "markdown",
      "metadata": {},
      "source": [
        "It seems to recapitulate a previous observation, that there is a\nco-occurrence between the conditional cell type annotation *Lateral\nplate mesoderm* and the clusters *Intermediate mesoderm* and\n*Allantois*. It also seems that at longer distances, there is a\nco-occurrence of cells belonging to the *Presomitic mesoderm* cluster.\nBy visualizing the full tissue as before we can indeed appreciate that\nthese cell types seems to form a defined clusters relatively close to\nthe *Lateral plate mesoderm* cells. It should be noted that the distance\nunits corresponds to the spatial coordinates saved in\n[adata.obsm\\[\\\"spatial\\\"\\]]{.title-ref}.\n"
      ]
    },
    {
      "cell_type": "markdown",
      "metadata": {},
      "source": [
        "Ligand-receptor interaction analysis\n====================================\n\nThe analysis showed above has provided us with quantitative information\non cellular organization and communication at the tissue level. We might\nbe interested in getting a list of potential candidates that might be\ndriving such cellular communication. This naturally translates in doing\na ligand-receptor interaction analysis. In Squidpy, we provide a fast\nre-implementation the popular method CellPhoneDB `cellphonedb`\n([code](https://github.com/Teichlab/cellphonedb) ) and extended its\ndatabase of annotated ligand-receptor interaction pairs with the popular\ndatabase *Omnipath* `omnipath`. You can run the analysis for all\nclusters pairs, and all genes (in seconds, without leaving this\nnotebook), with `squidpy.gr.ligrec`.\n\nLet\\'s perform the analysis and visualize the result for three clusters\nof interest: *Lateral plate mesoderm*, *Intermediate mesoderm* and\n*Allantois*. For the visualization, we will filter out annotations with\nlow-expressed genes (with the `means_range` argument) and decreasing the\nthreshold for the adjusted p-value (with the `alpha` argument)\n"
      ]
    },
    {
      "cell_type": "code",
      "execution_count": null,
      "metadata": {
        "collapsed": false
      },
      "outputs": [],
      "source": [
        "sq.gr.ligrec(\n    adata,\n    n_perms=100,\n    cluster_key=\"celltype_mapped_refined\",\n)\nsq.pl.ligrec(\n    adata,\n    cluster_key=\"celltype_mapped_refined\",\n    source_groups=\"Lateral plate mesoderm\",\n    target_groups=[\"Intermediate mesoderm\", \"Allantois\"],\n    means_range=(0.3, np.inf),\n    alpha=1e-4,\n    swap_axes=True,\n)"
      ]
    },
    {
      "cell_type": "markdown",
      "metadata": {},
      "source": [
        "The dotplot visualization provides an interesting set of candidate\ninteractions that could be involved in the tissue organization of the\ncell types of interest. It should be noted that this method is a pure\nre-implementation of the original permutation-based test, and therefore\nretains all its caveats and should be interpreted accordingly.\n"
      ]
    }
  ],
  "metadata": {
    "kernelspec": {
      "display_name": "Python 3",
      "language": "python",
      "name": "python3"
    },
    "language_info": {
      "codemirror_mode": {
        "name": "ipython",
        "version": 3
      },
      "file_extension": ".py",
      "mimetype": "text/x-python",
      "name": "python",
      "nbconvert_exporter": "python",
      "pygments_lexer": "ipython3",
      "version": "3.8.5"
    }
  },
  "nbformat": 4,
  "nbformat_minor": 0
}