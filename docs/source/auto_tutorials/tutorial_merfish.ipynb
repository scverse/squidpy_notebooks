{
  "cells": [
    {
      "cell_type": "code",
      "execution_count": null,
      "metadata": {
        "collapsed": false
      },
      "outputs": [],
      "source": [
        "%matplotlib inline"
      ]
    },
    {
      "cell_type": "markdown",
      "metadata": {},
      "source": [
        "Analyze Merfish data\n====================\n\nThis tutorial shows how to apply Squidpy for the analysis of Merfish\ndata.\n\nThe data used here was obtained from `Moffitt2018-me`. We provide a\npre-processed subset of the data, in `anndata.AnnData` format. For\ndetails on how it was pre-processed, please refer to the original paper.\n\n::: {.seealso}\nSee `sphx_glr_auto_tutorials_tutorial_slideseqv2.py` and\n`sphx_glr_auto_tutorials_tutorial_seqfish.py` for additional analysis\nexamples.\n:::\n\nImport packages & data\n----------------------\n\nTo run the notebook locally, create a conda environment as *conda env\ncreate -f environment.yml* using this\n[environment.yml](https://github.com/theislab/squidpy_notebooks/blob/master/environment.yml).\n"
      ]
    },
    {
      "cell_type": "code",
      "execution_count": null,
      "metadata": {
        "collapsed": false
      },
      "outputs": [],
      "source": [
        "import scanpy as sc\nimport squidpy as sq\n\nsc.logging.print_header()\nprint(f\"squidpy=={sq.__version__}\")\n\n# load the pre-processed dataset\nadata = sq.datasets.merfish()\nadata"
      ]
    },
    {
      "cell_type": "markdown",
      "metadata": {},
      "source": [
        "This datasets consists of consecutive slices from the mouse hypothalamic\npreoptic region. It represents an interesting example of how to work\nwith 3D spatial data in Squidpy. Let\\'s start with visualization: we can\neither visualize the 3D stack of slides using `scanpy.pl.embedding`:\n"
      ]
    },
    {
      "cell_type": "code",
      "execution_count": null,
      "metadata": {
        "collapsed": false
      },
      "outputs": [],
      "source": [
        "sc.pl.embedding(adata, basis=\"spatial3d\", projection=\"3d\", color=\"Cell_class\")"
      ]
    },
    {
      "cell_type": "markdown",
      "metadata": {},
      "source": [
        "Or visualize a single slide with `scanpy.pl.spatial`. Here the slide\nidentifier is stored in [adata.obs\\[\\\"Bregma\\\"\\]]{.title-ref}, see\noriginal paper for definition.\n"
      ]
    },
    {
      "cell_type": "code",
      "execution_count": null,
      "metadata": {
        "collapsed": false
      },
      "outputs": [],
      "source": [
        "sc.pl.spatial(adata[adata.obs.Bregma == -9], color=\"Cell_class\", spot_size=0.01)"
      ]
    },
    {
      "cell_type": "markdown",
      "metadata": {},
      "source": [
        "Neighborhood enrichment analysis in 3D\n======================================\n\nIt is important to consider whether the analysis should be performed on\nthe 3D spatial coordinates or the 2D coordinates for a single slice.\nFunctions that make use of the spatial graph can already support 3D\ncoordinates, but it is important to consider that the z-stack coordinate\nis in the same unit metrics as the x, y coordinates. Let\\'s start with\nthe neighborhood enrichment score. You can read more on the function in\nthe docs at `sphx_glr_auto_examples_graph_compute_spatial_neighbors.py`.\nFirst, we need to compute a neighbor graph with\n`squidpy.gr.spatial_neighbors`. If we want to compute the neighbor graph\non the 3D coordinate space, we need to specify\n`spatial_key = \"spatial3d\"`. Then we can use\n`squidpy.gr.nhood_enrichment` to compute the score, and visualize it\nwith `squidpy.gr.nhood_enrichment`.\n"
      ]
    },
    {
      "cell_type": "code",
      "execution_count": null,
      "metadata": {
        "collapsed": false
      },
      "outputs": [],
      "source": [
        "sq.gr.spatial_neighbors(adata, coord_type=\"generic\", spatial_key=\"spatial3d\")\nsq.gr.nhood_enrichment(adata, cluster_key=\"Cell_class\")\nsq.pl.nhood_enrichment(adata, cluster_key=\"Cell_class\", method=\"single\", cmap=\"inferno\", vmin=-50, vmax=100)"
      ]
    },
    {
      "cell_type": "markdown",
      "metadata": {},
      "source": [
        "We can visualize some of the co-enriched clusters with\n`scanpy.pl.embedding`. We will set [na\\_colors=(1,1,1,0)]{.title-ref} to\nmake transparent the other observations, in order to better visualize\nthe clusters of interests across z-stacks.\n"
      ]
    },
    {
      "cell_type": "code",
      "execution_count": null,
      "metadata": {
        "collapsed": false
      },
      "outputs": [],
      "source": [
        "sc.pl.embedding(\n    adata,\n    basis=\"spatial3d\",\n    groups=[\"OD Mature 1\", \"OD Mature 2\", \"OD Mature 4\"],\n    na_color=(1, 1, 1, 0),\n    projection=\"3d\",\n    color=\"Cell_class\",\n)"
      ]
    },
    {
      "cell_type": "markdown",
      "metadata": {},
      "source": [
        "We can also visualize gene expression in 3D coordinates. Let\\'s perform\ndifferential expression testing with `scanpy.tl.rank_genes_groups` and\nvisualize the results\n"
      ]
    },
    {
      "cell_type": "code",
      "execution_count": null,
      "metadata": {
        "collapsed": false
      },
      "outputs": [],
      "source": [
        "sc.tl.rank_genes_groups(adata, groupby=\"Cell_class\")\nsc.pl.rank_genes_groups(adata, groupby=\"Cell_class\")"
      ]
    },
    {
      "cell_type": "markdown",
      "metadata": {},
      "source": [
        "and the expression in 3D.\n"
      ]
    },
    {
      "cell_type": "code",
      "execution_count": null,
      "metadata": {
        "collapsed": false
      },
      "outputs": [],
      "source": [
        "sc.pl.embedding(adata, basis=\"spatial3d\", projection=\"3d\", color=[\"Gad1\", \"Mlc1\"])"
      ]
    },
    {
      "cell_type": "markdown",
      "metadata": {},
      "source": [
        "If the same analysis should be performed on a single slice, then it is\nadvisable to copy the sample of interest in a new `anndata.AnnData` and\nuse it as a standard 2D spatial data object.\n"
      ]
    },
    {
      "cell_type": "code",
      "execution_count": null,
      "metadata": {
        "collapsed": false
      },
      "outputs": [],
      "source": [
        "adata_slice = adata[adata.obs.Bregma == -9].copy()\nsq.gr.spatial_neighbors(adata_slice, coord_type=\"generic\")\nsq.gr.nhood_enrichment(adata, cluster_key=\"Cell_class\")\nsc.pl.spatial(\n    adata_slice,\n    color=\"Cell_class\",\n    groups=[\"Ependymal\", \"Pericytes\", \"Endothelial 2\"],\n    spot_size=0.01,\n)"
      ]
    },
    {
      "cell_type": "markdown",
      "metadata": {},
      "source": [
        "Spatially variable genes with spatial autocorrelation statistics\n================================================================\n\nWith Squidpy we can investigate spatial variability of gene expression.\nThis is an example of a function that only supports 2D data.\n`squidpy.gr.spatial_autocorr` conveniently wraps two spatial\nautocorrelation statistics: *Moran\\'s I* and *Geary\\'s C*. They provide\na score on the degree of spatial variability of gene expression. The\nstatistic as well as the p-value are computed for each gene, and FDR\ncorrection is performed. For the purpose of this tutorial, let\\'s\ncompute the *Moran\\'s I* score. The results are stored in\n[adata.uns\\[\\'moranI\\'\\]]{.title-ref} and we can visualize selected\ngenes with `scanpy.pl.spatial`.\n"
      ]
    },
    {
      "cell_type": "code",
      "execution_count": null,
      "metadata": {
        "collapsed": false
      },
      "outputs": [],
      "source": [
        "sq.gr.spatial_autocorr(adata_slice, mode=\"moran\")\nadata_slice.uns[\"moranI\"].head()\nsc.pl.spatial(\n    adata_slice,\n    color=[\"Cd24a\", \"Necab1\", \"Mlc1\"],\n    spot_size=0.01,\n)"
      ]
    }
  ],
  "metadata": {
    "kernelspec": {
      "display_name": "Python 3",
      "language": "python",
      "name": "python3"
    },
    "language_info": {
      "codemirror_mode": {
        "name": "ipython",
        "version": 3
      },
      "file_extension": ".py",
      "mimetype": "text/x-python",
      "name": "python",
      "nbconvert_exporter": "python",
      "pygments_lexer": "ipython3",
      "version": "3.8.10"
    }
  },
  "nbformat": 4,
  "nbformat_minor": 0
}