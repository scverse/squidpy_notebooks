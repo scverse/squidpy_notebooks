{
  "cells": [
    {
      "cell_type": "code",
      "execution_count": null,
      "metadata": {
        "collapsed": false
      },
      "outputs": [],
      "source": [
        "%matplotlib inline"
      ]
    },
    {
      "cell_type": "markdown",
      "metadata": {},
      "source": [
        "# Analyze Imaging Mass Cytometry data\n\nThis tutorial shows how to apply Squidpy to Imaging Mass Cytometry data.\n\nThe data used here comes from a recent paper from `jackson2020single`.\nWe provide a pre-processed subset of the data, in `anndata.AnnData`\nformat. For details on how it was pre-processed, please refer to the\noriginal paper.\n\n::: seealso\nSee `sphx_glr_auto_tutorials_tutorial_seqfish.py` for additional\nanalysis examples.\n:::\n\n## Import packages & data\n\nTo run the notebook locally, create a conda environment as *conda env\ncreate -f environment.yml* using this\n[environment.yml](https://github.com/scverse/squidpy_notebooks/blob/main/environment.yml).\n"
      ]
    },
    {
      "cell_type": "code",
      "execution_count": null,
      "metadata": {
        "collapsed": false
      },
      "outputs": [],
      "source": [
        "import squidpy as sq\n\nprint(f\"squidpy=={sq.__version__}\")\n\n# load the pre-processed dataset\nadata = sq.datasets.imc()"
      ]
    },
    {
      "cell_type": "markdown",
      "metadata": {},
      "source": [
        "First, let\\'s visualize the cluster annotation in spatial context with\n`squidpy.pl.spatial_scatter`.\n"
      ]
    },
    {
      "cell_type": "code",
      "execution_count": null,
      "metadata": {
        "collapsed": false
      },
      "outputs": [],
      "source": [
        "sq.pl.spatial_scatter(adata, shape=None, color=\"cell type\", size=10)"
      ]
    },
    {
      "cell_type": "markdown",
      "metadata": {},
      "source": [
        "We can appreciate how the majority of the tissue seems to consist of\n*apoptotic tumor cells*. There also seem to be other cell types\nscattered across the tissue, annotated as *T cells*, *Macrophages* and\ndifferent types of *Stromal cells*. We can also appreciate how a subset\nof tumor cell, *basal CK tumor cells* seems to be located in the lower\npart of the tissue.\n"
      ]
    },
    {
      "cell_type": "markdown",
      "metadata": {},
      "source": [
        "# Co-occurrence across spatial dimensions\n\nWe can visualize cluster co-occurrence in spatial dimensions using the\noriginal spatial coordinates. The co-occurrence score is defined as:\n\n$$\\frac{p(exp|cond)}{p(exp)}$$\n\nwhere $p(exp|cond)$ is the conditional probability of observing a\ncluster $exp$ conditioned on the presence of a cluster $cond$, whereas\n$p(exp)$ is the probability of observing $exp$ in the radius size of\ninterest. The score is computed across increasing radii size around each\ncell in the tissue.\n\nWe can compute this score with `squidpy.gr.co_occurrence` and set the\ncluster annotation for the conditional probability with the argument\n`clusters`. Then, we visualize the results with\n`squidpy.pl.co_occurrence`. We visualize the result for two conditional\ngroups, namely *basal CK tumor cell* and *T cells*.\n"
      ]
    },
    {
      "cell_type": "code",
      "execution_count": null,
      "metadata": {
        "collapsed": false
      },
      "outputs": [],
      "source": [
        "sq.gr.co_occurrence(adata, cluster_key=\"cell type\")\nsq.pl.co_occurrence(\n    adata,\n    cluster_key=\"cell type\",\n    clusters=[\"basal CK tumor cell\", \"T cells\"],\n    figsize=(15, 4),\n)"
      ]
    },
    {
      "cell_type": "markdown",
      "metadata": {},
      "source": [
        "We can observe that *T cells* seems to co-occur with *endothelial* and\n*vimentin hi stromal cells*, whereas *basal CK tumor cell* seem to\nlargely cluster together, except for the presence of a type of stromal\ncells (*small elongated stromal cell*) at close distance.\n"
      ]
    },
    {
      "cell_type": "markdown",
      "metadata": {},
      "source": [
        "# Neighborhood enrichment\n\nA similar analysis that can inform on the neighbor structure of the\ntissue is the *neighborhood enrichment test*. You can compute such score\nwith the following function: `squidpy.gr.nhood_enrichment`. In short,\nit\\'s an enrichment score on spatial proximity of clusters: if spots\nbelonging to two different clusters are often close to each other, then\nthey will have a high score and can be defined as being *enriched*. On\nthe other hand, if they are far apart, the score will be low and they\ncan be defined as *depleted*. This score is based on a permutation-based\ntest, and you can set the number of permutations with the `n_perms`\nargument (default is 1000).\n\nSince the function works on a connectivity matrix, we need to compute\nthat as well. This can be done with `squidpy.gr.spatial_neighbors`.\nPlease see `sphx_glr_auto_examples_graph_compute_spatial_neighbors.py`\nfor more details of how this function works.\n\nFinally, we visualize the results with `squidpy.pl.nhood_enrichment`.\n"
      ]
    },
    {
      "cell_type": "code",
      "execution_count": null,
      "metadata": {
        "collapsed": false
      },
      "outputs": [],
      "source": [
        "sq.gr.spatial_neighbors(adata)\nsq.gr.nhood_enrichment(adata, cluster_key=\"cell type\")\nsq.pl.nhood_enrichment(adata, cluster_key=\"cell type\")"
      ]
    },
    {
      "cell_type": "markdown",
      "metadata": {},
      "source": [
        "Interestingly, *T cells* shows an enrichment with *stromal* and\n*endothelial cells*, as well as *macrophages*. Another interesting\nresult is that *apoptotic tumor cells*, being uniformly spread across\nthe tissue area, show a neighbor depletion against any other cluster\n(but a strong enrichment for itself). This is a correct interpretation\nfrom a permutation based approach, because the cluster annotation, being\nuniformly spread across the tissue, and in high number, it\\'s more\nlikely to be enriched with cell types from the same class, rather than\ndifferent one.\n"
      ]
    },
    {
      "cell_type": "markdown",
      "metadata": {},
      "source": [
        "# Interaction matrix and network centralities\n\nSquidpy provides other descriptive statistics of the spatial graph. For\ninstance, the interaction matrix, which counts the number of edges that\neach cluster share with all the others. This score can be computed with\nthe function `squidpy.gr.interaction_matrix`. We can visualize the\nresults with `squidpy.pl.interaction_matrix`.\n"
      ]
    },
    {
      "cell_type": "code",
      "execution_count": null,
      "metadata": {
        "collapsed": false
      },
      "outputs": [],
      "source": [
        "sq.gr.interaction_matrix(adata, cluster_key=\"cell type\")\nsq.pl.interaction_matrix(adata, cluster_key=\"cell type\")"
      ]
    },
    {
      "cell_type": "markdown",
      "metadata": {},
      "source": [
        "Finally, similar to the previous analysis, we can investigate properties\nof the spatial graph by computing different network centralities:\n\n> -   degree_centrality.\n> -   average_clustering.\n> -   closeness_centrality.\n\nSquidpy provides a convenient function for all of them:\n`squidpy.gr.centrality_scores` and `squidpy.pl.centrality_scores` for\nvisualization.\n"
      ]
    },
    {
      "cell_type": "code",
      "execution_count": null,
      "metadata": {
        "collapsed": false
      },
      "outputs": [],
      "source": [
        "sq.gr.centrality_scores(\n    adata,\n    cluster_key=\"cell type\",\n)\nsq.pl.centrality_scores(adata, cluster_key=\"cell type\", figsize=(20, 5), s=500)"
      ]
    },
    {
      "cell_type": "markdown",
      "metadata": {},
      "source": [
        "You can familiarize yourself with network centralities from the\nexcellent `networkx`\n[documentation](https://networkx.org/documentation/stable/reference/algorithms/centrality)\n. For the purpose of this analysis, we can appreciate that the\n*apoptotic tumor cell* clusters shows high closeness centrality,\nindicating that nodes belonging to that group are often close to each\nother in the spatial graph.\n"
      ]
    }
  ],
  "metadata": {
    "kernelspec": {
      "display_name": "Python 3",
      "language": "python",
      "name": "python3"
    },
    "language_info": {
      "codemirror_mode": {
        "name": "ipython",
        "version": 3
      },
      "file_extension": ".py",
      "mimetype": "text/x-python",
      "name": "python",
      "nbconvert_exporter": "python",
      "pygments_lexer": "ipython3",
      "version": "3.9.12"
    }
  },
  "nbformat": 4,
  "nbformat_minor": 0
}