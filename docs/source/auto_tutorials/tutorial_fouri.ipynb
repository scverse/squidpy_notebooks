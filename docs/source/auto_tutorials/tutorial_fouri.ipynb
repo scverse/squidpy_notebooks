{
  "cells": [
    {
      "cell_type": "code",
      "execution_count": null,
      "metadata": {
        "collapsed": false
      },
      "outputs": [],
      "source": [
        "%matplotlib inline"
      ]
    },
    {
      "cell_type": "markdown",
      "metadata": {},
      "source": [
        "# Analyze 4i data\n\nThis tutorial shows how to apply Squidpy for the analysis of 4i data.\n\nThe data used here was obtained from `Gut2018-ap`. We provide a\npre-processed subset of the data, in `anndata.AnnData` format. For\ndetails on how it was pre-processed, please refer to the original paper.\n\n::: seealso\nSee `sphx_glr_auto_tutorials_tutorial_imc.py` for additional analysis\nexamples.\n:::\n\n## Import packages & data\n\nTo run the notebook locally, create a conda environment as *conda env\ncreate -f environment.yml* using this\n[environment.yml](https://github.com/scverse/squidpy_notebooks/blob/main/environment.yml).\n"
      ]
    },
    {
      "cell_type": "code",
      "execution_count": null,
      "metadata": {
        "collapsed": false
      },
      "outputs": [],
      "source": [
        "import squidpy as sq\n\nprint(f\"squidpy=={sq.__version__}\")\n\n# load the pre-processed dataset\nadata = sq.datasets.four_i()"
      ]
    },
    {
      "cell_type": "markdown",
      "metadata": {},
      "source": [
        "First, let\\'s visualize cluster annotation in spatial context with\n`squidpy.pl.spatial_scatter`.\n"
      ]
    },
    {
      "cell_type": "code",
      "execution_count": null,
      "metadata": {
        "collapsed": false
      },
      "outputs": [],
      "source": [
        "sq.pl.spatial_scatter(adata, shape=None, color=\"cluster\", size=1)"
      ]
    },
    {
      "cell_type": "markdown",
      "metadata": {},
      "source": [
        "# Neighborhood enrichment analysis\n\nSimilar to other spatial data, we can investigate spatial organization\nof clusters in a quantitative way, by computing a neighborhood\nenrichment score. You can compute such score with the following\nfunction: `squidpy.gr.nhood_enrichment`. In short, it\\'s an enrichment\nscore on spatial proximity of clusters: if spots belonging to two\ndifferent clusters are often close to each other, then they will have a\nhigh score and can be defined as being *enriched*. On the other hand, if\nthey are far apart, the score will be low and they can be defined as\n*depleted*. This score is based on a permutation-based test, and you can\nset the number of permutations with the [n_perms]{.title-ref} argument\n(default is 1000).\n\nSince the function works on a connectivity matrix, we need to compute\nthat as well. This can be done with `squidpy.gr.spatial_neighbors`.\nPlease see `sphx_glr_auto_examples_graph_compute_spatial_neighbors.py`\nfor more details of how this function works.\n\nFinally, we\\'ll directly visualize the results with\n`squidpy.pl.nhood_enrichment`. We\\'ll add a dendrogram to the heatmap\ncomputed with linkage method *ward*.\n"
      ]
    },
    {
      "cell_type": "code",
      "execution_count": null,
      "metadata": {
        "collapsed": false
      },
      "outputs": [],
      "source": [
        "sq.gr.spatial_neighbors(adata, coord_type=\"generic\")\nsq.gr.nhood_enrichment(adata, cluster_key=\"cluster\")\nsq.pl.nhood_enrichment(adata, cluster_key=\"cluster\", method=\"ward\", vmin=-100, vmax=100)"
      ]
    },
    {
      "cell_type": "markdown",
      "metadata": {},
      "source": [
        "A similar analysis can be performed with\n`squidpy.gr.interaction_matrix`. The function computes the number of\nshared edges in the neighbor graph between clusters. Please see\n`sphx_glr_auto_examples_graph_compute_interaction_matrix.py` for more\ndetails of how this function works.\n"
      ]
    },
    {
      "cell_type": "code",
      "execution_count": null,
      "metadata": {
        "collapsed": false
      },
      "outputs": [],
      "source": [
        "sq.gr.interaction_matrix(adata, cluster_key=\"cluster\")\nsq.pl.interaction_matrix(adata, cluster_key=\"cluster\", method=\"ward\", vmax=20000)"
      ]
    },
    {
      "cell_type": "markdown",
      "metadata": {},
      "source": [
        "Additional analyses to gain quantitative understanding of spatial\npatterning of sub-cellular observations are: -\n`sphx_glr_auto_examples_graph_compute_ripley.py` for Ripley\\'s\nstatistics. - `sphx_glr_auto_examples_graph_compute_co_occurrence.py`\nfor co-occurrence score.\n\n# Spatially variable genes with spatial autocorrelation statistics\n\nWith Squidpy we can investigate spatial variability of gene expression.\nThis is an example of a function that only supports 2D data.\n`squidpy.gr.spatial_autocorr` conveniently wraps two spatial\nautocorrelation statistics: *Moran\\'s I* and *Geary\\'s C*. They provide\na score on the degree of spatial variability of gene expression. The\nstatistic as well as the p-value are computed for each gene, and FDR\ncorrection is performed. For the purpose of this tutorial, let\\'s\ncompute the *Moran\\'s I* score. See\n`sphx_glr_auto_examples_graph_compute_moran.py` for more details.\n"
      ]
    },
    {
      "cell_type": "code",
      "execution_count": null,
      "metadata": {
        "collapsed": false
      },
      "outputs": [],
      "source": [
        "adata.var_names_make_unique()\nsq.gr.spatial_autocorr(adata, mode=\"moran\")\nadata.uns[\"moranI\"].head(10)"
      ]
    },
    {
      "cell_type": "markdown",
      "metadata": {},
      "source": [
        "The results are stored in [adata.uns\\[\\'moranI\\'\\]]{.title-ref} and we\ncan visualize selected genes with `squidpy.pl.spatial_scatter`.\n"
      ]
    },
    {
      "cell_type": "code",
      "execution_count": null,
      "metadata": {
        "collapsed": false
      },
      "outputs": [],
      "source": [
        "sq.pl.spatial_scatter(adata, shape=None, color=\"Yap/Taz\", size=1)"
      ]
    }
  ],
  "metadata": {
    "kernelspec": {
      "display_name": "Python 3",
      "language": "python",
      "name": "python3"
    },
    "language_info": {
      "codemirror_mode": {
        "name": "ipython",
        "version": 3
      },
      "file_extension": ".py",
      "mimetype": "text/x-python",
      "name": "python",
      "nbconvert_exporter": "python",
      "pygments_lexer": "ipython3",
      "version": "3.9.12"
    }
  },
  "nbformat": 4,
  "nbformat_minor": 0
}